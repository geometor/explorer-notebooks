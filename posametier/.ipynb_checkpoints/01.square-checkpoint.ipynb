{
 "cells": [
  {
   "cell_type": "code",
   "execution_count": 1,
   "id": "e4b01b6a-7efe-4bfe-b921-c3be20d023ca",
   "metadata": {},
   "outputs": [],
   "source": [
    "%run ../run.py\n",
    "%matplotlib widget"
   ]
  },
  {
   "cell_type": "code",
   "execution_count": 2,
   "id": "6b027180-a604-4303-a12d-9726e96f20a5",
   "metadata": {},
   "outputs": [],
   "source": [
    "begin_zero()\n",
    "add_element(line(pts[0], pts[1]))\n",
    "\n",
    "square = unit_square(pts[0])\n",
    "add_points(square.vertices)\n"
   ]
  },
  {
   "cell_type": "code",
   "execution_count": 3,
   "id": "79213fc2-857f-4a05-9519-352cf6eed2ed",
   "metadata": {},
   "outputs": [
    {
     "data": {
      "image/png": "[encoded data removed]",
      "image/svg+xml": [
       "<svg xmlns=\"http://www.w3.org/2000/svg\"\n",
       "            xmlns:xlink=\"http://www.w3.org/1999/xlink\"\n",
       "            width=\"100.0\" height=\"100.0\" viewBox=\"0.400000000000000 -0.100000000000000 0.700000000000000 1.20000000000000\"\n",
       "            preserveAspectRatio=\"xMinYMin meet\">\n",
       "            <defs>\n",
       "                <marker id=\"markerCircle\" markerWidth=\"8\" markerHeight=\"8\"\n",
       "                    refx=\"5\" refy=\"5\" markerUnits=\"strokeWidth\">\n",
       "                    <circle cx=\"5\" cy=\"5\" r=\"1.5\" style=\"stroke: none; fill:#000000;\"/>\n",
       "                </marker>\n",
       "                <marker id=\"markerArrow\" markerWidth=\"13\" markerHeight=\"13\" refx=\"2\" refy=\"4\"\n",
       "                       orient=\"auto\" markerUnits=\"strokeWidth\">\n",
       "                    <path d=\"M2,2 L2,6 L6,4\" style=\"fill: #000000;\" />\n",
       "                </marker>\n",
       "                <marker id=\"markerReverseArrow\" markerWidth=\"13\" markerHeight=\"13\" refx=\"6\" refy=\"4\"\n",
       "                       orient=\"auto\" markerUnits=\"strokeWidth\">\n",
       "                    <path d=\"M6,2 L6,6 L2,4\" style=\"fill: #000000;\" />\n",
       "                </marker>\n",
       "            </defs><g transform=\"matrix(1,0,0,-1,0,1.00000000000000)\"><path fill-rule=\"evenodd\" fill=\"#66cc99\" stroke=\"#555555\" stroke-width=\"0.0240000000000000\" opacity=\"0.6\" d=\"M 0.500000000000000,0 L 1.00000000000000,1.00000000000000\" /></g></svg>"
      ],
      "text/latex": [
       "$\\displaystyle Segment2D\\left(Point2D\\left(\\frac{1}{2}, 0\\right), Point2D\\left(1, 1\\right)\\right)$"
      ],
      "text/plain": [
       "Segment2D(Point2D(1/2, 0), Point2D(1, 1))"
      ]
     },
     "execution_count": 3,
     "metadata": {},
     "output_type": "execute_result"
    },
    {
     "data": {
      "application/vnd.jupyter.widget-view+json": {
       "model_id": "0b1155b1523d4105b7b31e477660a6a1",
       "version_major": 2,
       "version_minor": 0
      },
      "text/html": [
       "\n",
       "            <div style=\"display: inline-block;\">\n",
       "                <div class=\"jupyter-widgets widget-label\" style=\"text-align: center;\">\n",
       "                    Figure\n",
       "                </div>\n",
       "                <img src='data:image/png;base64,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' width=840.0/>\n",
       "            </div>\n",
       "        "
      ],
      "text/plain": [
       "Canvas(toolbar=Toolbar(toolitems=[('Home', 'Reset original view', 'home', 'home'), ('Back', 'Back to previous …"
      ]
     },
     "metadata": {},
     "output_type": "display_data"
    }
   ],
   "source": [
    "limx, limy = (-1, 2), (-2, 2)\n",
    "bounds = set_bounds(limx, limy)\n",
    "\n",
    "plt_init(limx, limy)\n",
    "\n",
    "plot_elements(elements, bounds)\n",
    "# plot_points(pts)\n",
    "\n",
    "plot_polygon(square)\n",
    "add_point(square.sides[0].midpoint)\n",
    "\n",
    "plot_points(pts)\n",
    "\n",
    "sg = segment(pts[-1], pts[2])\n",
    "plot_segment2(sg, **style_radius)\n",
    "sg"
   ]
  },
  {
   "cell_type": "code",
   "execution_count": 4,
   "id": "e57adae6-4dc4-4220-939b-e72bca3d45bd",
   "metadata": {},
   "outputs": [],
   "source": [
    "plot_circle(add_element(circle(pts[-1], pts[2])))\n",
    "plot_points(pts)"
   ]
  },
  {
   "cell_type": "code",
   "execution_count": 5,
   "id": "bf156773-7052-49a3-8643-b5bc335289a9",
   "metadata": {},
   "outputs": [
    {
     "data": {
      "image/png": "[encoded data removed]",
      "text/latex": [
       "$\\displaystyle \\left[ 1, \\  - \\frac{1}{2} + \\frac{\\sqrt{5}}{2}\\right]$"
      ],
      "text/plain": [
       "⎡     1   √5⎤\n",
       "⎢1, - ─ + ──⎥\n",
       "⎣     2   2 ⎦"
      ]
     },
     "execution_count": 5,
     "metadata": {},
     "output_type": "execute_result"
    }
   ],
   "source": [
    "sgs = []\n",
    "sgs.append(plot_segment(pts[0], pts[1]))\n",
    "sgs.append(plot_segment(pts[1], pts[6]))\n",
    "plot_points(pts)\n",
    "sgs"
   ]
  },
  {
   "cell_type": "code",
   "execution_count": null,
   "id": "1f325f48-7bb1-4c53-8f1d-092771c3c5e4",
   "metadata": {},
   "outputs": [],
   "source": []
  }
 ],
 "metadata": {
  "kernelspec": {
   "display_name": "Python 3 (ipykernel)",
   "language": "python",
   "name": "python3"
  },
  "language_info": {
   "codemirror_mode": {
    "name": "ipython",
    "version": 3
   },
   "file_extension": ".py",
   "mimetype": "text/x-python",
   "name": "python",
   "nbconvert_exporter": "python",
   "pygments_lexer": "ipython3",
   "version": "3.9.7"
  }
 },
 "nbformat": 4,
 "nbformat_minor": 5
}
