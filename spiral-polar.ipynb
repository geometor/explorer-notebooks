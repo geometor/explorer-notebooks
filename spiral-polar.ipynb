{
 "cells": [
  {
   "cell_type": "code",
   "execution_count": 23,
   "id": "5bd4c079-f7ee-41de-8bdc-513fc6946566",
   "metadata": {},
   "outputs": [
    {
     "data": {
      "application/vnd.jupyter.widget-view+json": {
       "model_id": "ee54933c40764442aa7ba2515db15250",
       "version_major": 2,
       "version_minor": 0
      },
      "image/png": "[encoded data removed]",
      "text/html": [
       "\n",
       "            <div style=\"display: inline-block;\">\n",
       "                <div class=\"jupyter-widgets widget-label\" style=\"text-align: center;\">\n",
       "                    Figure\n",
       "                </div>\n",
       "                <img src='data:image/png;base64,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' width=640.0/>\n",
       "            </div>\n",
       "        "
      ],
      "text/plain": [
       "Canvas(toolbar=Toolbar(toolitems=[('Home', 'Reset original view', 'home', 'home'), ('Back', 'Back to previous …"
      ]
     },
     "metadata": {},
     "output_type": "display_data"
    }
   ],
   "source": [
    "%run run.py\n",
    "%matplotlib widget\n",
    "log_init('spiral-3')\n",
    "\n",
    "plt_init_polar()\n",
    "\n",
    "radii = np.arange(0, 500, phi)\n",
    "theta = 2 * np.pi * radii\n",
    "\n",
    "fig, ax = plt.subplots(subplot_kw={'projection': 'polar'})\n",
    "ax.set_title('G E O M E T O R', fontdict={'color': '#960', 'size':'small'})\n",
    "ax.set_axis_off()\n",
    "\n",
    "def spiral(n=144, cmap=mp.cm.YlGn, color_cycle=21, rev=False, offset=0):\n",
    "    for i in range(n):\n",
    "        # radius = i * phi\n",
    "        radius = n - i \n",
    "        theta = 2 * np.pi * i * phi\n",
    "        color_scale = (((i + offset) % color_cycle) / color_cycle)\n",
    "        color_scale = color_scale + (1 / (color_cycle * 2))\n",
    "        if rev:\n",
    "            color_scale = 1 - color_scale\n",
    "        color = cmap(color_scale)\n",
    "        ax.plot(theta, radius, marker='.', markersize=math.sqrt(radius)+4, color=color)\n",
    "\n",
    "spiral(n=21, cmap=mp.cm.hot, color_cycle=5)"
   ]
  },
  {
   "cell_type": "code",
   "execution_count": 31,
   "id": "3b2ef341-7c6f-4e2e-8612-92b2a129fb0b",
   "metadata": {
    "collapsed": true,
    "jupyter": {
     "outputs_hidden": true
    },
    "tags": []
   },
   "outputs": [
    {
     "ename": "KeyboardInterrupt",
     "evalue": "",
     "output_type": "error",
     "traceback": [
      "\u001b[0;31m---------------------------------------------------------------------------\u001b[0m",
      "\u001b[0;31mKeyboardInterrupt\u001b[0m                         Traceback (most recent call last)",
      "\u001b[0;32m/tmp/ipykernel_7279/2549031622.py\u001b[0m in \u001b[0;36m<module>\u001b[0;34m\u001b[0m\n\u001b[1;32m     22\u001b[0m \u001b[0;34m\u001b[0m\u001b[0m\n\u001b[1;32m     23\u001b[0m     \u001b[0mspiral\u001b[0m\u001b[0;34m(\u001b[0m\u001b[0mn\u001b[0m\u001b[0;34m,\u001b[0m \u001b[0mcmap\u001b[0m\u001b[0;34m=\u001b[0m\u001b[0mcmap\u001b[0m\u001b[0;34m,\u001b[0m \u001b[0mcolor_cycle\u001b[0m\u001b[0;34m=\u001b[0m\u001b[0mcycles\u001b[0m\u001b[0;34m)\u001b[0m\u001b[0;34m\u001b[0m\u001b[0;34m\u001b[0m\u001b[0m\n\u001b[0;32m---> 24\u001b[0;31m     \u001b[0mplt\u001b[0m\u001b[0;34m.\u001b[0m\u001b[0msavefig\u001b[0m\u001b[0;34m(\u001b[0m\u001b[0;34mf'{out}/{cmap_name}-{cycles_pad}-{n_pad}.png'\u001b[0m\u001b[0;34m,\u001b[0m \u001b[0mdpi\u001b[0m\u001b[0;34m=\u001b[0m\u001b[0;36m300\u001b[0m\u001b[0;34m)\u001b[0m\u001b[0;34m\u001b[0m\u001b[0;34m\u001b[0m\u001b[0m\n\u001b[0m",
      "\u001b[0;32m/usr/lib/python3/dist-packages/matplotlib/pyplot.py\u001b[0m in \u001b[0;36msavefig\u001b[0;34m(*args, **kwargs)\u001b[0m\n\u001b[1;32m    857\u001b[0m \u001b[0;32mdef\u001b[0m \u001b[0msavefig\u001b[0m\u001b[0;34m(\u001b[0m\u001b[0;34m*\u001b[0m\u001b[0margs\u001b[0m\u001b[0;34m,\u001b[0m \u001b[0;34m**\u001b[0m\u001b[0mkwargs\u001b[0m\u001b[0;34m)\u001b[0m\u001b[0;34m:\u001b[0m\u001b[0;34m\u001b[0m\u001b[0;34m\u001b[0m\u001b[0m\n\u001b[1;32m    858\u001b[0m     \u001b[0mfig\u001b[0m \u001b[0;34m=\u001b[0m \u001b[0mgcf\u001b[0m\u001b[0;34m(\u001b[0m\u001b[0;34m)\u001b[0m\u001b[0;34m\u001b[0m\u001b[0;34m\u001b[0m\u001b[0m\n\u001b[0;32m--> 859\u001b[0;31m     \u001b[0mres\u001b[0m \u001b[0;34m=\u001b[0m \u001b[0mfig\u001b[0m\u001b[0;34m.\u001b[0m\u001b[0msavefig\u001b[0m\u001b[0;34m(\u001b[0m\u001b[0;34m*\u001b[0m\u001b[0margs\u001b[0m\u001b[0;34m,\u001b[0m \u001b[0;34m**\u001b[0m\u001b[0mkwargs\u001b[0m\u001b[0;34m)\u001b[0m\u001b[0;34m\u001b[0m\u001b[0;34m\u001b[0m\u001b[0m\n\u001b[0m\u001b[1;32m    860\u001b[0m     \u001b[0mfig\u001b[0m\u001b[0;34m.\u001b[0m\u001b[0mcanvas\u001b[0m\u001b[0;34m.\u001b[0m\u001b[0mdraw_idle\u001b[0m\u001b[0;34m(\u001b[0m\u001b[0;34m)\u001b[0m   \u001b[0;31m# need this if 'transparent=True' to reset colors\u001b[0m\u001b[0;34m\u001b[0m\u001b[0;34m\u001b[0m\u001b[0m\n\u001b[1;32m    861\u001b[0m     \u001b[0;32mreturn\u001b[0m \u001b[0mres\u001b[0m\u001b[0;34m\u001b[0m\u001b[0;34m\u001b[0m\u001b[0m\n",
      "\u001b[0;32m/usr/lib/python3/dist-packages/matplotlib/figure.py\u001b[0m in \u001b[0;36msavefig\u001b[0;34m(self, fname, transparent, **kwargs)\u001b[0m\n\u001b[1;32m   2309\u001b[0m                 \u001b[0mpatch\u001b[0m\u001b[0;34m.\u001b[0m\u001b[0mset_edgecolor\u001b[0m\u001b[0;34m(\u001b[0m\u001b[0;34m'none'\u001b[0m\u001b[0;34m)\u001b[0m\u001b[0;34m\u001b[0m\u001b[0;34m\u001b[0m\u001b[0m\n\u001b[1;32m   2310\u001b[0m \u001b[0;34m\u001b[0m\u001b[0m\n\u001b[0;32m-> 2311\u001b[0;31m         \u001b[0mself\u001b[0m\u001b[0;34m.\u001b[0m\u001b[0mcanvas\u001b[0m\u001b[0;34m.\u001b[0m\u001b[0mprint_figure\u001b[0m\u001b[0;34m(\u001b[0m\u001b[0mfname\u001b[0m\u001b[0;34m,\u001b[0m \u001b[0;34m**\u001b[0m\u001b[0mkwargs\u001b[0m\u001b[0;34m)\u001b[0m\u001b[0;34m\u001b[0m\u001b[0;34m\u001b[0m\u001b[0m\n\u001b[0m\u001b[1;32m   2312\u001b[0m \u001b[0;34m\u001b[0m\u001b[0m\n\u001b[1;32m   2313\u001b[0m         \u001b[0;32mif\u001b[0m \u001b[0mtransparent\u001b[0m\u001b[0;34m:\u001b[0m\u001b[0;34m\u001b[0m\u001b[0;34m\u001b[0m\u001b[0m\n",
      "\u001b[0;32m/usr/lib/python3/dist-packages/matplotlib/backend_bases.py\u001b[0m in \u001b[0;36mprint_figure\u001b[0;34m(self, filename, dpi, facecolor, edgecolor, orientation, format, bbox_inches, pad_inches, bbox_extra_artists, backend, **kwargs)\u001b[0m\n\u001b[1;32m   2208\u001b[0m \u001b[0;34m\u001b[0m\u001b[0m\n\u001b[1;32m   2209\u001b[0m             \u001b[0;32mtry\u001b[0m\u001b[0;34m:\u001b[0m\u001b[0;34m\u001b[0m\u001b[0;34m\u001b[0m\u001b[0m\n\u001b[0;32m-> 2210\u001b[0;31m                 result = print_method(\n\u001b[0m\u001b[1;32m   2211\u001b[0m                     \u001b[0mfilename\u001b[0m\u001b[0;34m,\u001b[0m\u001b[0;34m\u001b[0m\u001b[0;34m\u001b[0m\u001b[0m\n\u001b[1;32m   2212\u001b[0m                     \u001b[0mdpi\u001b[0m\u001b[0;34m=\u001b[0m\u001b[0mdpi\u001b[0m\u001b[0;34m,\u001b[0m\u001b[0;34m\u001b[0m\u001b[0;34m\u001b[0m\u001b[0m\n",
      "\u001b[0;32m/usr/lib/python3/dist-packages/matplotlib/backend_bases.py\u001b[0m in \u001b[0;36mwrapper\u001b[0;34m(*args, **kwargs)\u001b[0m\n\u001b[1;32m   1637\u001b[0m             \u001b[0mkwargs\u001b[0m\u001b[0;34m.\u001b[0m\u001b[0mpop\u001b[0m\u001b[0;34m(\u001b[0m\u001b[0marg\u001b[0m\u001b[0;34m)\u001b[0m\u001b[0;34m\u001b[0m\u001b[0;34m\u001b[0m\u001b[0m\n\u001b[1;32m   1638\u001b[0m \u001b[0;34m\u001b[0m\u001b[0m\n\u001b[0;32m-> 1639\u001b[0;31m         \u001b[0;32mreturn\u001b[0m \u001b[0mfunc\u001b[0m\u001b[0;34m(\u001b[0m\u001b[0;34m*\u001b[0m\u001b[0margs\u001b[0m\u001b[0;34m,\u001b[0m \u001b[0;34m**\u001b[0m\u001b[0mkwargs\u001b[0m\u001b[0;34m)\u001b[0m\u001b[0;34m\u001b[0m\u001b[0;34m\u001b[0m\u001b[0m\n\u001b[0m\u001b[1;32m   1640\u001b[0m \u001b[0;34m\u001b[0m\u001b[0m\n\u001b[1;32m   1641\u001b[0m     \u001b[0;32mreturn\u001b[0m \u001b[0mwrapper\u001b[0m\u001b[0;34m\u001b[0m\u001b[0;34m\u001b[0m\u001b[0m\n",
      "\u001b[0;32m/usr/lib/python3/dist-packages/matplotlib/backends/backend_agg.py\u001b[0m in \u001b[0;36mprint_png\u001b[0;34m(self, filename_or_obj, metadata, pil_kwargs, *args)\u001b[0m\n\u001b[1;32m    507\u001b[0m             \u001b[0;34m*\u001b[0m\u001b[0mmetadata\u001b[0m\u001b[0;34m*\u001b[0m\u001b[0;34m,\u001b[0m \u001b[0mincluding\u001b[0m \u001b[0mthe\u001b[0m \u001b[0mdefault\u001b[0m \u001b[0;34m'Software'\u001b[0m \u001b[0mkey\u001b[0m\u001b[0;34m.\u001b[0m\u001b[0;34m\u001b[0m\u001b[0;34m\u001b[0m\u001b[0m\n\u001b[1;32m    508\u001b[0m         \"\"\"\n\u001b[0;32m--> 509\u001b[0;31m         \u001b[0mFigureCanvasAgg\u001b[0m\u001b[0;34m.\u001b[0m\u001b[0mdraw\u001b[0m\u001b[0;34m(\u001b[0m\u001b[0mself\u001b[0m\u001b[0;34m)\u001b[0m\u001b[0;34m\u001b[0m\u001b[0;34m\u001b[0m\u001b[0m\n\u001b[0m\u001b[1;32m    510\u001b[0m         mpl.image.imsave(\n\u001b[1;32m    511\u001b[0m             \u001b[0mfilename_or_obj\u001b[0m\u001b[0;34m,\u001b[0m \u001b[0mself\u001b[0m\u001b[0;34m.\u001b[0m\u001b[0mbuffer_rgba\u001b[0m\u001b[0;34m(\u001b[0m\u001b[0;34m)\u001b[0m\u001b[0;34m,\u001b[0m \u001b[0mformat\u001b[0m\u001b[0;34m=\u001b[0m\u001b[0;34m\"png\"\u001b[0m\u001b[0;34m,\u001b[0m \u001b[0morigin\u001b[0m\u001b[0;34m=\u001b[0m\u001b[0;34m\"upper\"\u001b[0m\u001b[0;34m,\u001b[0m\u001b[0;34m\u001b[0m\u001b[0;34m\u001b[0m\u001b[0m\n",
      "\u001b[0;32m/usr/lib/python3/dist-packages/matplotlib/backends/backend_agg.py\u001b[0m in \u001b[0;36mdraw\u001b[0;34m(self)\u001b[0m\n\u001b[1;32m    405\u001b[0m              (self.toolbar._wait_cursor_for_draw_cm() if self.toolbar\n\u001b[1;32m    406\u001b[0m               else nullcontext()):\n\u001b[0;32m--> 407\u001b[0;31m             \u001b[0mself\u001b[0m\u001b[0;34m.\u001b[0m\u001b[0mfigure\u001b[0m\u001b[0;34m.\u001b[0m\u001b[0mdraw\u001b[0m\u001b[0;34m(\u001b[0m\u001b[0mself\u001b[0m\u001b[0;34m.\u001b[0m\u001b[0mrenderer\u001b[0m\u001b[0;34m)\u001b[0m\u001b[0;34m\u001b[0m\u001b[0;34m\u001b[0m\u001b[0m\n\u001b[0m\u001b[1;32m    408\u001b[0m             \u001b[0;31m# A GUI class may be need to update a window using this draw, so\u001b[0m\u001b[0;34m\u001b[0m\u001b[0;34m\u001b[0m\u001b[0;34m\u001b[0m\u001b[0m\n\u001b[1;32m    409\u001b[0m             \u001b[0;31m# don't forget to call the superclass.\u001b[0m\u001b[0;34m\u001b[0m\u001b[0;34m\u001b[0m\u001b[0;34m\u001b[0m\u001b[0m\n",
      "\u001b[0;32m/usr/lib/python3/dist-packages/matplotlib/artist.py\u001b[0m in \u001b[0;36mdraw_wrapper\u001b[0;34m(artist, renderer, *args, **kwargs)\u001b[0m\n\u001b[1;32m     39\u001b[0m                 \u001b[0mrenderer\u001b[0m\u001b[0;34m.\u001b[0m\u001b[0mstart_filter\u001b[0m\u001b[0;34m(\u001b[0m\u001b[0;34m)\u001b[0m\u001b[0;34m\u001b[0m\u001b[0;34m\u001b[0m\u001b[0m\n\u001b[1;32m     40\u001b[0m \u001b[0;34m\u001b[0m\u001b[0m\n\u001b[0;32m---> 41\u001b[0;31m             \u001b[0;32mreturn\u001b[0m \u001b[0mdraw\u001b[0m\u001b[0;34m(\u001b[0m\u001b[0martist\u001b[0m\u001b[0;34m,\u001b[0m \u001b[0mrenderer\u001b[0m\u001b[0;34m,\u001b[0m \u001b[0;34m*\u001b[0m\u001b[0margs\u001b[0m\u001b[0;34m,\u001b[0m \u001b[0;34m**\u001b[0m\u001b[0mkwargs\u001b[0m\u001b[0;34m)\u001b[0m\u001b[0;34m\u001b[0m\u001b[0;34m\u001b[0m\u001b[0m\n\u001b[0m\u001b[1;32m     42\u001b[0m         \u001b[0;32mfinally\u001b[0m\u001b[0;34m:\u001b[0m\u001b[0;34m\u001b[0m\u001b[0;34m\u001b[0m\u001b[0m\n\u001b[1;32m     43\u001b[0m             \u001b[0;32mif\u001b[0m \u001b[0martist\u001b[0m\u001b[0;34m.\u001b[0m\u001b[0mget_agg_filter\u001b[0m\u001b[0;34m(\u001b[0m\u001b[0;34m)\u001b[0m \u001b[0;32mis\u001b[0m \u001b[0;32mnot\u001b[0m \u001b[0;32mNone\u001b[0m\u001b[0;34m:\u001b[0m\u001b[0;34m\u001b[0m\u001b[0;34m\u001b[0m\u001b[0m\n",
      "\u001b[0;32m/usr/lib/python3/dist-packages/matplotlib/figure.py\u001b[0m in \u001b[0;36mdraw\u001b[0;34m(self, renderer)\u001b[0m\n\u001b[1;32m   1861\u001b[0m \u001b[0;34m\u001b[0m\u001b[0m\n\u001b[1;32m   1862\u001b[0m             \u001b[0mself\u001b[0m\u001b[0;34m.\u001b[0m\u001b[0mpatch\u001b[0m\u001b[0;34m.\u001b[0m\u001b[0mdraw\u001b[0m\u001b[0;34m(\u001b[0m\u001b[0mrenderer\u001b[0m\u001b[0;34m)\u001b[0m\u001b[0;34m\u001b[0m\u001b[0;34m\u001b[0m\u001b[0m\n\u001b[0;32m-> 1863\u001b[0;31m             mimage._draw_list_compositing_images(\n\u001b[0m\u001b[1;32m   1864\u001b[0m                 renderer, self, artists, self.suppressComposite)\n\u001b[1;32m   1865\u001b[0m \u001b[0;34m\u001b[0m\u001b[0m\n",
      "\u001b[0;32m/usr/lib/python3/dist-packages/matplotlib/image.py\u001b[0m in \u001b[0;36m_draw_list_compositing_images\u001b[0;34m(renderer, parent, artists, suppress_composite)\u001b[0m\n\u001b[1;32m    129\u001b[0m     \u001b[0;32mif\u001b[0m \u001b[0mnot_composite\u001b[0m \u001b[0;32mor\u001b[0m \u001b[0;32mnot\u001b[0m \u001b[0mhas_images\u001b[0m\u001b[0;34m:\u001b[0m\u001b[0;34m\u001b[0m\u001b[0;34m\u001b[0m\u001b[0m\n\u001b[1;32m    130\u001b[0m         \u001b[0;32mfor\u001b[0m \u001b[0ma\u001b[0m \u001b[0;32min\u001b[0m \u001b[0martists\u001b[0m\u001b[0;34m:\u001b[0m\u001b[0;34m\u001b[0m\u001b[0;34m\u001b[0m\u001b[0m\n\u001b[0;32m--> 131\u001b[0;31m             \u001b[0ma\u001b[0m\u001b[0;34m.\u001b[0m\u001b[0mdraw\u001b[0m\u001b[0;34m(\u001b[0m\u001b[0mrenderer\u001b[0m\u001b[0;34m)\u001b[0m\u001b[0;34m\u001b[0m\u001b[0;34m\u001b[0m\u001b[0m\n\u001b[0m\u001b[1;32m    132\u001b[0m     \u001b[0;32melse\u001b[0m\u001b[0;34m:\u001b[0m\u001b[0;34m\u001b[0m\u001b[0;34m\u001b[0m\u001b[0m\n\u001b[1;32m    133\u001b[0m         \u001b[0;31m# Composite any adjacent images together\u001b[0m\u001b[0;34m\u001b[0m\u001b[0;34m\u001b[0m\u001b[0;34m\u001b[0m\u001b[0m\n",
      "\u001b[0;32m/usr/lib/python3/dist-packages/matplotlib/cbook/deprecation.py\u001b[0m in \u001b[0;36mwrapper\u001b[0;34m(*inner_args, **inner_kwargs)\u001b[0m\n\u001b[1;32m    409\u001b[0m                          \u001b[0;32melse\u001b[0m \u001b[0mdeprecation_addendum\u001b[0m\u001b[0;34m,\u001b[0m\u001b[0;34m\u001b[0m\u001b[0;34m\u001b[0m\u001b[0m\n\u001b[1;32m    410\u001b[0m                 **kwargs)\n\u001b[0;32m--> 411\u001b[0;31m         \u001b[0;32mreturn\u001b[0m \u001b[0mfunc\u001b[0m\u001b[0;34m(\u001b[0m\u001b[0;34m*\u001b[0m\u001b[0minner_args\u001b[0m\u001b[0;34m,\u001b[0m \u001b[0;34m**\u001b[0m\u001b[0minner_kwargs\u001b[0m\u001b[0;34m)\u001b[0m\u001b[0;34m\u001b[0m\u001b[0;34m\u001b[0m\u001b[0m\n\u001b[0m\u001b[1;32m    412\u001b[0m \u001b[0;34m\u001b[0m\u001b[0m\n\u001b[1;32m    413\u001b[0m     \u001b[0;32mreturn\u001b[0m \u001b[0mwrapper\u001b[0m\u001b[0;34m\u001b[0m\u001b[0;34m\u001b[0m\u001b[0m\n",
      "\u001b[0;32m/usr/lib/python3/dist-packages/matplotlib/cbook/deprecation.py\u001b[0m in \u001b[0;36mwrapper\u001b[0;34m(*inner_args, **inner_kwargs)\u001b[0m\n\u001b[1;32m    409\u001b[0m                          \u001b[0;32melse\u001b[0m \u001b[0mdeprecation_addendum\u001b[0m\u001b[0;34m,\u001b[0m\u001b[0;34m\u001b[0m\u001b[0;34m\u001b[0m\u001b[0m\n\u001b[1;32m    410\u001b[0m                 **kwargs)\n\u001b[0;32m--> 411\u001b[0;31m         \u001b[0;32mreturn\u001b[0m \u001b[0mfunc\u001b[0m\u001b[0;34m(\u001b[0m\u001b[0;34m*\u001b[0m\u001b[0minner_args\u001b[0m\u001b[0;34m,\u001b[0m \u001b[0;34m**\u001b[0m\u001b[0minner_kwargs\u001b[0m\u001b[0;34m)\u001b[0m\u001b[0;34m\u001b[0m\u001b[0;34m\u001b[0m\u001b[0m\n\u001b[0m\u001b[1;32m    412\u001b[0m \u001b[0;34m\u001b[0m\u001b[0m\n\u001b[1;32m    413\u001b[0m     \u001b[0;32mreturn\u001b[0m \u001b[0mwrapper\u001b[0m\u001b[0;34m\u001b[0m\u001b[0;34m\u001b[0m\u001b[0m\n",
      "\u001b[0;32m/usr/lib/python3/dist-packages/matplotlib/projections/polar.py\u001b[0m in \u001b[0;36mdraw\u001b[0;34m(self, renderer, *args, **kwargs)\u001b[0m\n\u001b[1;32m    993\u001b[0m             \u001b[0mself\u001b[0m\u001b[0;34m.\u001b[0m\u001b[0myaxis\u001b[0m\u001b[0;34m.\u001b[0m\u001b[0mset_clip_path\u001b[0m\u001b[0;34m(\u001b[0m\u001b[0mself\u001b[0m\u001b[0;34m.\u001b[0m\u001b[0mpatch\u001b[0m\u001b[0;34m)\u001b[0m\u001b[0;34m\u001b[0m\u001b[0;34m\u001b[0m\u001b[0m\n\u001b[1;32m    994\u001b[0m \u001b[0;34m\u001b[0m\u001b[0m\n\u001b[0;32m--> 995\u001b[0;31m         \u001b[0mAxes\u001b[0m\u001b[0;34m.\u001b[0m\u001b[0mdraw\u001b[0m\u001b[0;34m(\u001b[0m\u001b[0mself\u001b[0m\u001b[0;34m,\u001b[0m \u001b[0mrenderer\u001b[0m\u001b[0;34m,\u001b[0m \u001b[0;34m*\u001b[0m\u001b[0margs\u001b[0m\u001b[0;34m,\u001b[0m \u001b[0;34m**\u001b[0m\u001b[0mkwargs\u001b[0m\u001b[0;34m)\u001b[0m\u001b[0;34m\u001b[0m\u001b[0;34m\u001b[0m\u001b[0m\n\u001b[0m\u001b[1;32m    996\u001b[0m \u001b[0;34m\u001b[0m\u001b[0m\n\u001b[1;32m    997\u001b[0m     \u001b[0;32mdef\u001b[0m \u001b[0m_gen_axes_patch\u001b[0m\u001b[0;34m(\u001b[0m\u001b[0mself\u001b[0m\u001b[0;34m)\u001b[0m\u001b[0;34m:\u001b[0m\u001b[0;34m\u001b[0m\u001b[0;34m\u001b[0m\u001b[0m\n",
      "\u001b[0;32m/usr/lib/python3/dist-packages/matplotlib/artist.py\u001b[0m in \u001b[0;36mdraw_wrapper\u001b[0;34m(artist, renderer, *args, **kwargs)\u001b[0m\n\u001b[1;32m     39\u001b[0m                 \u001b[0mrenderer\u001b[0m\u001b[0;34m.\u001b[0m\u001b[0mstart_filter\u001b[0m\u001b[0;34m(\u001b[0m\u001b[0;34m)\u001b[0m\u001b[0;34m\u001b[0m\u001b[0;34m\u001b[0m\u001b[0m\n\u001b[1;32m     40\u001b[0m \u001b[0;34m\u001b[0m\u001b[0m\n\u001b[0;32m---> 41\u001b[0;31m             \u001b[0;32mreturn\u001b[0m \u001b[0mdraw\u001b[0m\u001b[0;34m(\u001b[0m\u001b[0martist\u001b[0m\u001b[0;34m,\u001b[0m \u001b[0mrenderer\u001b[0m\u001b[0;34m,\u001b[0m \u001b[0;34m*\u001b[0m\u001b[0margs\u001b[0m\u001b[0;34m,\u001b[0m \u001b[0;34m**\u001b[0m\u001b[0mkwargs\u001b[0m\u001b[0;34m)\u001b[0m\u001b[0;34m\u001b[0m\u001b[0;34m\u001b[0m\u001b[0m\n\u001b[0m\u001b[1;32m     42\u001b[0m         \u001b[0;32mfinally\u001b[0m\u001b[0;34m:\u001b[0m\u001b[0;34m\u001b[0m\u001b[0;34m\u001b[0m\u001b[0m\n\u001b[1;32m     43\u001b[0m             \u001b[0;32mif\u001b[0m \u001b[0martist\u001b[0m\u001b[0;34m.\u001b[0m\u001b[0mget_agg_filter\u001b[0m\u001b[0;34m(\u001b[0m\u001b[0;34m)\u001b[0m \u001b[0;32mis\u001b[0m \u001b[0;32mnot\u001b[0m \u001b[0;32mNone\u001b[0m\u001b[0;34m:\u001b[0m\u001b[0;34m\u001b[0m\u001b[0;34m\u001b[0m\u001b[0m\n",
      "\u001b[0;32m/usr/lib/python3/dist-packages/matplotlib/cbook/deprecation.py\u001b[0m in \u001b[0;36mwrapper\u001b[0;34m(*inner_args, **inner_kwargs)\u001b[0m\n\u001b[1;32m    409\u001b[0m                          \u001b[0;32melse\u001b[0m \u001b[0mdeprecation_addendum\u001b[0m\u001b[0;34m,\u001b[0m\u001b[0;34m\u001b[0m\u001b[0;34m\u001b[0m\u001b[0m\n\u001b[1;32m    410\u001b[0m                 **kwargs)\n\u001b[0;32m--> 411\u001b[0;31m         \u001b[0;32mreturn\u001b[0m \u001b[0mfunc\u001b[0m\u001b[0;34m(\u001b[0m\u001b[0;34m*\u001b[0m\u001b[0minner_args\u001b[0m\u001b[0;34m,\u001b[0m \u001b[0;34m**\u001b[0m\u001b[0minner_kwargs\u001b[0m\u001b[0;34m)\u001b[0m\u001b[0;34m\u001b[0m\u001b[0;34m\u001b[0m\u001b[0m\n\u001b[0m\u001b[1;32m    412\u001b[0m \u001b[0;34m\u001b[0m\u001b[0m\n\u001b[1;32m    413\u001b[0m     \u001b[0;32mreturn\u001b[0m \u001b[0mwrapper\u001b[0m\u001b[0;34m\u001b[0m\u001b[0;34m\u001b[0m\u001b[0m\n",
      "\u001b[0;32m/usr/lib/python3/dist-packages/matplotlib/axes/_base.py\u001b[0m in \u001b[0;36mdraw\u001b[0;34m(self, renderer, inframe)\u001b[0m\n\u001b[1;32m   2745\u001b[0m             \u001b[0mrenderer\u001b[0m\u001b[0;34m.\u001b[0m\u001b[0mstop_rasterizing\u001b[0m\u001b[0;34m(\u001b[0m\u001b[0;34m)\u001b[0m\u001b[0;34m\u001b[0m\u001b[0;34m\u001b[0m\u001b[0m\n\u001b[1;32m   2746\u001b[0m \u001b[0;34m\u001b[0m\u001b[0m\n\u001b[0;32m-> 2747\u001b[0;31m         \u001b[0mmimage\u001b[0m\u001b[0;34m.\u001b[0m\u001b[0m_draw_list_compositing_images\u001b[0m\u001b[0;34m(\u001b[0m\u001b[0mrenderer\u001b[0m\u001b[0;34m,\u001b[0m \u001b[0mself\u001b[0m\u001b[0;34m,\u001b[0m \u001b[0martists\u001b[0m\u001b[0;34m)\u001b[0m\u001b[0;34m\u001b[0m\u001b[0;34m\u001b[0m\u001b[0m\n\u001b[0m\u001b[1;32m   2748\u001b[0m \u001b[0;34m\u001b[0m\u001b[0m\n\u001b[1;32m   2749\u001b[0m         \u001b[0mrenderer\u001b[0m\u001b[0;34m.\u001b[0m\u001b[0mclose_group\u001b[0m\u001b[0;34m(\u001b[0m\u001b[0;34m'axes'\u001b[0m\u001b[0;34m)\u001b[0m\u001b[0;34m\u001b[0m\u001b[0;34m\u001b[0m\u001b[0m\n",
      "\u001b[0;32m/usr/lib/python3/dist-packages/matplotlib/image.py\u001b[0m in \u001b[0;36m_draw_list_compositing_images\u001b[0;34m(renderer, parent, artists, suppress_composite)\u001b[0m\n\u001b[1;32m    129\u001b[0m     \u001b[0;32mif\u001b[0m \u001b[0mnot_composite\u001b[0m \u001b[0;32mor\u001b[0m \u001b[0;32mnot\u001b[0m \u001b[0mhas_images\u001b[0m\u001b[0;34m:\u001b[0m\u001b[0;34m\u001b[0m\u001b[0;34m\u001b[0m\u001b[0m\n\u001b[1;32m    130\u001b[0m         \u001b[0;32mfor\u001b[0m \u001b[0ma\u001b[0m \u001b[0;32min\u001b[0m \u001b[0martists\u001b[0m\u001b[0;34m:\u001b[0m\u001b[0;34m\u001b[0m\u001b[0;34m\u001b[0m\u001b[0m\n\u001b[0;32m--> 131\u001b[0;31m             \u001b[0ma\u001b[0m\u001b[0;34m.\u001b[0m\u001b[0mdraw\u001b[0m\u001b[0;34m(\u001b[0m\u001b[0mrenderer\u001b[0m\u001b[0;34m)\u001b[0m\u001b[0;34m\u001b[0m\u001b[0;34m\u001b[0m\u001b[0m\n\u001b[0m\u001b[1;32m    132\u001b[0m     \u001b[0;32melse\u001b[0m\u001b[0;34m:\u001b[0m\u001b[0;34m\u001b[0m\u001b[0;34m\u001b[0m\u001b[0m\n\u001b[1;32m    133\u001b[0m         \u001b[0;31m# Composite any adjacent images together\u001b[0m\u001b[0;34m\u001b[0m\u001b[0;34m\u001b[0m\u001b[0;34m\u001b[0m\u001b[0m\n",
      "\u001b[0;32m/usr/lib/python3/dist-packages/matplotlib/artist.py\u001b[0m in \u001b[0;36mdraw_wrapper\u001b[0;34m(artist, renderer, *args, **kwargs)\u001b[0m\n\u001b[1;32m     39\u001b[0m                 \u001b[0mrenderer\u001b[0m\u001b[0;34m.\u001b[0m\u001b[0mstart_filter\u001b[0m\u001b[0;34m(\u001b[0m\u001b[0;34m)\u001b[0m\u001b[0;34m\u001b[0m\u001b[0;34m\u001b[0m\u001b[0m\n\u001b[1;32m     40\u001b[0m \u001b[0;34m\u001b[0m\u001b[0m\n\u001b[0;32m---> 41\u001b[0;31m             \u001b[0;32mreturn\u001b[0m \u001b[0mdraw\u001b[0m\u001b[0;34m(\u001b[0m\u001b[0martist\u001b[0m\u001b[0;34m,\u001b[0m \u001b[0mrenderer\u001b[0m\u001b[0;34m,\u001b[0m \u001b[0;34m*\u001b[0m\u001b[0margs\u001b[0m\u001b[0;34m,\u001b[0m \u001b[0;34m**\u001b[0m\u001b[0mkwargs\u001b[0m\u001b[0;34m)\u001b[0m\u001b[0;34m\u001b[0m\u001b[0;34m\u001b[0m\u001b[0m\n\u001b[0m\u001b[1;32m     42\u001b[0m         \u001b[0;32mfinally\u001b[0m\u001b[0;34m:\u001b[0m\u001b[0;34m\u001b[0m\u001b[0;34m\u001b[0m\u001b[0m\n\u001b[1;32m     43\u001b[0m             \u001b[0;32mif\u001b[0m \u001b[0martist\u001b[0m\u001b[0;34m.\u001b[0m\u001b[0mget_agg_filter\u001b[0m\u001b[0;34m(\u001b[0m\u001b[0;34m)\u001b[0m \u001b[0;32mis\u001b[0m \u001b[0;32mnot\u001b[0m \u001b[0;32mNone\u001b[0m\u001b[0;34m:\u001b[0m\u001b[0;34m\u001b[0m\u001b[0;34m\u001b[0m\u001b[0m\n",
      "\u001b[0;32m/usr/lib/python3/dist-packages/matplotlib/lines.py\u001b[0m in \u001b[0;36mdraw\u001b[0;34m(self, renderer)\u001b[0m\n\u001b[1;32m    758\u001b[0m         \u001b[0mrenderer\u001b[0m\u001b[0;34m.\u001b[0m\u001b[0mopen_group\u001b[0m\u001b[0;34m(\u001b[0m\u001b[0;34m'line2d'\u001b[0m\u001b[0;34m,\u001b[0m \u001b[0mself\u001b[0m\u001b[0;34m.\u001b[0m\u001b[0mget_gid\u001b[0m\u001b[0;34m(\u001b[0m\u001b[0;34m)\u001b[0m\u001b[0;34m)\u001b[0m\u001b[0;34m\u001b[0m\u001b[0;34m\u001b[0m\u001b[0m\n\u001b[1;32m    759\u001b[0m         \u001b[0;32mif\u001b[0m \u001b[0mself\u001b[0m\u001b[0;34m.\u001b[0m\u001b[0m_lineStyles\u001b[0m\u001b[0;34m[\u001b[0m\u001b[0mself\u001b[0m\u001b[0;34m.\u001b[0m\u001b[0m_linestyle\u001b[0m\u001b[0;34m]\u001b[0m \u001b[0;34m!=\u001b[0m \u001b[0;34m'_draw_nothing'\u001b[0m\u001b[0;34m:\u001b[0m\u001b[0;34m\u001b[0m\u001b[0;34m\u001b[0m\u001b[0m\n\u001b[0;32m--> 760\u001b[0;31m             tpath, affine = (self._get_transformed_path()\n\u001b[0m\u001b[1;32m    761\u001b[0m                              .get_transformed_path_and_affine())\n\u001b[1;32m    762\u001b[0m             \u001b[0;32mif\u001b[0m \u001b[0mlen\u001b[0m\u001b[0;34m(\u001b[0m\u001b[0mtpath\u001b[0m\u001b[0;34m.\u001b[0m\u001b[0mvertices\u001b[0m\u001b[0;34m)\u001b[0m\u001b[0;34m:\u001b[0m\u001b[0;34m\u001b[0m\u001b[0;34m\u001b[0m\u001b[0m\n",
      "\u001b[0;32m/usr/lib/python3/dist-packages/matplotlib/transforms.py\u001b[0m in \u001b[0;36mget_transformed_path_and_affine\u001b[0;34m(self)\u001b[0m\n\u001b[1;32m   2709\u001b[0m         \u001b[0mthe\u001b[0m \u001b[0mpath\u001b[0m \u001b[0mnecessary\u001b[0m \u001b[0mto\u001b[0m \u001b[0mcomplete\u001b[0m \u001b[0mthe\u001b[0m \u001b[0mtransformation\u001b[0m\u001b[0;34m.\u001b[0m\u001b[0;34m\u001b[0m\u001b[0;34m\u001b[0m\u001b[0m\n\u001b[1;32m   2710\u001b[0m         \"\"\"\n\u001b[0;32m-> 2711\u001b[0;31m         \u001b[0mself\u001b[0m\u001b[0;34m.\u001b[0m\u001b[0m_revalidate\u001b[0m\u001b[0;34m(\u001b[0m\u001b[0;34m)\u001b[0m\u001b[0;34m\u001b[0m\u001b[0;34m\u001b[0m\u001b[0m\n\u001b[0m\u001b[1;32m   2712\u001b[0m         \u001b[0;32mreturn\u001b[0m \u001b[0mself\u001b[0m\u001b[0;34m.\u001b[0m\u001b[0m_transformed_path\u001b[0m\u001b[0;34m,\u001b[0m \u001b[0mself\u001b[0m\u001b[0;34m.\u001b[0m\u001b[0mget_affine\u001b[0m\u001b[0;34m(\u001b[0m\u001b[0;34m)\u001b[0m\u001b[0;34m\u001b[0m\u001b[0;34m\u001b[0m\u001b[0m\n\u001b[1;32m   2713\u001b[0m \u001b[0;34m\u001b[0m\u001b[0m\n",
      "\u001b[0;32m/usr/lib/python3/dist-packages/matplotlib/transforms.py\u001b[0m in \u001b[0;36m_revalidate\u001b[0;34m(self)\u001b[0m\n\u001b[1;32m   2685\u001b[0m                 or self._transformed_path is None):\n\u001b[1;32m   2686\u001b[0m             \u001b[0mself\u001b[0m\u001b[0;34m.\u001b[0m\u001b[0m_transformed_path\u001b[0m \u001b[0;34m=\u001b[0m\u001b[0;31m \u001b[0m\u001b[0;31m\\\u001b[0m\u001b[0;34m\u001b[0m\u001b[0;34m\u001b[0m\u001b[0m\n\u001b[0;32m-> 2687\u001b[0;31m                 \u001b[0mself\u001b[0m\u001b[0;34m.\u001b[0m\u001b[0m_transform\u001b[0m\u001b[0;34m.\u001b[0m\u001b[0mtransform_path_non_affine\u001b[0m\u001b[0;34m(\u001b[0m\u001b[0mself\u001b[0m\u001b[0;34m.\u001b[0m\u001b[0m_path\u001b[0m\u001b[0;34m)\u001b[0m\u001b[0;34m\u001b[0m\u001b[0;34m\u001b[0m\u001b[0m\n\u001b[0m\u001b[1;32m   2688\u001b[0m             \u001b[0mself\u001b[0m\u001b[0;34m.\u001b[0m\u001b[0m_transformed_points\u001b[0m \u001b[0;34m=\u001b[0m\u001b[0;31m \u001b[0m\u001b[0;31m\\\u001b[0m\u001b[0;34m\u001b[0m\u001b[0;34m\u001b[0m\u001b[0m\n\u001b[1;32m   2689\u001b[0m                 Path._fast_from_codes_and_verts(\n",
      "\u001b[0;32m/usr/lib/python3/dist-packages/matplotlib/transforms.py\u001b[0m in \u001b[0;36mtransform_path_non_affine\u001b[0;34m(self, path)\u001b[0m\n\u001b[1;32m   2359\u001b[0m             \u001b[0;32mreturn\u001b[0m \u001b[0mpath\u001b[0m\u001b[0;34m\u001b[0m\u001b[0;34m\u001b[0m\u001b[0m\n\u001b[1;32m   2360\u001b[0m         \u001b[0;32melif\u001b[0m \u001b[0;32mnot\u001b[0m \u001b[0mself\u001b[0m\u001b[0;34m.\u001b[0m\u001b[0m_a\u001b[0m\u001b[0;34m.\u001b[0m\u001b[0mis_affine\u001b[0m \u001b[0;32mand\u001b[0m \u001b[0mself\u001b[0m\u001b[0;34m.\u001b[0m\u001b[0m_b\u001b[0m\u001b[0;34m.\u001b[0m\u001b[0mis_affine\u001b[0m\u001b[0;34m:\u001b[0m\u001b[0;34m\u001b[0m\u001b[0;34m\u001b[0m\u001b[0m\n\u001b[0;32m-> 2361\u001b[0;31m             \u001b[0;32mreturn\u001b[0m \u001b[0mself\u001b[0m\u001b[0;34m.\u001b[0m\u001b[0m_a\u001b[0m\u001b[0;34m.\u001b[0m\u001b[0mtransform_path_non_affine\u001b[0m\u001b[0;34m(\u001b[0m\u001b[0mpath\u001b[0m\u001b[0;34m)\u001b[0m\u001b[0;34m\u001b[0m\u001b[0;34m\u001b[0m\u001b[0m\n\u001b[0m\u001b[1;32m   2362\u001b[0m         \u001b[0;32melse\u001b[0m\u001b[0;34m:\u001b[0m\u001b[0;34m\u001b[0m\u001b[0;34m\u001b[0m\u001b[0m\n\u001b[1;32m   2363\u001b[0m             return self._b.transform_path_non_affine(\n",
      "\u001b[0;32m/usr/lib/python3/dist-packages/matplotlib/transforms.py\u001b[0m in \u001b[0;36mtransform_path_non_affine\u001b[0;34m(self, path)\u001b[0m\n\u001b[1;32m   2361\u001b[0m             \u001b[0;32mreturn\u001b[0m \u001b[0mself\u001b[0m\u001b[0;34m.\u001b[0m\u001b[0m_a\u001b[0m\u001b[0;34m.\u001b[0m\u001b[0mtransform_path_non_affine\u001b[0m\u001b[0;34m(\u001b[0m\u001b[0mpath\u001b[0m\u001b[0;34m)\u001b[0m\u001b[0;34m\u001b[0m\u001b[0;34m\u001b[0m\u001b[0m\n\u001b[1;32m   2362\u001b[0m         \u001b[0;32melse\u001b[0m\u001b[0;34m:\u001b[0m\u001b[0;34m\u001b[0m\u001b[0;34m\u001b[0m\u001b[0m\n\u001b[0;32m-> 2363\u001b[0;31m             return self._b.transform_path_non_affine(\n\u001b[0m\u001b[1;32m   2364\u001b[0m                                     self._a.transform_path(path))\n\u001b[1;32m   2365\u001b[0m \u001b[0;34m\u001b[0m\u001b[0m\n",
      "\u001b[0;32m/usr/lib/python3/dist-packages/matplotlib/projections/polar.py\u001b[0m in \u001b[0;36mtransform_path_non_affine\u001b[0;34m(self, path)\u001b[0m\n\u001b[1;32m     52\u001b[0m         \u001b[0;31m# docstring inherited\u001b[0m\u001b[0;34m\u001b[0m\u001b[0;34m\u001b[0m\u001b[0;34m\u001b[0m\u001b[0m\n\u001b[1;32m     53\u001b[0m         \u001b[0;32mif\u001b[0m \u001b[0;32mnot\u001b[0m \u001b[0mlen\u001b[0m\u001b[0;34m(\u001b[0m\u001b[0mpath\u001b[0m\u001b[0;34m)\u001b[0m \u001b[0;32mor\u001b[0m \u001b[0mpath\u001b[0m\u001b[0;34m.\u001b[0m\u001b[0m_interpolation_steps\u001b[0m \u001b[0;34m==\u001b[0m \u001b[0;36m1\u001b[0m\u001b[0;34m:\u001b[0m\u001b[0;34m\u001b[0m\u001b[0;34m\u001b[0m\u001b[0m\n\u001b[0;32m---> 54\u001b[0;31m             \u001b[0;32mreturn\u001b[0m \u001b[0mPath\u001b[0m\u001b[0;34m(\u001b[0m\u001b[0mself\u001b[0m\u001b[0;34m.\u001b[0m\u001b[0mtransform_non_affine\u001b[0m\u001b[0;34m(\u001b[0m\u001b[0mpath\u001b[0m\u001b[0;34m.\u001b[0m\u001b[0mvertices\u001b[0m\u001b[0;34m)\u001b[0m\u001b[0;34m,\u001b[0m \u001b[0mpath\u001b[0m\u001b[0;34m.\u001b[0m\u001b[0mcodes\u001b[0m\u001b[0;34m)\u001b[0m\u001b[0;34m\u001b[0m\u001b[0;34m\u001b[0m\u001b[0m\n\u001b[0m\u001b[1;32m     55\u001b[0m         \u001b[0mxys\u001b[0m \u001b[0;34m=\u001b[0m \u001b[0;34m[\u001b[0m\u001b[0;34m]\u001b[0m\u001b[0;34m\u001b[0m\u001b[0;34m\u001b[0m\u001b[0m\n\u001b[1;32m     56\u001b[0m         \u001b[0mcodes\u001b[0m \u001b[0;34m=\u001b[0m \u001b[0;34m[\u001b[0m\u001b[0;34m]\u001b[0m\u001b[0;34m\u001b[0m\u001b[0;34m\u001b[0m\u001b[0m\n",
      "\u001b[0;32m/usr/lib/python3/dist-packages/matplotlib/projections/polar.py\u001b[0m in \u001b[0;36mtransform_non_affine\u001b[0;34m(self, tr)\u001b[0m\n\u001b[1;32m     45\u001b[0m             \u001b[0mt\u001b[0m \u001b[0;34m+=\u001b[0m \u001b[0mself\u001b[0m\u001b[0;34m.\u001b[0m\u001b[0m_axis\u001b[0m\u001b[0;34m.\u001b[0m\u001b[0mget_theta_offset\u001b[0m\u001b[0;34m(\u001b[0m\u001b[0;34m)\u001b[0m\u001b[0;34m\u001b[0m\u001b[0;34m\u001b[0m\u001b[0m\n\u001b[1;32m     46\u001b[0m         \u001b[0;32mif\u001b[0m \u001b[0mself\u001b[0m\u001b[0;34m.\u001b[0m\u001b[0m_use_rmin\u001b[0m \u001b[0;32mand\u001b[0m \u001b[0mself\u001b[0m\u001b[0;34m.\u001b[0m\u001b[0m_axis\u001b[0m \u001b[0;32mis\u001b[0m \u001b[0;32mnot\u001b[0m \u001b[0;32mNone\u001b[0m\u001b[0;34m:\u001b[0m\u001b[0;34m\u001b[0m\u001b[0;34m\u001b[0m\u001b[0m\n\u001b[0;32m---> 47\u001b[0;31m             \u001b[0mr\u001b[0m \u001b[0;34m=\u001b[0m \u001b[0;34m(\u001b[0m\u001b[0mr\u001b[0m \u001b[0;34m-\u001b[0m \u001b[0mself\u001b[0m\u001b[0;34m.\u001b[0m\u001b[0m_axis\u001b[0m\u001b[0;34m.\u001b[0m\u001b[0mget_rorigin\u001b[0m\u001b[0;34m(\u001b[0m\u001b[0;34m)\u001b[0m\u001b[0;34m)\u001b[0m \u001b[0;34m*\u001b[0m \u001b[0mself\u001b[0m\u001b[0;34m.\u001b[0m\u001b[0m_axis\u001b[0m\u001b[0;34m.\u001b[0m\u001b[0mget_rsign\u001b[0m\u001b[0;34m(\u001b[0m\u001b[0;34m)\u001b[0m\u001b[0;34m\u001b[0m\u001b[0;34m\u001b[0m\u001b[0m\n\u001b[0m\u001b[1;32m     48\u001b[0m         \u001b[0mr\u001b[0m \u001b[0;34m=\u001b[0m \u001b[0mnp\u001b[0m\u001b[0;34m.\u001b[0m\u001b[0mwhere\u001b[0m\u001b[0;34m(\u001b[0m\u001b[0mr\u001b[0m \u001b[0;34m>=\u001b[0m \u001b[0;36m0\u001b[0m\u001b[0;34m,\u001b[0m \u001b[0mr\u001b[0m\u001b[0;34m,\u001b[0m \u001b[0mnp\u001b[0m\u001b[0;34m.\u001b[0m\u001b[0mnan\u001b[0m\u001b[0;34m)\u001b[0m\u001b[0;34m\u001b[0m\u001b[0;34m\u001b[0m\u001b[0m\n\u001b[1;32m     49\u001b[0m         \u001b[0;32mreturn\u001b[0m \u001b[0mnp\u001b[0m\u001b[0;34m.\u001b[0m\u001b[0mcolumn_stack\u001b[0m\u001b[0;34m(\u001b[0m\u001b[0;34m[\u001b[0m\u001b[0mr\u001b[0m \u001b[0;34m*\u001b[0m \u001b[0mnp\u001b[0m\u001b[0;34m.\u001b[0m\u001b[0mcos\u001b[0m\u001b[0;34m(\u001b[0m\u001b[0mt\u001b[0m\u001b[0;34m)\u001b[0m\u001b[0;34m,\u001b[0m \u001b[0mr\u001b[0m \u001b[0;34m*\u001b[0m \u001b[0mnp\u001b[0m\u001b[0;34m.\u001b[0m\u001b[0msin\u001b[0m\u001b[0;34m(\u001b[0m\u001b[0mt\u001b[0m\u001b[0;34m)\u001b[0m\u001b[0;34m]\u001b[0m\u001b[0;34m)\u001b[0m\u001b[0;34m\u001b[0m\u001b[0;34m\u001b[0m\u001b[0m\n",
      "\u001b[0;32m/usr/lib/python3/dist-packages/matplotlib/projections/polar.py\u001b[0m in \u001b[0;36mget_rorigin\u001b[0;34m(self)\u001b[0m\n\u001b[1;32m   1194\u001b[0m         \u001b[0mfloat\u001b[0m\u001b[0;34m\u001b[0m\u001b[0;34m\u001b[0m\u001b[0m\n\u001b[1;32m   1195\u001b[0m         \"\"\"\n\u001b[0;32m-> 1196\u001b[0;31m         \u001b[0;32mreturn\u001b[0m \u001b[0mself\u001b[0m\u001b[0;34m.\u001b[0m\u001b[0m_originViewLim\u001b[0m\u001b[0;34m.\u001b[0m\u001b[0my0\u001b[0m\u001b[0;34m\u001b[0m\u001b[0;34m\u001b[0m\u001b[0m\n\u001b[0m\u001b[1;32m   1197\u001b[0m \u001b[0;34m\u001b[0m\u001b[0m\n\u001b[1;32m   1198\u001b[0m     \u001b[0;32mdef\u001b[0m \u001b[0mget_rsign\u001b[0m\u001b[0;34m(\u001b[0m\u001b[0mself\u001b[0m\u001b[0;34m)\u001b[0m\u001b[0;34m:\u001b[0m\u001b[0;34m\u001b[0m\u001b[0;34m\u001b[0m\u001b[0m\n",
      "\u001b[0;31mKeyboardInterrupt\u001b[0m: "
     ]
    }
   ],
   "source": [
    "# grow\n",
    "n=4444\n",
    "n_pad = str(n).zfill(4)\n",
    "\n",
    "cmap_name = 'inferno'\n",
    "cmap = mp.cm.get_cmap(cmap_name)\n",
    "\n",
    "cycles = 5\n",
    "cycles_pad = str(cycles).zfill(4)\n",
    "\n",
    "out = f'out/{cmap_name}-{cycles_pad}'\n",
    "if not os.path.isdir(out):\n",
    "    os.mkdir(out)\n",
    "\n",
    "for n in range(445,n+1):\n",
    "    n_pad = str(n).zfill(4)\n",
    "    \n",
    "    plt.cla()\n",
    "    plt_init_polar()\n",
    "    ax.set_title(f'G E O M E T O R • {cmap_name} • n: {n_pad} • cycles: {cycles}', fontdict={'color': '#960', 'size':'small'})\n",
    "    ax.set_axis_off()\n",
    "\n",
    "    spiral(n, cmap=cmap, color_cycle=cycles)\n",
    "    plt.savefig(f'{out}/{cmap_name}-{cycles_pad}-{n_pad}.png', dpi=300)\n"
   ]
  },
  {
   "cell_type": "code",
   "execution_count": 21,
   "id": "31240bbd-7eb1-407f-908d-d817b577fb63",
   "metadata": {},
   "outputs": [],
   "source": [
    "# anmiate the number of cycles over a fixed size\n",
    "n=444\n",
    "n_pad = str(n).zfill(4)\n",
    "\n",
    "cmap_name = 'PiYG'\n",
    "cmap = mp.cm.get_cmap(cmap_name)\n",
    "\n",
    "out = f'out/{cmap_name}-{n_pad}'\n",
    "if not os.path.isdir(out):\n",
    "    os.mkdir(out)\n",
    "\n",
    "for cycle in range(1, n+1):\n",
    "    cycle_pad = str(cycle).zfill(4)\n",
    "    plt.cla()\n",
    "    plt_init_polar()\n",
    "    ax.set_title(f'G E O M E T O R • {cmap_name} • n: {n_pad} • cycle: {cycle_pad}', fontdict={'color': '#960', 'size':'small'})\n",
    "    ax.set_axis_off()\n",
    "\n",
    "    spiral(n, color_map=cmap, color_cycles=cycle, rev=True)\n",
    "    plt.draw()\n",
    "    plt.savefig(f'{out}/{cmap_name}-{n_pad}-{cycle_pad}.png', dpi=300)\n"
   ]
  },
  {
   "cell_type": "code",
   "execution_count": 26,
   "id": "c86ce8d7-6207-4b34-aebc-8984465f190f",
   "metadata": {},
   "outputs": [],
   "source": [
    "# rotate the cycle offset  over a fixed size and number of cycles\n",
    "n=444\n",
    "n_pad = str(n).zfill(4)\n",
    "\n",
    "cycles=55\n",
    "cycles_pad = str(cycles).zfill(4)\n",
    "\n",
    "cmap_name = 'hsv'\n",
    "cmap = mp.cm.get_cmap(cmap_name)\n",
    "\n",
    "out = f'out/rotate'\n",
    "if not os.path.isdir(out):\n",
    "    os.mkdir(out)\n",
    "\n",
    "for offset in range(cycles):\n",
    "    plt.cla()\n",
    "    plt_init_polar()\n",
    "    ax.set_title(f'G E O M E T O R • {cmap_name} • n: {n_pad} • cycles: {cycles_pad} • offset: {offset}', fontdict={'color': '#960', 'size':'small'})\n",
    "    ax.set_axis_off()\n",
    "\n",
    "    spiral(n, color_map=cmap, color_cycles=cycles, offset=offset)\n",
    "    plt.draw()\n",
    "    plt.savefig(f'{out}/{cmap_name}-{n_pad}-{cycles_pad}-{str(offset).zfill(4)}.png', dpi=300)\n"
   ]
  },
  {
   "cell_type": "code",
   "execution_count": 26,
   "id": "7e3561dc-1106-4905-8cc1-446bcb070672",
   "metadata": {},
   "outputs": [],
   "source": [
    "# rotate the cycle offset  over a fixed size and number of cycles\n",
    "n=444\n",
    "n_pad = str(n).zfill(4)\n",
    "\n",
    "cycles=55\n",
    "cycles_pad = str(cycles).zfill(4)\n",
    "\n",
    "cmap_name = 'hsv'\n",
    "cmap = mp.cm.get_cmap(cmap_name)\n",
    "\n",
    "out = f'out/rotate'\n",
    "if not os.path.isdir(out):\n",
    "    os.mkdir(out)\n",
    "\n",
    "for offset in range(cycles):\n",
    "    plt.cla()\n",
    "    plt_init_polar()\n",
    "    ax.set_title(f'G E O M E T O R • {cmap_name} • n: {n_pad} • cycles: {cycles_pad} • offset: {offset}', fontdict={'color': '#960', 'size':'small'})\n",
    "    ax.set_axis_off()\n",
    "\n",
    "    spiral(n, color_map=cmap, color_cycles=cycles, offset=offset)\n",
    "    plt.draw()\n",
    "    plt.savefig(f'{out}/{cmap_name}-{n_pad}-{cycles_pad}-{str(offset).zfill(4)}.png', dpi=300)\n"
   ]
  },
  {
   "cell_type": "raw",
   "id": "4c27c713-81f2-4ce2-96f8-0d5ec6be1e3d",
   "metadata": {},
   "source": []
  },
  {
   "cell_type": "code",
   "execution_count": null,
   "id": "2dce35a7-033c-42e8-b82a-797f4e43829e",
   "metadata": {
    "tags": []
   },
   "outputs": [],
   "source": [
    "# grow to n points for each color cycle up to n\n",
    "n=233\n",
    "n_pad = str(n).zfill(4)\n",
    "\n",
    "cmap_name = 'hot'\n",
    "cmap = mp.cm.get_cmap(cmap_name)\n",
    "\n",
    "out = f'out/overlay-hot'\n",
    "if not os.path.isdir(out):\n",
    "    os.mkdir(out)\n",
    "\n",
    "\n",
    "for cycle in range(1, n+1):\n",
    "    cycle_pad = str(cycle).zfill(4)\n",
    "    # plt.cla()\n",
    "    # plt_init_polar()\n",
    "    for i in range(1,n+1):\n",
    "        i_pad = str(i).zfill(4)\n",
    "        plt.cla()\n",
    "        plt_init_polar()\n",
    "        ax.set_title(f'G E O M E T O R • {cmap_name} • n: {n_pad}-{i_pad} • cycle: {cycle_pad}', fontdict={'color': '#960', 'size':'small'})\n",
    "        ax.set_axis_off()\n",
    "        spiral(i, color_map=cmap, color_cycles=cycle)\n",
    "        plt.savefig(f'{out}/{cmap_name}-{n_pad}-{cycle_pad}-{i_pad}.png', dpi=300)\n"
   ]
  },
  {
   "cell_type": "code",
   "execution_count": 1,
   "id": "cfe217bb-b207-4287-a4d6-d013c73663ed",
   "metadata": {},
   "outputs": [
    {
     "data": {
      "text/plain": [
       "1220"
      ]
     },
     "execution_count": 1,
     "metadata": {},
     "output_type": "execute_result"
    }
   ],
   "source": [
    "377 + 233 + 610"
   ]
  },
  {
   "cell_type": "code",
   "execution_count": 35,
   "id": "38b2e76a-6946-494d-b58b-4b340703307f",
   "metadata": {},
   "outputs": [
    {
     "name": "stdout",
     "output_type": "stream",
     "text": [
      "count: 576\n"
     ]
    },
    {
     "data": {
      "image/png": "[encoded data removed]",
      "text/latex": [
       "$\\displaystyle 576$"
      ],
      "text/plain": [
       "576"
      ]
     },
     "execution_count": 35,
     "metadata": {},
     "output_type": "execute_result"
    }
   ],
   "source": [
    "# grow to n points for each color cycle up to n\n",
    "# - with Pool\n",
    "\n",
    "def spiral_params(params):\n",
    "    '''take params in single dict for multiprocessing'''\n",
    "    n = params['n']\n",
    "    n_pad = str(n).zfill(4)\n",
    "    color_cycle = params['color_cycle']\n",
    "    cycle_pad = str(color_cycle).zfill(4)\n",
    "    cmap = params['cmap']\n",
    "    \n",
    "    plt.cla()\n",
    "    plt_init_polar()\n",
    "    \n",
    "    title = f'G E O M E T O R • {cmap.name} • cycle: {cycle_pad} • n: {n_pad}'\n",
    "    ax.set_title(title, fontdict={'color': '#960', 'size':'small'})\n",
    "    ax.set_axis_off()\n",
    "    \n",
    "    spiral(n=n, cmap=cmap, color_cycle=color_cycle)\n",
    "    \n",
    "    out = f'out/{cmap_name}-{cycle_pad}'\n",
    "    if not os.path.isdir(out):\n",
    "        os.mkdir(out)\n",
    "    filename = f'{out}/{cmap_name}-{cycle_pad}-{n_pad}.png'\n",
    "    plt.savefig(filename, dpi=300)\n",
    "    return filename\n",
    "\n",
    "n=144\n",
    "\n",
    "cmap_name = 'inferno'\n",
    "cmap = mp.cm.get_cmap(cmap_name)\n",
    "\n",
    "\n",
    "generations = []\n",
    "\n",
    "# for cycle in range(2, n+1):\n",
    "for cycle in range(2, 6):\n",
    "    # plt.cla()\n",
    "    # plt_init_polar()\n",
    "    for i in range(1,n+1):\n",
    "        gen = {'n': i, 'cmap': cmap, 'color_cycle': cycle} \n",
    "        generations.append(gen)\n",
    "        \n",
    "print(f'count: {len(generations)}')\n",
    "        \n",
    "\n",
    "with Pool(num_workers) as pool:\n",
    "    results = pool.map(spiral_params, generations)\n",
    "\n",
    "len(results)\n"
   ]
  },
  {
   "cell_type": "code",
   "execution_count": 21,
   "id": "2e35d72b-2c0f-4b94-b0b0-09c465db4bfc",
   "metadata": {},
   "outputs": [
    {
     "name": "stdout",
     "output_type": "stream",
     "text": [
      "610\n"
     ]
    },
    {
     "data": {
      "image/png": "[encoded data removed]",
      "text/latex": [
       "$\\displaystyle 610$"
      ],
      "text/plain": [
       "610"
      ]
     },
     "execution_count": 21,
     "metadata": {},
     "output_type": "execute_result"
    }
   ],
   "source": [
    "# rotate the cycle offset  over a fixed size and number of cycles\n",
    "def spiral_rotate(params):\n",
    "    '''take params in single dict for multiprocessing'''\n",
    "    n = params['n']\n",
    "    n_pad = str(n).zfill(4)\n",
    "    \n",
    "    color_cycle = params['color_cycle']\n",
    "    cycle_pad = str(color_cycle).zfill(4)\n",
    "    \n",
    "    offset = params['offset']\n",
    "    offset_pad = str(offset).zfill(4)\n",
    "    \n",
    "    cmap = params['cmap']\n",
    "    \n",
    "    plt.cla()\n",
    "    plt_init_polar()\n",
    "    \n",
    "    title = f'G E O M E T O R • {cmap.name} • n: {n_pad} • cycle: {cycle_pad}-{offset_pad}'\n",
    "    ax.set_title(title, fontdict={'color': '#960', 'size':'small'})\n",
    "    ax.set_axis_off()\n",
    "    \n",
    "    spiral(n=n, cmap=cmap, color_cycle=color_cycle, offset=offset)\n",
    "    \n",
    "    filename = f'{out}/{cmap_name}-{n_pad}-{cycle_pad}-{offset_pad}.png'\n",
    "    plt.savefig(filename, dpi=300)\n",
    "    return filename\n",
    "\n",
    "n=1220\n",
    "\n",
    "color_cycle=610\n",
    "\n",
    "cmap_name = 'hot'\n",
    "cmap = mp.cm.get_cmap(cmap_name)\n",
    "\n",
    "out = f'out/rotate2'\n",
    "if not os.path.isdir(out):\n",
    "    os.mkdir(out)\n",
    "\n",
    "generations = []\n",
    "\n",
    "for offset in range(color_cycle):\n",
    "    gen = {'n': n, 'cmap': cmap, 'color_cycle': color_cycle, 'offset': offset} \n",
    "    generations.append(gen)\n",
    "        \n",
    "print(len(generations))\n",
    "        \n",
    "\n",
    "with Pool(num_workers) as pool:\n",
    "    results = pool.map(spiral_rotate, generations)\n",
    "\n",
    "len(results)\n"
   ]
  },
  {
   "cell_type": "code",
   "execution_count": null,
   "id": "db8d8854-a8dd-454f-af28-c60b552cf8dd",
   "metadata": {},
   "outputs": [],
   "source": []
  }
 ],
 "metadata": {
  "kernelspec": {
   "display_name": "Python 3 (ipykernel)",
   "language": "python",
   "name": "python3"
  },
  "language_info": {
   "codemirror_mode": {
    "name": "ipython",
    "version": 3
   },
   "file_extension": ".py",
   "mimetype": "text/x-python",
   "name": "python",
   "nbconvert_exporter": "python",
   "pygments_lexer": "ipython3",
   "version": "3.9.5"
  }
 },
 "nbformat": 4,
 "nbformat_minor": 5
}
