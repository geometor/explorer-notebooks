{
 "cells": [
  {
   "cell_type": "code",
   "execution_count": 6,
   "id": "5bd4c079-f7ee-41de-8bdc-513fc6946566",
   "metadata": {},
   "outputs": [
    {
     "data": {
      "application/vnd.jupyter.widget-view+json": {
       "model_id": "3e5e562e45014efc9a911d6bb34fb456",
       "version_major": 2,
       "version_minor": 0
      },
      "image/png": "[encoded data removed]",
      "text/html": [
       "\n",
       "            <div style=\"display: inline-block;\">\n",
       "                <div class=\"jupyter-widgets widget-label\" style=\"text-align: center;\">\n",
       "                    Figure\n",
       "                </div>\n",
       "                <img src='data:image/png;base64,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' width=640.0/>\n",
       "            </div>\n",
       "        "
      ],
      "text/plain": [
       "Canvas(toolbar=Toolbar(toolitems=[('Home', 'Reset original view', 'home', 'home'), ('Back', 'Back to previous …"
      ]
     },
     "metadata": {},
     "output_type": "display_data"
    }
   ],
   "source": [
    "%run run.py\n",
    "%matplotlib widget\n",
    "log_init('spiral-3')\n",
    "\n",
    "plt_init_polar()\n",
    "\n",
    "# radii = np.arange(0, 500, phi)\n",
    "# theta = 2 * np.pi * radii\n",
    "\n",
    "fig, ax = plt.subplots(subplot_kw={'projection': 'polar'})\n",
    "ax.set_title('G E O M E T O R', fontdict={'color': '#960', 'size':'small'})\n",
    "ax.set_axis_off()\n",
    "\n",
    "def spiral(n=144, cmap=mp.cm.YlGn, color_cycle=21, rev=False, offset=0):\n",
    "    for i in range(n):\n",
    "        # radius = i * phi\n",
    "        radius = n - i \n",
    "        theta = 2 * np.pi * i * phi\n",
    "        color_scale = (((i + offset) % color_cycle) / color_cycle)\n",
    "        color_scale = color_scale + (1 / (color_cycle * 2))\n",
    "        if rev:\n",
    "            color_scale = 1 - color_scale\n",
    "        color = cmap(color_scale)\n",
    "        ax.plot(theta, radius, marker='.', markersize=math.sqrt(radius)+4, color=color)\n",
    "\n",
    "def spiral_params(params):\n",
    "    '''take params in single dict for multiprocessing'''\n",
    "    n = params['n']\n",
    "    n_pad = str(n).zfill(4)\n",
    "    color_cycle = params['color_cycle']\n",
    "    cycle_pad = str(color_cycle).zfill(4)\n",
    "    cmap = params['cmap']\n",
    "    \n",
    "    plt.cla()\n",
    "    plt_init_polar()\n",
    "    \n",
    "    title = f'G E O M E T O R • {cmap.name} • cycle: {cycle_pad} • n: {n_pad}'\n",
    "    ax.set_title(title, fontdict={'color': '#960', 'size':'small'})\n",
    "    ax.set_axis_off()\n",
    "    \n",
    "    spiral(n=n, cmap=cmap, color_cycle=color_cycle)\n",
    "    \n",
    "    out = f'out/{cmap_name}-{cycle_pad}'\n",
    "    if not os.path.isdir(out):\n",
    "        os.mkdir(out)\n",
    "    filename = f'{out}/{cmap_name}-{cycle_pad}-{n_pad}.svg'\n",
    "    plt.savefig(filename, dpi=300)\n",
    "    return filename\n",
    "\n",
    "# spiral(n=21, cmap=mp.cm.hot, color_cycle=5)"
   ]
  },
  {
   "cell_type": "code",
   "execution_count": 8,
   "id": "38b2e76a-6946-494d-b58b-4b340703307f",
   "metadata": {},
   "outputs": [
    {
     "name": "stdout",
     "output_type": "stream",
     "text": [
      "count: 610\n",
      "generation complete\n"
     ]
    },
    {
     "data": {
      "image/png": "[encoded data removed]",
      "text/latex": [
       "$\\displaystyle 610$"
      ],
      "text/plain": [
       "610"
      ]
     },
     "execution_count": 8,
     "metadata": {},
     "output_type": "execute_result"
    }
   ],
   "source": [
    "# grow to n points for each color cycle up to n\n",
    "# - with Pool\n",
    "\n",
    "cmap_name = 'copper'\n",
    "cmap = mp.cm.get_cmap(cmap_name)\n",
    "\n",
    "generations = []\n",
    "\n",
    "for cycle in range(2, 3):\n",
    "    for i in range(1, 611):\n",
    "        gen = {'n': i, 'cmap': cmap, 'color_cycle': cycle} \n",
    "        generations.append(gen)\n",
    "        \n",
    "print(f'count: {len(generations)}')\n",
    "        \n",
    "with Pool(num_workers) as pool:\n",
    "    results = pool.map(spiral_params, generations)\n",
    "print(\"generation complete\")\n",
    "len(results)\n"
   ]
  },
  {
   "cell_type": "code",
   "execution_count": 21,
   "id": "31240bbd-7eb1-407f-908d-d817b577fb63",
   "metadata": {},
   "outputs": [],
   "source": [
    "# anmiate the number of cycles over a fixed size\n",
    "n=444\n",
    "n_pad = str(n).zfill(4)\n",
    "\n",
    "cmap_name = 'PiYG'\n",
    "cmap = mp.cm.get_cmap(cmap_name)\n",
    "\n",
    "out = f'out/{cmap_name}-{n_pad}'\n",
    "if not os.path.isdir(out):\n",
    "    os.mkdir(out)\n",
    "\n",
    "for cycle in range(1, n+1):\n",
    "    cycle_pad = str(cycle).zfill(4)\n",
    "    plt.cla()\n",
    "    plt_init_polar()\n",
    "    ax.set_title(f'G E O M E T O R • {cmap_name} • n: {n_pad} • cycle: {cycle_pad}', fontdict={'color': '#960', 'size':'small'})\n",
    "    ax.set_axis_off()\n",
    "\n",
    "    spiral(n, color_map=cmap, color_cycles=cycle, rev=True)\n",
    "    plt.draw()\n",
    "    plt.savefig(f'{out}/{cmap_name}-{n_pad}-{cycle_pad}.png', dpi=300)\n"
   ]
  },
  {
   "cell_type": "code",
   "execution_count": 26,
   "id": "c86ce8d7-6207-4b34-aebc-8984465f190f",
   "metadata": {},
   "outputs": [],
   "source": [
    "# rotate the cycle offset  over a fixed size and number of cycles\n",
    "n=444\n",
    "n_pad = str(n).zfill(4)\n",
    "\n",
    "cycles=55\n",
    "cycles_pad = str(cycles).zfill(4)\n",
    "\n",
    "cmap_name = 'hsv'\n",
    "cmap = mp.cm.get_cmap(cmap_name)\n",
    "\n",
    "out = f'out/rotate'\n",
    "if not os.path.isdir(out):\n",
    "    os.mkdir(out)\n",
    "\n",
    "for offset in range(cycles):\n",
    "    plt.cla()\n",
    "    plt_init_polar()\n",
    "    ax.set_title(f'G E O M E T O R • {cmap_name} • n: {n_pad} • cycles: {cycles_pad} • offset: {offset}', fontdict={'color': '#960', 'size':'small'})\n",
    "    ax.set_axis_off()\n",
    "\n",
    "    spiral(n, color_map=cmap, color_cycles=cycles, offset=offset)\n",
    "    plt.draw()\n",
    "    plt.savefig(f'{out}/{cmap_name}-{n_pad}-{cycles_pad}-{str(offset).zfill(4)}.png', dpi=300)\n"
   ]
  },
  {
   "cell_type": "code",
   "execution_count": 26,
   "id": "7e3561dc-1106-4905-8cc1-446bcb070672",
   "metadata": {},
   "outputs": [],
   "source": [
    "# rotate the cycle offset  over a fixed size and number of cycles\n",
    "n=444\n",
    "n_pad = str(n).zfill(4)\n",
    "\n",
    "cycles=55\n",
    "cycles_pad = str(cycles).zfill(4)\n",
    "\n",
    "cmap_name = 'hsv'\n",
    "cmap = mp.cm.get_cmap(cmap_name)\n",
    "\n",
    "out = f'out/rotate'\n",
    "if not os.path.isdir(out):\n",
    "    os.mkdir(out)\n",
    "\n",
    "for offset in range(cycles):\n",
    "    plt.cla()\n",
    "    plt_init_polar()\n",
    "    ax.set_title(f'G E O M E T O R • {cmap_name} • n: {n_pad} • cycles: {cycles_pad} • offset: {offset}', fontdict={'color': '#960', 'size':'small'})\n",
    "    ax.set_axis_off()\n",
    "\n",
    "    spiral(n, color_map=cmap, color_cycles=cycles, offset=offset)\n",
    "    plt.draw()\n",
    "    plt.savefig(f'{out}/{cmap_name}-{n_pad}-{cycles_pad}-{str(offset).zfill(4)}.png', dpi=300)\n"
   ]
  },
  {
   "cell_type": "raw",
   "id": "4c27c713-81f2-4ce2-96f8-0d5ec6be1e3d",
   "metadata": {},
   "source": []
  },
  {
   "cell_type": "code",
   "execution_count": null,
   "id": "2dce35a7-033c-42e8-b82a-797f4e43829e",
   "metadata": {
    "tags": []
   },
   "outputs": [],
   "source": [
    "# grow to n points for each color cycle up to n\n",
    "n=233\n",
    "n_pad = str(n).zfill(4)\n",
    "\n",
    "cmap_name = 'hot'\n",
    "cmap = mp.cm.get_cmap(cmap_name)\n",
    "\n",
    "out = f'out/overlay-hot'\n",
    "if not os.path.isdir(out):\n",
    "    os.mkdir(out)\n",
    "\n",
    "\n",
    "for cycle in range(1, n+1):\n",
    "    cycle_pad = str(cycle).zfill(4)\n",
    "    # plt.cla()\n",
    "    # plt_init_polar()\n",
    "    for i in range(1,n+1):\n",
    "        i_pad = str(i).zfill(4)\n",
    "        plt.cla()\n",
    "        plt_init_polar()\n",
    "        ax.set_title(f'G E O M E T O R • {cmap_name} • n: {n_pad}-{i_pad} • cycle: {cycle_pad}', fontdict={'color': '#960', 'size':'small'})\n",
    "        ax.set_axis_off()\n",
    "        spiral(i, color_map=cmap, color_cycles=cycle)\n",
    "        plt.savefig(f'{out}/{cmap_name}-{n_pad}-{cycle_pad}-{i_pad}.png', dpi=300)\n"
   ]
  },
  {
   "cell_type": "code",
   "execution_count": 1,
   "id": "cfe217bb-b207-4287-a4d6-d013c73663ed",
   "metadata": {},
   "outputs": [
    {
     "data": {
      "text/plain": [
       "1220"
      ]
     },
     "execution_count": 1,
     "metadata": {},
     "output_type": "execute_result"
    }
   ],
   "source": [
    "377 + 233 + 610"
   ]
  },
  {
   "cell_type": "code",
   "execution_count": 21,
   "id": "2e35d72b-2c0f-4b94-b0b0-09c465db4bfc",
   "metadata": {},
   "outputs": [
    {
     "name": "stdout",
     "output_type": "stream",
     "text": [
      "610\n"
     ]
    },
    {
     "data": {
      "image/png": "[encoded data removed]",
      "text/latex": [
       "$\\displaystyle 610$"
      ],
      "text/plain": [
       "610"
      ]
     },
     "execution_count": 21,
     "metadata": {},
     "output_type": "execute_result"
    }
   ],
   "source": [
    "# rotate the cycle offset  over a fixed size and number of cycles\n",
    "def spiral_rotate(params):\n",
    "    '''take params in single dict for multiprocessing'''\n",
    "    n = params['n']\n",
    "    n_pad = str(n).zfill(4)\n",
    "    \n",
    "    color_cycle = params['color_cycle']\n",
    "    cycle_pad = str(color_cycle).zfill(4)\n",
    "    \n",
    "    offset = params['offset']\n",
    "    offset_pad = str(offset).zfill(4)\n",
    "    \n",
    "    cmap = params['cmap']\n",
    "    \n",
    "    plt.cla()\n",
    "    plt_init_polar()\n",
    "    \n",
    "    title = f'G E O M E T O R • {cmap.name} • n: {n_pad} • cycle: {cycle_pad}-{offset_pad}'\n",
    "    ax.set_title(title, fontdict={'color': '#960', 'size':'small'})\n",
    "    ax.set_axis_off()\n",
    "    \n",
    "    spiral(n=n, cmap=cmap, color_cycle=color_cycle, offset=offset)\n",
    "    \n",
    "    filename = f'{out}/{cmap_name}-{n_pad}-{cycle_pad}-{offset_pad}.png'\n",
    "    plt.savefig(filename, dpi=300)\n",
    "    return filename\n",
    "\n",
    "n=1220\n",
    "\n",
    "color_cycle=610\n",
    "\n",
    "cmap_name = 'hot'\n",
    "cmap = mp.cm.get_cmap(cmap_name)\n",
    "\n",
    "out = f'out/rotate2'\n",
    "if not os.path.isdir(out):\n",
    "    os.mkdir(out)\n",
    "\n",
    "generations = []\n",
    "\n",
    "for offset in range(color_cycle):\n",
    "    gen = {'n': n, 'cmap': cmap, 'color_cycle': color_cycle, 'offset': offset} \n",
    "    generations.append(gen)\n",
    "        \n",
    "print(len(generations))\n",
    "        \n",
    "\n",
    "with Pool(num_workers) as pool:\n",
    "    results = pool.map(spiral_rotate, generations)\n",
    "\n",
    "len(results)\n"
   ]
  },
  {
   "cell_type": "code",
   "execution_count": null,
   "id": "db8d8854-a8dd-454f-af28-c60b552cf8dd",
   "metadata": {},
   "outputs": [],
   "source": []
  }
 ],
 "metadata": {
  "kernelspec": {
   "display_name": "Python 3 (ipykernel)",
   "language": "python",
   "name": "python3"
  },
  "language_info": {
   "codemirror_mode": {
    "name": "ipython",
    "version": 3
   },
   "file_extension": ".py",
   "mimetype": "text/x-python",
   "name": "python",
   "nbconvert_exporter": "python",
   "pygments_lexer": "ipython3",
   "version": "3.9.5"
  }
 },
 "nbformat": 4,
 "nbformat_minor": 5
}
