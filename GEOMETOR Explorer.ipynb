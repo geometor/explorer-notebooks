{
 "cells": [
  {
   "cell_type": "markdown",
   "id": "5b386fd2",
   "metadata": {
    "slideshow": {
     "slide_type": "slide"
    }
   },
   "source": [
    "# GEOMETOR Explorer • notebook\n",
    "\n",
    "This is the first notebook to begin the process of porting over the concepts from the previous architecture of the GEOMETOR Explorer"
   ]
  },
  {
   "cell_type": "code",
   "execution_count": 14,
   "id": "ce7bf03b",
   "metadata": {
    "slideshow": {
     "slide_type": "slide"
    },
    "tags": [
     "golden",
     "ratio"
    ]
   },
   "outputs": [],
   "source": [
    "%run geometor.py\n",
    "%matplotlib inline"
   ]
  },
  {
   "cell_type": "code",
   "execution_count": 15,
   "id": "5b9c2b87",
   "metadata": {
    "slideshow": {
     "slide_type": "slide"
    },
    "tags": [
     "golden",
     "ratio"
    ]
   },
   "outputs": [
    {
     "data": {
      "text/latex": [
       "$\\displaystyle 1.61803398874989$"
      ],
      "text/plain": [
       "1.61803398874989"
      ]
     },
     "execution_count": 15,
     "metadata": {},
     "output_type": "execute_result"
    }
   ],
   "source": [
    "Φ = sp.GoldenRatio\n",
    "sp.N(Φ)"
   ]
  },
  {
   "cell_type": "code",
   "execution_count": 16,
   "id": "0235edc0",
   "metadata": {
    "slideshow": {
     "slide_type": "subslide"
    }
   },
   "outputs": [
    {
     "data": {
      "text/latex": [
       "$\\displaystyle \\phi$"
      ],
      "text/plain": [
       "GoldenRatio"
      ]
     },
     "execution_count": 16,
     "metadata": {},
     "output_type": "execute_result"
    }
   ],
   "source": [
    "sp.simplify(Φ)"
   ]
  },
  {
   "cell_type": "code",
   "execution_count": 17,
   "id": "ec11a026",
   "metadata": {
    "slideshow": {
     "slide_type": "subslide"
    }
   },
   "outputs": [
    {
     "data": {
      "text/latex": [
       "$\\displaystyle \\frac{1}{2} + \\frac{\\sqrt{5}}{2}$"
      ],
      "text/plain": [
       "1/2 + sqrt(5)/2"
      ]
     },
     "execution_count": 17,
     "metadata": {},
     "output_type": "execute_result"
    }
   ],
   "source": [
    "Φ.expand(func=True)"
   ]
  },
  {
   "cell_type": "code",
   "execution_count": 20,
   "id": "92dd5b7f",
   "metadata": {},
   "outputs": [
    {
     "data": {
      "image/png": "[encoded data removed]",
      "text/plain": [
       "<Figure size 432x288 with 1 Axes>"
      ]
     },
     "metadata": {
      "needs_background": "dark"
     },
     "output_type": "display_data"
    }
   ],
   "source": [
    "# p = spp.plot_implicit((x**2 + y**2), (x, -2, 2), (y, -2, 2))\n",
    "p = spp.plot((x**2), (x, -2, 2), line_color='r', axis=False)\n",
    "# p.show()"
   ]
  },
  {
   "cell_type": "code",
   "execution_count": 28,
   "id": "29b68162",
   "metadata": {},
   "outputs": [],
   "source": [
    "# mpp.plot([0, 1], [0,1], 'w', show=False)\n",
    "# p.show()"
   ]
  }
 ],
 "metadata": {
  "kernelspec": {
   "display_name": "Python 3 (ipykernel)",
   "language": "python",
   "name": "python3"
  },
  "language_info": {
   "codemirror_mode": {
    "name": "ipython",
    "version": 3
   },
   "file_extension": ".py",
   "mimetype": "text/x-python",
   "name": "python",
   "nbconvert_exporter": "python",
   "pygments_lexer": "ipython3",
   "version": "3.9.7"
  }
 },
 "nbformat": 4,
 "nbformat_minor": 5
}
