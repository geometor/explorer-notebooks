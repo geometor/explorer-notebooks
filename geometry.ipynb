{
 "cells": [
  {
   "cell_type": "code",
   "execution_count": 1,
   "id": "5d5bdef3",
   "metadata": {},
   "outputs": [],
   "source": [
    "import sympy as sp\n",
    "from sympy.abc import x, y\n",
    "\n",
    "import geometor as g\n"
   ]
  },
  {
   "cell_type": "code",
   "execution_count": 2,
   "id": "0d1ef706",
   "metadata": {},
   "outputs": [
    {
     "data": {
      "text/plain": [
       "[Point2D(-1/2, 0), Point2D(1/2, 0)]"
      ]
     },
     "execution_count": 2,
     "metadata": {},
     "output_type": "execute_result"
    }
   ],
   "source": [
    "\n",
    "pts = []\n",
    "pts.append(g.point(sp.Rational(-1, 2), 0))\n",
    "pts.append(g.point(sp.Rational(1, 2), 0))\n",
    "pts"
   ]
  },
  {
   "cell_type": "code",
   "execution_count": 3,
   "id": "74fa0824",
   "metadata": {},
   "outputs": [
    {
     "data": {
      "text/latex": [
       "$\\displaystyle y$"
      ],
      "text/plain": [
       "y"
      ]
     },
     "execution_count": 3,
     "metadata": {},
     "output_type": "execute_result"
    }
   ],
   "source": [
    "elements = []\n",
    "l1 = g.line(pts[0], pts[1])\n",
    "c1 = g.circle(pts[0], pts[1])\n",
    "c2 = g.circle(pts[1], pts[0])\n",
    "l1.equation()"
   ]
  },
  {
   "cell_type": "code",
   "execution_count": 8,
   "id": "59fff866",
   "metadata": {},
   "outputs": [
    {
     "data": {
      "text/latex": [
       "$\\displaystyle y^{2} + \\left(x + \\frac{1}{2}\\right)^{2} - 1$"
      ],
      "text/plain": [
       "y**2 + (x + 1/2)**2 - 1"
      ]
     },
     "execution_count": 8,
     "metadata": {},
     "output_type": "execute_result"
    }
   ],
   "source": [
    "c1.equation()\n"
   ]
  },
  {
   "cell_type": "code",
   "execution_count": 4,
   "id": "289e336f",
   "metadata": {},
   "outputs": [
    {
     "data": {
      "image/png": "[encoded data removed]",
      "text/plain": [
       "<Figure size 432x288 with 1 Axes>"
      ]
     },
     "metadata": {
      "needs_background": "light"
     },
     "output_type": "display_data"
    }
   ],
   "source": [
    "plot = g.plot(l1, 'g')\n",
    "\n",
    "plot.show()"
   ]
  },
  {
   "cell_type": "code",
   "execution_count": 5,
   "id": "4af6a224",
   "metadata": {},
   "outputs": [
    {
     "data": {
      "text/plain": [
       "[Point2D(-1/2, 0),\n",
       " Point2D(1/2, 0),\n",
       " Point2D(0, -sqrt(3)/2),\n",
       " Point2D(0, sqrt(3)/2)]"
      ]
     },
     "execution_count": 5,
     "metadata": {},
     "output_type": "execute_result"
    }
   ],
   "source": [
    "plot.extend(g.plot(c1, 'r'))\n",
    "plot.extend(g.plot(c2, 'r'))\n",
    "pts.extend(c1.intersection(c2))\n",
    "pts"
   ]
  },
  {
   "cell_type": "code",
   "execution_count": 6,
   "id": "718e24d5",
   "metadata": {},
   "outputs": [
    {
     "data": {
      "text/latex": [
       "$\\displaystyle - x + \\frac{3 y}{2} - \\frac{1}{2}$"
      ],
      "text/plain": [
       "-x + 3*y/2 - 1/2"
      ]
     },
     "execution_count": 6,
     "metadata": {},
     "output_type": "execute_result"
    }
   ],
   "source": [
    "l2 = g.line(pts[0], g.point(1, 1))\n",
    "l2.equation()\n"
   ]
  },
  {
   "cell_type": "code",
   "execution_count": 7,
   "id": "65c803ab",
   "metadata": {},
   "outputs": [
    {
     "data": {
      "image/png": "[encoded data removed]",
      "text/plain": [
       "<Figure size 432x288 with 1 Axes>"
      ]
     },
     "metadata": {
      "needs_background": "light"
     },
     "output_type": "display_data"
    }
   ],
   "source": [
    "plot = g.plot(l2, 'b')\n",
    "plot.show()"
   ]
  },
  {
   "cell_type": "code",
   "execution_count": null,
   "id": "e2142066",
   "metadata": {},
   "outputs": [],
   "source": []
  }
 ],
 "metadata": {
  "kernelspec": {
   "display_name": "Python 3 (ipykernel)",
   "language": "python",
   "name": "python3"
  },
  "language_info": {
   "codemirror_mode": {
    "name": "ipython",
    "version": 3
   },
   "file_extension": ".py",
   "mimetype": "text/x-python",
   "name": "python",
   "nbconvert_exporter": "python",
   "pygments_lexer": "ipython3",
   "version": "3.9.7"
  }
 },
 "nbformat": 4,
 "nbformat_minor": 5
}
