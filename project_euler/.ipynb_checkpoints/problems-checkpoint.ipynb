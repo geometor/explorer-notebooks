{
 "cells": [
  {
   "cell_type": "code",
   "execution_count": 1,
   "id": "82fb3215-b867-4d9b-afa7-21c21ef2043d",
   "metadata": {},
   "outputs": [
    {
     "name": "stdout",
     "output_type": "stream",
     "text": [
      "233168\n"
     ]
    }
   ],
   "source": [
    "# problem 1\n",
    "# Find the sum of all the multiples of 3 or 5 below 1000\n",
    "sum = 0\n",
    "for n in range(1, 1000):\n",
    "    if not (n % 3) or not (n % 5):\n",
    "        sum += n\n",
    "print(sum)"
   ]
  },
  {
   "cell_type": "code",
   "execution_count": 4,
   "id": "eb632d08-176e-4901-8c2f-115d49eea8fb",
   "metadata": {},
   "outputs": [
    {
     "name": "stdout",
     "output_type": "stream",
     "text": [
      "4613732\n"
     ]
    }
   ],
   "source": [
    "# By considering the terms in the Fibonacci sequence \n",
    "# whose values do not exceed four million, \n",
    "# find the sum of the even-valued terms.\n",
    "\n",
    "f1 = 1\n",
    "f2 = 2\n",
    "\n",
    "sum = f2\n",
    "\n",
    "while f2 < 4000000:\n",
    "    f1, f2 = f2, f1 + f2\n",
    "    if not (f2 % 2):\n",
    "        sum += f2\n",
    "\n",
    "print(sum)"
   ]
  },
  {
   "cell_type": "code",
   "execution_count": 5,
   "id": "ac00bfe6-0053-424f-8cbc-8e22ffacfbd9",
   "metadata": {},
   "outputs": [
    {
     "data": {
      "text/plain": [
       "[71, 839, 1471, 6857]"
      ]
     },
     "execution_count": 5,
     "metadata": {},
     "output_type": "execute_result"
    }
   ],
   "source": [
    "# What is the largest prime factor of the number 600851475143 ?\n",
    "import sympy as sp\n",
    "n = 600851475143\n",
    "sp.primefactors(n)"
   ]
  },
  {
   "cell_type": "code",
   "execution_count": 15,
   "id": "4323e5e5-6224-48b7-999d-60fb13a2221f",
   "metadata": {},
   "outputs": [
    {
     "data": {
      "text/plain": [
       "6857"
      ]
     },
     "execution_count": 15,
     "metadata": {},
     "output_type": "execute_result"
    }
   ],
   "source": [
    "def largest_prime_factor(n):\n",
    "    i = 2\n",
    "    while i * i <= n:\n",
    "        if n % i:\n",
    "            i += 1\n",
    "        else:\n",
    "            n //= i\n",
    "    return n\n",
    "largest_prime_factor(n)"
   ]
  },
  {
   "cell_type": "code",
   "execution_count": 19,
   "id": "f3574219-3445-4917-a016-eb97302060bc",
   "metadata": {},
   "outputs": [
    {
     "data": {
      "text/plain": [
       "321"
      ]
     },
     "execution_count": 19,
     "metadata": {},
     "output_type": "execute_result"
    }
   ],
   "source": [
    "a = 123\n",
    "int(str(a)[::-1])"
   ]
  },
  {
   "cell_type": "code",
   "execution_count": 23,
   "id": "a2919991-85a1-4097-aed2-c53958fd7631",
   "metadata": {},
   "outputs": [
    {
     "data": {
      "text/plain": [
       "906609"
      ]
     },
     "execution_count": 23,
     "metadata": {},
     "output_type": "execute_result"
    }
   ],
   "source": [
    "# Find the largest palindrome made from the product of two 3-digit numbers.\n",
    "a = 999\n",
    "max = 0\n",
    "for i in reversed(range(1, 1000)):\n",
    "    for j in reversed(range(1, i)):\n",
    "        n = i * j\n",
    "        if str(n) == str(n)[::-1]:\n",
    "            if n > max:\n",
    "                max = n\n",
    "max "
   ]
  },
  {
   "cell_type": "code",
   "execution_count": 35,
   "id": "c4840d74-b7f4-41f6-a640-3361632c74fc",
   "metadata": {},
   "outputs": [
    {
     "data": {
      "text/plain": [
       "232792560"
      ]
     },
     "execution_count": 35,
     "metadata": {},
     "output_type": "execute_result"
    }
   ],
   "source": [
    "# 2520 is the smallest number that can be \n",
    "# divided by each of the numbers from 1 to 10 without any remainder.\n",
    "# What is the smallest positive number that is evenly \n",
    "# divisible by all of the numbers from 1 to 20?\n",
    "\n",
    "a = 1\n",
    "b = 20\n",
    "\n",
    "import math as math\n",
    "math.lcm(*range(a, b+1))"
   ]
  },
  {
   "cell_type": "code",
   "execution_count": 39,
   "id": "1efb04bb-6c48-4156-bc11-aaa2b6a0f4d6",
   "metadata": {},
   "outputs": [
    {
     "data": {
      "text/plain": [
       "25164150"
      ]
     },
     "execution_count": 39,
     "metadata": {},
     "output_type": "execute_result"
    }
   ],
   "source": [
    "n = 100\n",
    "sum_squares = 0\n",
    "sums = 0\n",
    "\n",
    "for i in range(1, n+1):\n",
    "    sum_squares += i**2\n",
    "    sums += i\n",
    "\n",
    "sums**2 - sum_squares"
   ]
  },
  {
   "cell_type": "code",
   "execution_count": 37,
   "id": "57bc4f24-a4bc-499d-8191-02414287f504",
   "metadata": {},
   "outputs": [
    {
     "data": {
      "text/plain": [
       "5050"
      ]
     },
     "execution_count": 37,
     "metadata": {},
     "output_type": "execute_result"
    }
   ],
   "source": [
    "sums"
   ]
  },
  {
   "cell_type": "code",
   "execution_count": 38,
   "id": "7fae80e0-ff59-468a-89a4-136f5c50de4c",
   "metadata": {},
   "outputs": [
    {
     "data": {
      "text/plain": [
       "338350"
      ]
     },
     "execution_count": 38,
     "metadata": {},
     "output_type": "execute_result"
    }
   ],
   "source": [
    "sum_squares"
   ]
  },
  {
   "cell_type": "markdown",
   "id": "2ce59264-7e10-4617-9572-22b2660db5d5",
   "metadata": {},
   "source": [
    "\n",
    "\n",
    "By listing the first six prime numbers: 2, 3, 5, 7, 11, and 13, we can see that the 6th prime is 13.\n",
    "\n",
    "What is the 10 001st prime number?\n"
   ]
  },
  {
   "cell_type": "code",
   "execution_count": 55,
   "id": "0dc1d028-d68a-4cb9-bbc8-219a391884cb",
   "metadata": {},
   "outputs": [
    {
     "data": {
      "text/plain": [
       "104743"
      ]
     },
     "execution_count": 55,
     "metadata": {},
     "output_type": "execute_result"
    }
   ],
   "source": [
    "primes = [2]\n",
    "index = 10001\n",
    "i = 2\n",
    "\n",
    "while len(primes) < index:\n",
    "    flag = True\n",
    "    for p in primes:\n",
    "        # print(i, p) \n",
    "        if not i % p:\n",
    "            # i is not prime\n",
    "            flag = False\n",
    "            break\n",
    "    if flag:\n",
    "        # print(i)\n",
    "        primes.append(i)\n",
    "    i += 1\n",
    "    \n",
    "primes[-1]\n"
   ]
  },
  {
   "cell_type": "code",
   "execution_count": 56,
   "id": "b0aeb2f8-67e8-4f34-8fef-092acf9f28f0",
   "metadata": {},
   "outputs": [
    {
     "data": {
      "text/plain": [
       "10001"
      ]
     },
     "execution_count": 56,
     "metadata": {},
     "output_type": "execute_result"
    }
   ],
   "source": [
    "len(primes)"
   ]
  },
  {
   "cell_type": "code",
   "execution_count": 43,
   "id": "afc78e3b-27d7-4dd6-8928-0b5bebf87bcf",
   "metadata": {},
   "outputs": [
    {
     "data": {
      "text/plain": [
       "[2, 1]"
      ]
     },
     "execution_count": 43,
     "metadata": {},
     "output_type": "execute_result"
    }
   ],
   "source": [
    "primes"
   ]
  },
  {
   "cell_type": "code",
   "execution_count": null,
   "id": "472a42ff-ceb2-4c05-9da5-d4694a1debd5",
   "metadata": {},
   "outputs": [],
   "source": []
  }
 ],
 "metadata": {
  "kernelspec": {
   "display_name": "Python 3 (ipykernel)",
   "language": "python",
   "name": "python3"
  },
  "language_info": {
   "codemirror_mode": {
    "name": "ipython",
    "version": 3
   },
   "file_extension": ".py",
   "mimetype": "text/x-python",
   "name": "python",
   "nbconvert_exporter": "python",
   "pygments_lexer": "ipython3",
   "version": "3.9.7"
  }
 },
 "nbformat": 4,
 "nbformat_minor": 5
}
