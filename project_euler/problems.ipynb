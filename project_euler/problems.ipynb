{
 "cells": [
  {
   "cell_type": "code",
   "execution_count": 1,
   "id": "82fb3215-b867-4d9b-afa7-21c21ef2043d",
   "metadata": {},
   "outputs": [
    {
     "name": "stdout",
     "output_type": "stream",
     "text": [
      "233168\n"
     ]
    }
   ],
   "source": [
    "# problem 1\n",
    "# Find the sum of all the multiples of 3 or 5 below 1000\n",
    "sum = 0\n",
    "for n in range(1, 1000):\n",
    "    if not (n % 3) or not (n % 5):\n",
    "        sum += n\n",
    "print(sum)"
   ]
  },
  {
   "cell_type": "code",
   "execution_count": 4,
   "id": "eb632d08-176e-4901-8c2f-115d49eea8fb",
   "metadata": {},
   "outputs": [
    {
     "name": "stdout",
     "output_type": "stream",
     "text": [
      "4613732\n"
     ]
    }
   ],
   "source": [
    "# By considering the terms in the Fibonacci sequence \n",
    "# whose values do not exceed four million, \n",
    "# find the sum of the even-valued terms.\n",
    "\n",
    "f1 = 1\n",
    "f2 = 2\n",
    "\n",
    "sum = f2\n",
    "\n",
    "while f2 < 4000000:\n",
    "    f1, f2 = f2, f1 + f2\n",
    "    if not (f2 % 2):\n",
    "        sum += f2\n",
    "\n",
    "print(sum)"
   ]
  },
  {
   "cell_type": "code",
   "execution_count": 5,
   "id": "ac00bfe6-0053-424f-8cbc-8e22ffacfbd9",
   "metadata": {},
   "outputs": [
    {
     "data": {
      "text/plain": [
       "[71, 839, 1471, 6857]"
      ]
     },
     "execution_count": 5,
     "metadata": {},
     "output_type": "execute_result"
    }
   ],
   "source": [
    "# What is the largest prime factor of the number 600851475143 ?\n",
    "import sympy as sp\n",
    "n = 600851475143\n",
    "sp.primefactors(n)"
   ]
  },
  {
   "cell_type": "code",
   "execution_count": 15,
   "id": "4323e5e5-6224-48b7-999d-60fb13a2221f",
   "metadata": {},
   "outputs": [
    {
     "data": {
      "text/plain": [
       "6857"
      ]
     },
     "execution_count": 15,
     "metadata": {},
     "output_type": "execute_result"
    }
   ],
   "source": [
    "def largest_prime_factor(n):\n",
    "    i = 2\n",
    "    while i * i <= n:\n",
    "        if n % i:\n",
    "            i += 1\n",
    "        else:\n",
    "            n //= i\n",
    "    return n\n",
    "largest_prime_factor(n)"
   ]
  },
  {
   "cell_type": "code",
   "execution_count": 19,
   "id": "f3574219-3445-4917-a016-eb97302060bc",
   "metadata": {},
   "outputs": [
    {
     "data": {
      "text/plain": [
       "321"
      ]
     },
     "execution_count": 19,
     "metadata": {},
     "output_type": "execute_result"
    }
   ],
   "source": [
    "a = 123\n",
    "int(str(a)[::-1])"
   ]
  },
  {
   "cell_type": "code",
   "execution_count": 23,
   "id": "a2919991-85a1-4097-aed2-c53958fd7631",
   "metadata": {},
   "outputs": [
    {
     "data": {
      "text/plain": [
       "906609"
      ]
     },
     "execution_count": 23,
     "metadata": {},
     "output_type": "execute_result"
    }
   ],
   "source": [
    "# Find the largest palindrome made from the product of two 3-digit numbers.\n",
    "a = 999\n",
    "max = 0\n",
    "for i in reversed(range(1, 1000)):\n",
    "    for j in reversed(range(1, i)):\n",
    "        n = i * j\n",
    "        if str(n) == str(n)[::-1]:\n",
    "            if n > max:\n",
    "                max = n\n",
    "max "
   ]
  },
  {
   "cell_type": "code",
   "execution_count": 35,
   "id": "c4840d74-b7f4-41f6-a640-3361632c74fc",
   "metadata": {},
   "outputs": [
    {
     "data": {
      "text/plain": [
       "232792560"
      ]
     },
     "execution_count": 35,
     "metadata": {},
     "output_type": "execute_result"
    }
   ],
   "source": [
    "# 2520 is the smallest number that can be \n",
    "# divided by each of the numbers from 1 to 10 without any remainder.\n",
    "# What is the smallest positive number that is evenly \n",
    "# divisible by all of the numbers from 1 to 20?\n",
    "\n",
    "a = 1\n",
    "b = 20\n",
    "\n",
    "import math as math\n",
    "math.lcm(*range(a, b+1))"
   ]
  },
  {
   "cell_type": "code",
   "execution_count": 39,
   "id": "1efb04bb-6c48-4156-bc11-aaa2b6a0f4d6",
   "metadata": {},
   "outputs": [
    {
     "data": {
      "text/plain": [
       "25164150"
      ]
     },
     "execution_count": 39,
     "metadata": {},
     "output_type": "execute_result"
    }
   ],
   "source": [
    "n = 100\n",
    "sum_squares = 0\n",
    "sums = 0\n",
    "\n",
    "for i in range(1, n+1):\n",
    "    sum_squares += i**2\n",
    "    sums += i\n",
    "\n",
    "sums**2 - sum_squares"
   ]
  },
  {
   "cell_type": "code",
   "execution_count": 37,
   "id": "57bc4f24-a4bc-499d-8191-02414287f504",
   "metadata": {},
   "outputs": [
    {
     "data": {
      "text/plain": [
       "5050"
      ]
     },
     "execution_count": 37,
     "metadata": {},
     "output_type": "execute_result"
    }
   ],
   "source": [
    "sums"
   ]
  },
  {
   "cell_type": "code",
   "execution_count": 38,
   "id": "7fae80e0-ff59-468a-89a4-136f5c50de4c",
   "metadata": {},
   "outputs": [
    {
     "data": {
      "text/plain": [
       "338350"
      ]
     },
     "execution_count": 38,
     "metadata": {},
     "output_type": "execute_result"
    }
   ],
   "source": [
    "sum_squares"
   ]
  },
  {
   "cell_type": "markdown",
   "id": "2ce59264-7e10-4617-9572-22b2660db5d5",
   "metadata": {},
   "source": [
    "\n",
    "\n",
    "By listing the first six prime numbers: 2, 3, 5, 7, 11, and 13, we can see that the 6th prime is 13.\n",
    "\n",
    "What is the 10 001st prime number?\n"
   ]
  },
  {
   "cell_type": "code",
   "execution_count": 55,
   "id": "0dc1d028-d68a-4cb9-bbc8-219a391884cb",
   "metadata": {},
   "outputs": [
    {
     "data": {
      "text/plain": [
       "104743"
      ]
     },
     "execution_count": 55,
     "metadata": {},
     "output_type": "execute_result"
    }
   ],
   "source": [
    "primes = [2]\n",
    "index = 10001\n",
    "i = 2\n",
    "\n",
    "while len(primes) < index:\n",
    "    flag = True\n",
    "    for p in primes:\n",
    "        # print(i, p) \n",
    "        if not i % p:\n",
    "            # i is not prime\n",
    "            flag = False\n",
    "            break\n",
    "    if flag:\n",
    "        # print(i)\n",
    "        primes.append(i)\n",
    "    i += 1\n",
    "    \n",
    "primes[-1]\n"
   ]
  },
  {
   "cell_type": "code",
   "execution_count": 56,
   "id": "b0aeb2f8-67e8-4f34-8fef-092acf9f28f0",
   "metadata": {},
   "outputs": [
    {
     "data": {
      "text/plain": [
       "10001"
      ]
     },
     "execution_count": 56,
     "metadata": {},
     "output_type": "execute_result"
    }
   ],
   "source": [
    "len(primes)"
   ]
  },
  {
   "cell_type": "code",
   "execution_count": 43,
   "id": "afc78e3b-27d7-4dd6-8928-0b5bebf87bcf",
   "metadata": {},
   "outputs": [
    {
     "data": {
      "text/plain": [
       "[2, 1]"
      ]
     },
     "execution_count": 43,
     "metadata": {},
     "output_type": "execute_result"
    }
   ],
   "source": [
    "primes"
   ]
  },
  {
   "cell_type": "markdown",
   "id": "51d1f759-3840-4bdd-9e65-dfcb6df7578a",
   "metadata": {},
   "source": [
    "# 8 Largest product in a series\n",
    "\n",
    "\n",
    "The four adjacent digits in the 1000-digit number that have the greatest product are 9 × 9 × 8 × 9 = 5832.\n",
    "\n",
    "73167176531330624919225119674426574742355349194934\n",
    "96983520312774506326239578318016984801869478851843\n",
    "85861560789112949495459501737958331952853208805511\n",
    "12540698747158523863050715693290963295227443043557\n",
    "66896648950445244523161731856403098711121722383113\n",
    "62229893423380308135336276614282806444486645238749\n",
    "30358907296290491560440772390713810515859307960866\n",
    "70172427121883998797908792274921901699720888093776\n",
    "65727333001053367881220235421809751254540594752243\n",
    "52584907711670556013604839586446706324415722155397\n",
    "53697817977846174064955149290862569321978468622482\n",
    "83972241375657056057490261407972968652414535100474\n",
    "82166370484403199890008895243450658541227588666881\n",
    "16427171479924442928230863465674813919123162824586\n",
    "17866458359124566529476545682848912883142607690042\n",
    "24219022671055626321111109370544217506941658960408\n",
    "07198403850962455444362981230987879927244284909188\n",
    "84580156166097919133875499200524063689912560717606\n",
    "05886116467109405077541002256983155200055935729725\n",
    "71636269561882670428252483600823257530420752963450\n",
    "\n",
    "Find the thirteen adjacent digits in the 1000-digit number that have the greatest product. What is the value of this product?\n"
   ]
  },
  {
   "cell_type": "code",
   "execution_count": 2,
   "id": "3651280f-679f-4b7e-a581-8bec616abb95",
   "metadata": {},
   "outputs": [],
   "source": [
    "import numpy as np\n",
    "\n",
    "n = '73167176531330624919225119674426574742355349194934'\n",
    "n += '96983520312774506326239578318016984801869478851843'\n",
    "n += '85861560789112949495459501737958331952853208805511'\n",
    "n += '12540698747158523863050715693290963295227443043557'\n",
    "n += '66896648950445244523161731856403098711121722383113'\n",
    "n += '62229893423380308135336276614282806444486645238749'\n",
    "n += '30358907296290491560440772390713810515859307960866'\n",
    "n += '70172427121883998797908792274921901699720888093776'\n",
    "n += '65727333001053367881220235421809751254540594752243'\n",
    "n += '52584907711670556013604839586446706324415722155397'\n",
    "n += '53697817977846174064955149290862569321978468622482'\n",
    "n += '83972241375657056057490261407972968652414535100474'\n",
    "n += '82166370484403199890008895243450658541227588666881'\n",
    "n += '16427171479924442928230863465674813919123162824586'\n",
    "n += '17866458359124566529476545682848912883142607690042'\n",
    "n += '24219022671055626321111109370544217506941658960408'\n",
    "n += '07198403850962455444362981230987879927244284909188'\n",
    "n += '84580156166097919133875499200524063689912560717606'\n",
    "n += '05886116467109405077541002256983155200055935729725'\n",
    "n += '71636269561882670428252483600823257530420752963450'\n",
    "\n",
    "max = 0\n",
    "n = list(map(lambda x: int(x), n))\n",
    "c = len(n)-13\n",
    "for i in range(0, c):\n",
    "    m = n[i:i+13]\n",
    "    prod = np.prod(m)\n",
    "    if prod > max:\n",
    "        max = prod\n",
    "        print(f'max: {max}')\n",
    "        print(f'  i: {i}')\n",
    "        print(f'  m: {m}')\n",
    "        print()\n",
    "        "
   ]
  },
  {
   "cell_type": "markdown",
   "id": "d39dbdd8-a123-4e1f-8c62-5533b9128a6c",
   "metadata": {},
   "source": [
    "9 - Special Pythagorean triplet\n",
    "\n",
    "A Pythagorean triplet is a set of three natural numbers, a < b < c, for which,\n",
    "a2 + b2 = c2\n",
    "\n",
    "For example, 32 + 42 = 9 + 16 = 25 = 52.\n",
    "\n",
    "There exists exactly one Pythagorean triplet for which a + b + c = 1000.\n",
    "Find the product abc.\n"
   ]
  },
  {
   "cell_type": "code",
   "execution_count": 17,
   "id": "9b9192a3-aade-4192-8469-9c93af5e7fbb",
   "metadata": {},
   "outputs": [
    {
     "name": "stdout",
     "output_type": "stream",
     "text": [
      "200 375 425\n",
      "1000\n",
      "31875000\n"
     ]
    }
   ],
   "source": [
    "# c = 1000 - (a + b)\n",
    "import math as math\n",
    "n = 1000\n",
    "for b in range(n):\n",
    "    for a in range(1, b):\n",
    "        c = math.sqrt(a**2 + b**2)\n",
    "        if c % 1 == 0:\n",
    "            c = int(c)\n",
    "            total = a + b + c\n",
    "            if total == 1000:\n",
    "                print(a, b, int(c))\n",
    "                print(a + b + c)\n",
    "                print(a * b * c)\n",
    "            \n",
    "        "
   ]
  },
  {
   "cell_type": "code",
   "execution_count": null,
   "id": "40376122-2019-4ba2-a405-81e355630a87",
   "metadata": {},
   "outputs": [],
   "source": []
  }
 ],
 "metadata": {
  "kernelspec": {
   "display_name": "Python 3 (ipykernel)",
   "language": "python",
   "name": "python3"
  },
  "language_info": {
   "codemirror_mode": {
    "name": "ipython",
    "version": 3
   },
   "file_extension": ".py",
   "mimetype": "text/x-python",
   "name": "python",
   "nbconvert_exporter": "python",
   "pygments_lexer": "ipython3",
   "version": "3.9.7"
  }
 },
 "nbformat": 4,
 "nbformat_minor": 5
}
