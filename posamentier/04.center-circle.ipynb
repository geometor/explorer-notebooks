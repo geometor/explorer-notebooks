{
 "cells": [
  {
   "cell_type": "code",
   "execution_count": 1,
   "id": "e4b01b6a-7efe-4bfe-b921-c3be20d023ca",
   "metadata": {},
   "outputs": [],
   "source": [
    "%run ../run.py\n",
    "%matplotlib widget"
   ]
  },
  {
   "cell_type": "code",
   "execution_count": 2,
   "id": "0bf35f12-6b06-4618-8dd0-3ed2a1a6ee51",
   "metadata": {},
   "outputs": [],
   "source": [
    "square = unit_square(point(0, 0))\n",
    "add_points(square.vertices)\n",
    "polygons.append(square)\n",
    "\n",
    "# baseline = add_element(line(pts[0], pts[1]))\n",
    "\n",
    "square = unit_square(pts[1])\n",
    "add_points(square.vertices)\n",
    "polygons.append(square)\n",
    "\n",
    "triangle = polygon_ids([0, 4, 5])\n",
    "polygons.append(triangle)\n",
    "\n",
    "add_point(polygons[0].sides[1].midpoint)\n",
    "\n",
    "\n",
    "c = add_element(circle(pts[6], pts[1]))\n",
    "for pt in triangle.intersection(c):\n",
    "    add_point(pt)\n",
    "\n"
   ]
  },
  {
   "cell_type": "code",
   "execution_count": 3,
   "id": "a9f8bd96-569d-487f-987e-fd6dae7fb868",
   "metadata": {},
   "outputs": [
    {
     "data": {
      "application/vnd.jupyter.widget-view+json": {
       "model_id": "d06f070bd8d04a8d8d5840aec0b18497",
       "version_major": 2,
       "version_minor": 0
      },
      "text/html": [
       "\n",
       "            <div style=\"display: inline-block;\">\n",
       "                <div class=\"jupyter-widgets widget-label\" style=\"text-align: center;\">\n",
       "                    Figure\n",
       "                </div>\n",
       "                <img src='data:image/png;base64,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' width=840.0/>\n",
       "            </div>\n",
       "        "
      ],
      "text/plain": [
       "Canvas(toolbar=Toolbar(toolitems=[('Home', 'Reset original view', 'home', 'home'), ('Back', 'Back to previous …"
      ]
     },
     "metadata": {},
     "output_type": "display_data"
    }
   ],
   "source": [
    "limx, limy = (-1.5, 3.5), (-1.25, 2.25)\n",
    "bounds = set_bounds(limx, limy)\n",
    "\n",
    "plt_init(limx, limy)\n",
    "\n",
    "plot_polygons(polygons)\n",
    "\n",
    "plot_segment2(segment(pts[6], pts[1]), **style_radius)\n",
    "\n",
    "plot_elements(elements, bounds)\n",
    "plot_points(pts)"
   ]
  },
  {
   "cell_type": "code",
   "execution_count": 4,
   "id": "bf156773-7052-49a3-8643-b5bc335289a9",
   "metadata": {},
   "outputs": [
    {
     "name": "stdout",
     "output_type": "stream",
     "text": [
      "-1 = -sqrt(5)/2 - 1/2 + sqrt((-1/2 + sqrt(5)/10)**2 + (-1 + sqrt(5)/5)**2)\n",
      "GOLDEN!\n",
      "1/2 - sqrt(5)/2 = 1/2 - sqrt(5)/2\n"
     ]
    }
   ],
   "source": [
    "sgs = []\n",
    "sgs.append(plot_segment(pts[0], pts[7]))\n",
    "sgs.append(plot_segment(pts[7], pts[8]))\n",
    "sgs.append(plot_segment(pts[8], pts[5]))\n",
    "plot_points(pts)\n",
    "ratios = []\n",
    "for i in range(len(sgs) - 1):\n",
    "    ratio =  (sgs[i] / sgs[1])\n",
    "    ratios.append(ratio)\n",
    "for ratio in ratios:\n",
    "    g = (ratio - phi)\n",
    "    gsimp = g.simplify()\n",
    "    print(f'{gsimp} = {g}')\n",
    "    if gsimp == 0 or gsimp == -1:\n",
    "        print('GOLDEN!')"
   ]
  },
  {
   "cell_type": "code",
   "execution_count": 5,
   "id": "e57adae6-4dc4-4220-939b-e72bca3d45bd",
   "metadata": {},
   "outputs": [],
   "source": [
    "# plot_wedge(pts[2], pts[1], pts[3])"
   ]
  },
  {
   "cell_type": "code",
   "execution_count": 6,
   "id": "b5037c50",
   "metadata": {},
   "outputs": [],
   "source": [
    "# plot_wedge(pts[0], pts[3], pts[4])"
   ]
  },
  {
   "cell_type": "code",
   "execution_count": null,
   "id": "b4ec8db6-ae50-4979-afd1-a7b7eae9a762",
   "metadata": {},
   "outputs": [],
   "source": []
  }
 ],
 "metadata": {
  "kernelspec": {
   "display_name": "Python 3 (ipykernel)",
   "language": "python",
   "name": "python3"
  },
  "language_info": {
   "codemirror_mode": {
    "name": "ipython",
    "version": 3
   },
   "file_extension": ".py",
   "mimetype": "text/x-python",
   "name": "python",
   "nbconvert_exporter": "python",
   "pygments_lexer": "ipython3",
   "version": "3.9.7"
  }
 },
 "nbformat": 4,
 "nbformat_minor": 5
}
