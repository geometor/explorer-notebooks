{
 "cells": [
  {
   "cell_type": "code",
   "execution_count": 1,
   "id": "e4b01b6a-7efe-4bfe-b921-c3be20d023ca",
   "metadata": {},
   "outputs": [],
   "source": [
    "%run ../run.py\n",
    "%matplotlib widget"
   ]
  },
  {
   "cell_type": "code",
   "execution_count": 2,
   "id": "0bf35f12-6b06-4618-8dd0-3ed2a1a6ee51",
   "metadata": {},
   "outputs": [],
   "source": [
    "square = unit_square(point(0, 0))\n",
    "add_points(square.vertices)\n",
    "polygons.append(square)\n",
    "\n",
    "# baseline = add_element(line(pts[0], pts[1]))\n",
    "\n",
    "square = unit_square(pts[1])\n",
    "add_points(square.vertices)\n",
    "polygons.append(square)\n",
    "\n",
    "triangle = polygon_ids([0, 4, 5])\n",
    "polygons.append(triangle)\n",
    "\n",
    "add_point(polygons[0].sides[1].midpoint)\n",
    "\n",
    "\n",
    "c = add_element(circle(pts[6], pts[1]))\n",
    "for pt in triangle.intersection(c):\n",
    "    add_point(pt)\n",
    "\n"
   ]
  },
  {
   "cell_type": "code",
   "execution_count": 3,
   "id": "a9f8bd96-569d-487f-987e-fd6dae7fb868",
   "metadata": {},
   "outputs": [
    {
     "data": {
      "application/vnd.jupyter.widget-view+json": {
       "model_id": "fc2273e98f6b42c49fe96af38ce237e3",
       "version_major": 2,
       "version_minor": 0
      },
      "text/html": [
       "\n",
       "            <div style=\"display: inline-block;\">\n",
       "                <div class=\"jupyter-widgets widget-label\" style=\"text-align: center;\">\n",
       "                    Figure\n",
       "                </div>\n",
       "                <img src='data:image/png;base64,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' width=840.0/>\n",
       "            </div>\n",
       "        "
      ],
      "text/plain": [
       "Canvas(toolbar=Toolbar(toolitems=[('Home', 'Reset original view', 'home', 'home'), ('Back', 'Back to previous …"
      ]
     },
     "metadata": {},
     "output_type": "display_data"
    }
   ],
   "source": [
    "limx, limy = (-1.5, 3.5), (-1.25, 2.25)\n",
    "bounds = set_bounds(limx, limy)\n",
    "\n",
    "plt_init(limx, limy)\n",
    "\n",
    "plot_polygons(polygons)\n",
    "\n",
    "plot_segment2(segment(pts[6], pts[1]), **style_radius)\n",
    "\n",
    "plot_elements(elements, bounds)\n",
    "plot_points(pts)"
   ]
  },
  {
   "cell_type": "code",
   "execution_count": 4,
   "id": "bf156773-7052-49a3-8643-b5bc335289a9",
   "metadata": {},
   "outputs": [
    {
     "name": "stdout",
     "output_type": "stream",
     "text": [
      "sqrt(30)*(-sqrt(6*sqrt(5) + 30)/12 - sqrt(30*sqrt(5) + 150)/60 - 1/6 + sqrt(5)/6)/sqrt(sqrt(5) + 5) = -sqrt(5)/2 - 1/2 + sqrt((-1/2 + sqrt(5)/10)**2 + (-1 + sqrt(5)/5)**2)/sqrt((1/2 - sqrt(5)/10)**2 + (-1 - sqrt(5)/5)**2)\n"
     ]
    }
   ],
   "source": [
    "sgs = []\n",
    "sgs.append(plot_segment(pts[0], pts[7]))\n",
    "sgs.append(plot_segment(pts[7], pts[8]))\n",
    "sgs.append(plot_segment(pts[8], pts[5]))\n",
    "plot_points(pts)\n",
    "ratios = []\n",
    "for i in range(len(sgs) - 1):\n",
    "    ratio =  (sgs[i] / sgs[1])\n",
    "    ratios.append(ratio)\n",
    "for ratio in ratios:\n",
    "    g = (ratio - phi)\n",
    "    gsimp = g.simplify()\n",
    "    print(f'{gsimp} = {g}')\n",
    "    if gsimp == 0 or gsimp == -1:\n",
    "        print('GOLDEN!')"
   ]
  },
  {
   "cell_type": "code",
   "execution_count": 5,
   "id": "e57adae6-4dc4-4220-939b-e72bca3d45bd",
   "metadata": {},
   "outputs": [],
   "source": [
    "# plot_wedge(pts[2], pts[1], pts[3])"
   ]
  },
  {
   "cell_type": "code",
   "execution_count": 6,
   "id": "b5037c50",
   "metadata": {},
   "outputs": [],
   "source": [
    "# plot_wedge(pts[0], pts[3], pts[4])"
   ]
  },
  {
   "cell_type": "code",
   "execution_count": null,
   "id": "b4ec8db6-ae50-4979-afd1-a7b7eae9a762",
   "metadata": {},
   "outputs": [],
   "source": []
  }
 ],
 "metadata": {
  "kernelspec": {
   "display_name": "Python 3 (ipykernel)",
   "language": "python",
   "name": "python3"
  },
  "language_info": {
   "codemirror_mode": {
    "name": "ipython",
    "version": 3
   },
   "file_extension": ".py",
   "mimetype": "text/x-python",
   "name": "python",
   "nbconvert_exporter": "python",
   "pygments_lexer": "ipython3",
   "version": "3.9.7"
  }
 },
 "nbformat": 4,
 "nbformat_minor": 5
}
