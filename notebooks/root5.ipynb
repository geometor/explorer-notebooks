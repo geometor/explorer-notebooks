{
 "cells": [
  {
   "cell_type": "code",
   "execution_count": 1,
   "id": "3c5d2910-8e72-4f02-bfec-f2cac2b48aa4",
   "metadata": {},
   "outputs": [
    {
     "name": "stdout",
     "output_type": "stream",
     "text": [
      "Build: 0:00:13.969662\n",
      "\n",
      "elements: 16\n",
      "  points: 97\n"
     ]
    },
    {
     "data": {
      "application/vnd.jupyter.widget-view+json": {
       "model_id": "a72223a6973742d7a3ae6e370814d4ae",
       "version_major": 2,
       "version_minor": 0
      },
      "image/png": "[encoded data removed]",
      "text/html": [
       "\n",
       "            <div style=\"display: inline-block;\">\n",
       "                <div class=\"jupyter-widgets widget-label\" style=\"text-align: center;\">\n",
       "                    Figure\n",
       "                </div>\n",
       "                <img src='data:image/png;base64,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' width=640.0/>\n",
       "            </div>\n",
       "        "
      ],
      "text/plain": [
       "Canvas(toolbar=Toolbar(toolitems=[('Home', 'Reset original view', 'home', 'home'), ('Back', 'Back to previous …"
      ]
     },
     "metadata": {},
     "output_type": "display_data"
    }
   ],
   "source": [
    "%run run.py\n",
    "%matplotlib widget\n",
    "log_init('root5')\n",
    "\n",
    "# init matplotlib\n",
    "limx, limy = (-3.5, 3.5), (-2.5, 2.5)\n",
    "bounds = set_bounds(limx, limy)\n",
    "plt_init(limx, limy)\n",
    "\n",
    "\n",
    "start_time = timer()\n",
    "\n",
    "begin()\n",
    "\n",
    "bisector(pts[0], pts[1])\n",
    "bisector(pts[0], pts[3])\n",
    "bisector(pts[1], pts[2])\n",
    "\n",
    "# root5 diagonal\n",
    "# add_element(line(pts[18], pts[31]))\n",
    "add_element(circle(pts[6], pts[0]))\n",
    "c = add_element(circle(pts[6], pts[18]))\n",
    "\n",
    "# outer goldens\n",
    "el = add_element(circle(pts[0], pts[38]))\n",
    "el = add_element(circle(pts[1], pts[37]))\n",
    "\n",
    "# inner goldens\n",
    "el = add_element(circle(pts[0], pts[37]))\n",
    "el = add_element(circle(pts[1], pts[38]))\n",
    "\n",
    "# star diagonals\n",
    "# el = add_element(line(pts[0], pts[61]))\n",
    "# el = add_element(line(pts[1], pts[77]))\n",
    "\n",
    "print(f'Build: {elapsed(start_time)}')\n",
    "print()\n",
    "print(f'elements: {len(elements)}')\n",
    "print(f'  points: {len(pts)}')"
   ]
  },
  {
   "cell_type": "code",
   "execution_count": 2,
   "id": "46cc889b",
   "metadata": {},
   "outputs": [
    {
     "ename": "TypeError",
     "evalue": "plot_segment() missing 1 required positional argument: 'pt2'",
     "output_type": "error",
     "traceback": [
      "\u001b[0;31m---------------------------------------------------------------------------\u001b[0m",
      "\u001b[0;31mTypeError\u001b[0m                                 Traceback (most recent call last)",
      "\u001b[0;32m/tmp/ipykernel_27731/1837592405.py\u001b[0m in \u001b[0;36m<module>\u001b[0;34m\u001b[0m\n\u001b[1;32m      3\u001b[0m \u001b[0;34m\u001b[0m\u001b[0m\n\u001b[1;32m      4\u001b[0m \u001b[0msgs\u001b[0m \u001b[0;34m=\u001b[0m \u001b[0;34m[\u001b[0m\u001b[0;34m]\u001b[0m\u001b[0;34m\u001b[0m\u001b[0;34m\u001b[0m\u001b[0m\n\u001b[0;32m----> 5\u001b[0;31m \u001b[0msgs\u001b[0m\u001b[0;34m.\u001b[0m\u001b[0mappend\u001b[0m\u001b[0;34m(\u001b[0m\u001b[0mplot_segment\u001b[0m\u001b[0;34m(\u001b[0m\u001b[0mpts\u001b[0m\u001b[0;34m[\u001b[0m\u001b[0;36m37\u001b[0m\u001b[0;34m]\u001b[0m\u001b[0;34m,\u001b[0m \u001b[0mpts\u001b[0m\u001b[0;34m[\u001b[0m\u001b[0;36m0\u001b[0m\u001b[0;34m]\u001b[0m\u001b[0;34m)\u001b[0m\u001b[0;34m)\u001b[0m\u001b[0;34m\u001b[0m\u001b[0;34m\u001b[0m\u001b[0m\n\u001b[0m\u001b[1;32m      6\u001b[0m \u001b[0msgs\u001b[0m\u001b[0;34m.\u001b[0m\u001b[0mappend\u001b[0m\u001b[0;34m(\u001b[0m\u001b[0mplot_segment\u001b[0m\u001b[0;34m(\u001b[0m\u001b[0mpts\u001b[0m\u001b[0;34m[\u001b[0m\u001b[0;36m0\u001b[0m\u001b[0;34m]\u001b[0m\u001b[0;34m,\u001b[0m \u001b[0mpts\u001b[0m\u001b[0;34m[\u001b[0m\u001b[0;36m1\u001b[0m\u001b[0;34m]\u001b[0m\u001b[0;34m)\u001b[0m\u001b[0;34m)\u001b[0m\u001b[0;34m\u001b[0m\u001b[0;34m\u001b[0m\u001b[0m\n\u001b[1;32m      7\u001b[0m \u001b[0msgs\u001b[0m\u001b[0;34m.\u001b[0m\u001b[0mappend\u001b[0m\u001b[0;34m(\u001b[0m\u001b[0mplot_segment\u001b[0m\u001b[0;34m(\u001b[0m\u001b[0mpts\u001b[0m\u001b[0;34m[\u001b[0m\u001b[0;36m1\u001b[0m\u001b[0;34m]\u001b[0m\u001b[0;34m,\u001b[0m \u001b[0mpts\u001b[0m\u001b[0;34m[\u001b[0m\u001b[0;36m38\u001b[0m\u001b[0;34m]\u001b[0m\u001b[0;34m)\u001b[0m\u001b[0;34m)\u001b[0m\u001b[0;34m\u001b[0m\u001b[0;34m\u001b[0m\u001b[0m\n",
      "\u001b[0;31mTypeError\u001b[0m: plot_segment() missing 1 required positional argument: 'pt2'"
     ]
    }
   ],
   "source": [
    "start_time = timer()\n",
    "\n",
    "\n",
    "sgs = []\n",
    "sgs.append(plot_segment(pts[37], pts[0]))\n",
    "sgs.append(plot_segment(pts[0], pts[1]))\n",
    "sgs.append(plot_segment(pts[1], pts[38]))\n",
    "\n",
    "# sg = plot_segment(pts[61], pts[77])\n",
    "\n",
    "pentagon = polygon_ids([0, 1, 47, 49, 63])\n",
    "plot_polygon(pentagon, color='#3C03')\n",
    "\n",
    "# pentagon = polygon_ids([0, 1, 60, 62, 78])\n",
    "# plot_polygon(pentagon, color='#3C03')\n",
    "\n",
    "square = unit_square(pts[0])\n",
    "add_points(square.vertices)\n",
    "plot_polygon(square, color='#3C03')\n",
    "\n",
    "square = unit_square(pts[31])\n",
    "add_points(square.vertices)\n",
    "plot_polygon(square, color='#3C03', )\n",
    "\n",
    "plot_elements(elements, bounds)\n",
    "plot_circle(c, color='#FC0', linestyle='-')\n",
    "\n",
    "plot_points(pts)\n",
    "\n",
    "print(f'Render: {elapsed(start_time)}')"
   ]
  },
  {
   "cell_type": "code",
   "execution_count": null,
   "id": "19d4ba98",
   "metadata": {},
   "outputs": [],
   "source": [
    "[sp.simplify(s.length) for s in pentagon.sides]"
   ]
  },
  {
   "cell_type": "code",
   "execution_count": null,
   "id": "792830b7",
   "metadata": {},
   "outputs": [],
   "source": [
    "sp.simplify(pentagon.sides[2].length - 1)"
   ]
  },
  {
   "cell_type": "code",
   "execution_count": null,
   "id": "0a18c633-ca13-4028-8010-48befb4b9d35",
   "metadata": {},
   "outputs": [],
   "source": [
    "pentagon.sides"
   ]
  },
  {
   "cell_type": "code",
   "execution_count": null,
   "id": "8a3b74a1-0937-4e03-9c54-3c09796e646a",
   "metadata": {},
   "outputs": [],
   "source": [
    "pentagon.sides[2].length"
   ]
  },
  {
   "cell_type": "code",
   "execution_count": null,
   "id": "bbb66f8c",
   "metadata": {},
   "outputs": [],
   "source": [
    "sg_ratio = (sgs[0] / sgs[1])\n",
    "sg_ratio.evalf()"
   ]
  },
  {
   "cell_type": "code",
   "execution_count": null,
   "id": "4f641ecd-f5e8-4c60-a80e-89ecff76123a",
   "metadata": {},
   "outputs": [],
   "source": [
    "(sgs[0]).simplify(), (sgs[1]**2).simplify()"
   ]
  },
  {
   "cell_type": "code",
   "execution_count": null,
   "id": "8c6734bf",
   "metadata": {},
   "outputs": [],
   "source": [
    "(sg_ratio - phi).simplify()"
   ]
  },
  {
   "cell_type": "code",
   "execution_count": null,
   "id": "5c798a8f",
   "metadata": {},
   "outputs": [],
   "source": [
    "(sg_ratio * phi).simplify()"
   ]
  },
  {
   "cell_type": "code",
   "execution_count": null,
   "id": "ea4141d3",
   "metadata": {},
   "outputs": [],
   "source": [
    "sp.srepr(pts[77])"
   ]
  },
  {
   "cell_type": "code",
   "execution_count": null,
   "id": "6a784e84-90fc-418d-84c8-eb2235a7ac48",
   "metadata": {},
   "outputs": [],
   "source": [
    "elements[1].bounds"
   ]
  },
  {
   "cell_type": "code",
   "execution_count": null,
   "id": "6c6c4997-de72-4fdb-874e-10748179bfea",
   "metadata": {},
   "outputs": [],
   "source": [
    "pts[4].y > pts[5].y"
   ]
  },
  {
   "cell_type": "code",
   "execution_count": null,
   "id": "8f086afd-487d-411d-88be-0fd1e032f0b4",
   "metadata": {},
   "outputs": [],
   "source": [
    "lines = [el for el in elements if type(el) is sp.Circle]"
   ]
  },
  {
   "cell_type": "code",
   "execution_count": null,
   "id": "16499f0d-a6ee-48da-9135-d34b5912b595",
   "metadata": {},
   "outputs": [],
   "source": [
    "len(lines)"
   ]
  },
  {
   "cell_type": "code",
   "execution_count": null,
   "id": "fcbd77f2-18a4-46ae-bfe8-83920620a340",
   "metadata": {},
   "outputs": [],
   "source": []
  }
 ],
 "metadata": {
  "kernelspec": {
   "display_name": "Python 3 (ipykernel)",
   "language": "python",
   "name": "python3"
  },
  "language_info": {
   "codemirror_mode": {
    "name": "ipython",
    "version": 3
   },
   "file_extension": ".py",
   "mimetype": "text/x-python",
   "name": "python",
   "nbconvert_exporter": "python",
   "pygments_lexer": "ipython3",
   "version": "3.9.2"
  }
 },
 "nbformat": 4,
 "nbformat_minor": 5
}
