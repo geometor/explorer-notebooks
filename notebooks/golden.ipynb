{
 "cells": [
  {
   "cell_type": "markdown",
   "id": "99a5071c",
   "metadata": {},
   "source": [
    "Golden Ratio in SymPy"
   ]
  },
  {
   "cell_type": "code",
   "execution_count": 2,
   "id": "1cfbea03",
   "metadata": {},
   "outputs": [
    {
     "data": {
      "image/png": "[encoded data removed]",
      "text/latex": [
       "$\\displaystyle \\left( \\left(\\frac{1}{2} + \\frac{\\sqrt{5}}{2}\\right)^{2}, \\  \\frac{1}{\\left(\\frac{1}{2} + \\frac{\\sqrt{5}}{2}\\right)^{2}}\\right)$"
      ],
      "text/plain": [
       "⎛        2           ⎞\n",
       "⎜⎛1   √5⎞       1    ⎟\n",
       "⎜⎜─ + ──⎟ , ─────────⎟\n",
       "⎜⎝2   2 ⎠           2⎟\n",
       "⎜           ⎛1   √5⎞ ⎟\n",
       "⎜           ⎜─ + ──⎟ ⎟\n",
       "⎝           ⎝2   2 ⎠ ⎠"
      ]
     },
     "execution_count": 2,
     "metadata": {},
     "output_type": "execute_result"
    }
   ],
   "source": [
    "%run run.py\n",
    "\n",
    "phi2 = phi ** 2\n",
    "iphi2 = 1 / phi ** 2\n",
    "phi2, iphi2"
   ]
  },
  {
   "cell_type": "code",
   "execution_count": 10,
   "id": "691d9805-8b8a-41ce-868b-4aa7688e0ece",
   "metadata": {},
   "outputs": [
    {
     "data": {
      "text/plain": [
       "('\\\\frac{\\\\sqrt{5}}{2} + \\\\frac{3}{2}', 3/2 - sqrt(5)/2)"
      ]
     },
     "execution_count": 10,
     "metadata": {},
     "output_type": "execute_result"
    }
   ],
   "source": [
    "sp.latex(phi2.simplify()), iphi2.simplify()"
   ]
  },
  {
   "cell_type": "code",
   "execution_count": 6,
   "id": "21d0ec1d-65a5-40b4-8594-0be110e0fd72",
   "metadata": {},
   "outputs": [
    {
     "data": {
      "image/png": "[encoded data removed]",
      "text/latex": [
       "$\\displaystyle \\left( 2.61803398874989, \\  0.381966011250105\\right)$"
      ],
      "text/plain": [
       "(2.61803398874989, 0.381966011250105)"
      ]
     },
     "execution_count": 6,
     "metadata": {},
     "output_type": "execute_result"
    }
   ],
   "source": [
    "phi2.evalf(), iphi2.evalf()"
   ]
  },
  {
   "cell_type": "code",
   "execution_count": 9,
   "id": "7158e3c2-40da-4638-abc5-ef451803ba6f",
   "metadata": {},
   "outputs": [
    {
     "data": {
      "image/png": "[encoded data removed]",
      "text/latex": [
       "$\\displaystyle -2 + \\sqrt{5}$"
      ],
      "text/plain": [
       "-2 + √5"
      ]
     },
     "execution_count": 9,
     "metadata": {},
     "output_type": "execute_result"
    }
   ],
   "source": [
    "(iphi2 / phi).simplify()\n"
   ]
  },
  {
   "cell_type": "code",
   "execution_count": 2,
   "id": "daa0df21",
   "metadata": {},
   "outputs": [
    {
     "data": {
      "image/png": "[encoded data removed]",
      "text/latex": [
       "$\\displaystyle \\phi^{2}$"
      ],
      "text/plain": [
       " 2\n",
       "φ "
      ]
     },
     "execution_count": 2,
     "metadata": {},
     "output_type": "execute_result"
    }
   ],
   "source": [
    "Φ = sp.GoldenRatio\n",
    "# help(sp.GoldenRatio)\n",
    "Φ**2"
   ]
  },
  {
   "cell_type": "code",
   "execution_count": 3,
   "id": "8dfb30c4-bac4-415f-8ffb-ac2fb57e24bd",
   "metadata": {},
   "outputs": [
    {
     "data": {
      "image/png": "[encoded data removed]",
      "text/latex": [
       "$\\displaystyle \\left[ \\frac{1}{2} - \\frac{\\sqrt{5}}{2}, \\  \\frac{1}{2} + \\frac{\\sqrt{5}}{2}\\right]$"
      ],
      "text/plain": [
       "⎡1   √5  1   √5⎤\n",
       "⎢─ - ──, ─ + ──⎥\n",
       "⎣2   2   2   2 ⎦"
      ]
     },
     "execution_count": 3,
     "metadata": {},
     "output_type": "execute_result"
    }
   ],
   "source": [
    "roots = sp.solve(x**2 - x - 1)\n",
    "roots"
   ]
  },
  {
   "cell_type": "code",
   "execution_count": 4,
   "id": "70d13573-dcf9-4b49-85ce-d80c9792785d",
   "metadata": {},
   "outputs": [
    {
     "data": {
      "image/png": "[encoded data removed]",
      "text/latex": [
       "$\\displaystyle 0$"
      ],
      "text/plain": [
       "0"
      ]
     },
     "execution_count": 4,
     "metadata": {},
     "output_type": "execute_result"
    }
   ],
   "source": [
    "(roots[1] - Φ).simplify()"
   ]
  },
  {
   "cell_type": "code",
   "execution_count": 5,
   "id": "328364c6",
   "metadata": {},
   "outputs": [
    {
     "data": {
      "image/png": "[encoded data removed]",
      "text/latex": [
       "$\\displaystyle -0.618033988749895$"
      ],
      "text/plain": [
       "-0.618033988749895"
      ]
     },
     "execution_count": 5,
     "metadata": {},
     "output_type": "execute_result"
    }
   ],
   "source": [
    "roots[0].evalf()"
   ]
  },
  {
   "cell_type": "code",
   "execution_count": 6,
   "id": "47458296",
   "metadata": {},
   "outputs": [
    {
     "data": {
      "image/png": "[encoded data removed]",
      "text/latex": [
       "$\\displaystyle 1.61803398874989$"
      ],
      "text/plain": [
       "1.61803398874989"
      ]
     },
     "execution_count": 6,
     "metadata": {},
     "output_type": "execute_result"
    }
   ],
   "source": [
    "roots[1].evalf()"
   ]
  },
  {
   "cell_type": "code",
   "execution_count": 7,
   "id": "1affba64",
   "metadata": {},
   "outputs": [
    {
     "data": {
      "image/png": "[encoded data removed]",
      "text/latex": [
       "$\\displaystyle \\sqrt{5}$"
      ],
      "text/plain": [
       "√5"
      ]
     },
     "execution_count": 7,
     "metadata": {},
     "output_type": "execute_result"
    }
   ],
   "source": [
    "roots[1] - roots[0]"
   ]
  },
  {
   "cell_type": "code",
   "execution_count": 8,
   "id": "dbd479f7",
   "metadata": {},
   "outputs": [
    {
     "data": {
      "image/png": "[encoded data removed]",
      "text/latex": [
       "$\\displaystyle \\frac{a}{b} = \\frac{b}{c}$"
      ],
      "text/plain": [
       "a   b\n",
       "─ = ─\n",
       "b   c"
      ]
     },
     "execution_count": 8,
     "metadata": {},
     "output_type": "execute_result"
    }
   ],
   "source": [
    "eq = sp.Eq(a / b, b / ( c ))\n",
    "eq"
   ]
  },
  {
   "cell_type": "code",
   "execution_count": 9,
   "id": "6884b329-7faa-4e21-b097-be7abfb09597",
   "metadata": {},
   "outputs": [
    {
     "data": {
      "image/png": "[encoded data removed]",
      "text/latex": [
       "$\\displaystyle \\frac{a}{b} = \\frac{b}{a + b}$"
      ],
      "text/plain": [
       "a     b  \n",
       "─ = ─────\n",
       "b   a + b"
      ]
     },
     "execution_count": 9,
     "metadata": {},
     "output_type": "execute_result"
    }
   ],
   "source": [
    "eq = eq.subs(c, b + a)\n",
    "eq"
   ]
  },
  {
   "cell_type": "code",
   "execution_count": 10,
   "id": "e9417821-aa81-49fe-84cb-5fc4f4d00d7e",
   "metadata": {},
   "outputs": [
    {
     "data": {
      "image/png": "[encoded data removed]",
      "text/latex": [
       "$\\displaystyle x = \\frac{1}{x + 1}$"
      ],
      "text/plain": [
       "      1  \n",
       "x = ─────\n",
       "    x + 1"
      ]
     },
     "execution_count": 10,
     "metadata": {},
     "output_type": "execute_result"
    }
   ],
   "source": [
    "eq = eq.subs([(b, 1), (a, x)])\n",
    "eq.simplify()"
   ]
  },
  {
   "cell_type": "code",
   "execution_count": 11,
   "id": "314cd887-b88b-4365-b4cc-4af221a87b2a",
   "metadata": {},
   "outputs": [
    {
     "data": {
      "image/png": "[encoded data removed]",
      "text/latex": [
       "$\\displaystyle x = \\frac{1}{1 + \\frac{1}{x + 1}}$"
      ],
      "text/plain": [
       "        1    \n",
       "x = ─────────\n",
       "          1  \n",
       "    1 + ─────\n",
       "        x + 1"
      ]
     },
     "execution_count": 11,
     "metadata": {},
     "output_type": "execute_result"
    }
   ],
   "source": [
    "# eq = sp.Eq(1 / x, x / ( 1 + x ))\n",
    "# eq\n",
    "eq = sp.Eq(x, eq.rhs.subs(x, (1 / (1 + x))))\n",
    "eq"
   ]
  },
  {
   "cell_type": "code",
   "execution_count": 12,
   "id": "5a4cbbf1-3362-4afd-b3a5-11cab01b0e96",
   "metadata": {},
   "outputs": [
    {
     "data": {
      "image/png": "[encoded data removed]",
      "text/latex": [
       "$\\displaystyle \\frac{3}{5}$"
      ],
      "text/plain": [
       "3/5"
      ]
     },
     "execution_count": 12,
     "metadata": {},
     "output_type": "execute_result"
    }
   ],
   "source": [
    "# eq = sp.Eq(1 / x, x / ( 1 + x ))\n",
    "# eq\n",
    "eq = sp.Eq(x, eq.rhs.subs(x, (1 / (1 + x))))\n",
    "eq.rhs.subs(x, 1)"
   ]
  },
  {
   "cell_type": "code",
   "execution_count": null,
   "id": "a2fe3879-ea48-483e-88b1-5b4eaed41752",
   "metadata": {},
   "outputs": [],
   "source": []
  },
  {
   "cell_type": "code",
   "execution_count": 13,
   "id": "f55aa58f-b7fb-429e-8817-0b3d18aaabd0",
   "metadata": {},
   "outputs": [
    {
     "data": {
      "image/png": "[encoded data removed]",
      "text/latex": [
       "$\\displaystyle x = \\frac{1}{1 + \\frac{1}{1 + \\frac{1}{x + 1}}}$"
      ],
      "text/plain": [
       "          1      \n",
       "x = ─────────────\n",
       "            1    \n",
       "    1 + ─────────\n",
       "              1  \n",
       "        1 + ─────\n",
       "            x + 1"
      ]
     },
     "execution_count": 13,
     "metadata": {},
     "output_type": "execute_result"
    }
   ],
   "source": [
    "eq"
   ]
  },
  {
   "cell_type": "code",
   "execution_count": 14,
   "id": "2e761544-6983-44eb-a441-7a5c4cec4e82",
   "metadata": {},
   "outputs": [
    {
     "data": {
      "image/png": "[encoded data removed]",
      "text/latex": [
       "$\\displaystyle \\left[ - \\frac{1}{2} + \\frac{\\sqrt{5}}{2}, \\  - \\frac{\\sqrt{5}}{2} - \\frac{1}{2}\\right]$"
      ],
      "text/plain": [
       "⎡  1   √5    √5   1⎤\n",
       "⎢- ─ + ──, - ── - ─⎥\n",
       "⎣  2   2     2    2⎦"
      ]
     },
     "execution_count": 14,
     "metadata": {},
     "output_type": "execute_result"
    }
   ],
   "source": [
    "sp.solve(eq)"
   ]
  },
  {
   "cell_type": "code",
   "execution_count": 15,
   "id": "2b4859e4-7df2-4c3a-b191-7df6263cfd94",
   "metadata": {},
   "outputs": [
    {
     "data": {
      "image/png": "[encoded data removed]",
      "text/latex": [
       "$\\displaystyle - x + \\frac{1}{1 + \\frac{1}{1 + \\frac{1}{x + 1}}}$"
      ],
      "text/plain": [
       "           1      \n",
       "-x + ─────────────\n",
       "             1    \n",
       "     1 + ─────────\n",
       "               1  \n",
       "         1 + ─────\n",
       "             x + 1"
      ]
     },
     "execution_count": 15,
     "metadata": {},
     "output_type": "execute_result"
    }
   ],
   "source": [
    "ex = eq.rhs - eq.lhs\n",
    "# (ex * x).factor()\n",
    "ex"
   ]
  },
  {
   "cell_type": "code",
   "execution_count": 16,
   "id": "a0fdcc09-058c-409b-ae5a-9f7cd9241f4b",
   "metadata": {},
   "outputs": [
    {
     "data": {
      "image/png": "[encoded data removed]",
      "text/latex": [
       "$\\displaystyle - x^{2} - x + \\frac{x}{1 + \\frac{1}{1 + \\frac{1}{x + 1}}} + \\frac{1}{1 + \\frac{1}{1 + \\frac{1}{x + 1}}}$"
      ],
      "text/plain": [
       "   2             x               1      \n",
       "- x  - x + ───────────── + ─────────────\n",
       "                   1               1    \n",
       "           1 + ─────────   1 + ─────────\n",
       "                     1               1  \n",
       "               1 + ─────       1 + ─────\n",
       "                   x + 1           x + 1"
      ]
     },
     "execution_count": 16,
     "metadata": {},
     "output_type": "execute_result"
    }
   ],
   "source": [
    "(ex * (x + 1)).expand()"
   ]
  },
  {
   "cell_type": "code",
   "execution_count": 17,
   "id": "66d04796",
   "metadata": {},
   "outputs": [
    {
     "data": {
      "image/png": "[encoded data removed]",
      "text/latex": [
       "$\\displaystyle x = \\frac{x + 1}{x}$"
      ],
      "text/plain": [
       "    x + 1\n",
       "x = ─────\n",
       "      x  "
      ]
     },
     "execution_count": 17,
     "metadata": {},
     "output_type": "execute_result"
    }
   ],
   "source": [
    "eq = sp.Eq(x / 1, ( 1 + x ) / x)\n",
    "eq"
   ]
  },
  {
   "cell_type": "code",
   "execution_count": 18,
   "id": "f3bc91ba",
   "metadata": {},
   "outputs": [
    {
     "data": {
      "image/png": "[encoded data removed]",
      "text/latex": [
       "$\\displaystyle x - \\frac{x + 1}{x}$"
      ],
      "text/plain": [
       "    x + 1\n",
       "x - ─────\n",
       "      x  "
      ]
     },
     "execution_count": 18,
     "metadata": {},
     "output_type": "execute_result"
    }
   ],
   "source": [
    "eq2 = eq.lhs - (eq.rhs)\n",
    "eq2"
   ]
  },
  {
   "cell_type": "code",
   "execution_count": 19,
   "id": "3141e4fe",
   "metadata": {},
   "outputs": [
    {
     "data": {
      "image/png": "[encoded data removed]",
      "text/latex": [
       "$\\displaystyle x^{2} - x - 1$"
      ],
      "text/plain": [
       " 2        \n",
       "x  - x - 1"
      ]
     },
     "execution_count": 19,
     "metadata": {},
     "output_type": "execute_result"
    }
   ],
   "source": [
    "(eq2 * x).expand()"
   ]
  },
  {
   "cell_type": "code",
   "execution_count": 20,
   "id": "e5270163",
   "metadata": {},
   "outputs": [
    {
     "data": {
      "image/png": "[encoded data removed]",
      "text/latex": [
       "$\\displaystyle x - 1 - \\frac{1}{x}$"
      ],
      "text/plain": [
       "        1\n",
       "x - 1 - ─\n",
       "        x"
      ]
     },
     "execution_count": 20,
     "metadata": {},
     "output_type": "execute_result"
    }
   ],
   "source": [
    "eq2.simplify()"
   ]
  },
  {
   "cell_type": "code",
   "execution_count": 21,
   "id": "5e729189",
   "metadata": {},
   "outputs": [
    {
     "data": {
      "image/png": "[encoded data removed]",
      "text/latex": [
       "$\\displaystyle x - \\frac{x + 1}{x}$"
      ],
      "text/plain": [
       "    x + 1\n",
       "x - ─────\n",
       "      x  "
      ]
     },
     "execution_count": 21,
     "metadata": {},
     "output_type": "execute_result"
    }
   ],
   "source": [
    "eq2.rewrite()"
   ]
  },
  {
   "cell_type": "code",
   "execution_count": 22,
   "id": "53018369",
   "metadata": {},
   "outputs": [
    {
     "data": {
      "image/png": "[encoded data removed]",
      "text/latex": [
       "$\\displaystyle \\frac{a}{b} = \\frac{b}{c}$"
      ],
      "text/plain": [
       "a   b\n",
       "─ = ─\n",
       "b   c"
      ]
     },
     "execution_count": 22,
     "metadata": {},
     "output_type": "execute_result"
    }
   ],
   "source": [
    "gmean = sp.Eq(a / b, b / c)\n",
    "gmean"
   ]
  },
  {
   "cell_type": "code",
   "execution_count": 23,
   "id": "21abd05f",
   "metadata": {},
   "outputs": [
    {
     "data": {
      "image/png": "[encoded data removed]",
      "text/latex": [
       "$\\displaystyle \\frac{a}{b} = \\frac{b}{a + b}$"
      ],
      "text/plain": [
       "a     b  \n",
       "─ = ─────\n",
       "b   a + b"
      ]
     },
     "execution_count": 23,
     "metadata": {},
     "output_type": "execute_result"
    }
   ],
   "source": [
    "goldenmean = gmean.subs(c, a + b)\n",
    "goldenmean"
   ]
  },
  {
   "cell_type": "code",
   "execution_count": 24,
   "id": "b5aa976d",
   "metadata": {},
   "outputs": [
    {
     "data": {
      "image/png": "[encoded data removed]",
      "text/latex": [
       "$\\displaystyle \\left[ \\left\\{ a : \\frac{b \\left(-1 + \\sqrt{5}\\right)}{2}\\right\\}, \\  \\left\\{ a : - \\frac{b \\left(1 + \\sqrt{5}\\right)}{2}\\right\\}\\right]$"
      ],
      "text/plain": [
       "⎡⎧   b⋅(-1 + √5)⎫  ⎧   -b⋅(1 + √5) ⎫⎤\n",
       "⎢⎨a: ───────────⎬, ⎨a: ────────────⎬⎥\n",
       "⎣⎩        2     ⎭  ⎩        2      ⎭⎦"
      ]
     },
     "execution_count": 24,
     "metadata": {},
     "output_type": "execute_result"
    }
   ],
   "source": [
    "sp.solve(goldenmean)"
   ]
  },
  {
   "cell_type": "code",
   "execution_count": 25,
   "id": "dbb235c6",
   "metadata": {},
   "outputs": [
    {
     "data": {
      "image/png": "[encoded data removed]",
      "text/latex": [
       "$\\displaystyle \\frac{1}{x} = \\frac{x}{x + 1}$"
      ],
      "text/plain": [
       "1     x  \n",
       "─ = ─────\n",
       "x   x + 1"
      ]
     },
     "execution_count": 25,
     "metadata": {},
     "output_type": "execute_result"
    }
   ],
   "source": [
    "g_eq = goldenmean.subs(a, 1).subs(b, x)\n",
    "g_eq"
   ]
  },
  {
   "cell_type": "code",
   "execution_count": 26,
   "id": "6f7dfc48",
   "metadata": {},
   "outputs": [
    {
     "data": {
      "image/png": "[encoded data removed]",
      "text/latex": [
       "$\\displaystyle 1 = \\frac{x^{2}}{x + 1}$"
      ],
      "text/plain": [
       "       2 \n",
       "      x  \n",
       "1 = ─────\n",
       "    x + 1"
      ]
     },
     "execution_count": 26,
     "metadata": {},
     "output_type": "execute_result"
    }
   ],
   "source": [
    "g2 = sp.Eq(g_eq.lhs * x, g_eq.rhs * x)\n",
    "g2"
   ]
  },
  {
   "cell_type": "code",
   "execution_count": 27,
   "id": "0ab58348",
   "metadata": {},
   "outputs": [
    {
     "data": {
      "image/png": "[encoded data removed]",
      "text/latex": [
       "$\\displaystyle x^{2} = x + 1$"
      ],
      "text/plain": [
       " 2        \n",
       "x  = x + 1"
      ]
     },
     "execution_count": 27,
     "metadata": {},
     "output_type": "execute_result"
    }
   ],
   "source": [
    "g3 = sp.Eq(g2.lhs * (x + 1), g2.rhs * (x + 1))\n",
    "g3.reversed"
   ]
  },
  {
   "cell_type": "code",
   "execution_count": 28,
   "id": "0dcbd7b6",
   "metadata": {},
   "outputs": [
    {
     "data": {
      "image/png": "[encoded data removed]",
      "text/latex": [
       "$\\displaystyle x^{2} - x - 1$"
      ],
      "text/plain": [
       " 2        \n",
       "x  - x - 1"
      ]
     },
     "execution_count": 28,
     "metadata": {},
     "output_type": "execute_result"
    }
   ],
   "source": [
    "g4 = g3.rhs - (g3.lhs)\n",
    "g4"
   ]
  },
  {
   "cell_type": "code",
   "execution_count": 29,
   "id": "d692bb01",
   "metadata": {},
   "outputs": [
    {
     "data": {
      "image/png": "[encoded data removed]",
      "text/latex": [
       "$\\displaystyle \\left[ \\frac{1}{2} - \\frac{\\sqrt{5}}{2}, \\  \\frac{1}{2} + \\frac{\\sqrt{5}}{2}\\right]$"
      ],
      "text/plain": [
       "⎡1   √5  1   √5⎤\n",
       "⎢─ - ──, ─ + ──⎥\n",
       "⎣2   2   2   2 ⎦"
      ]
     },
     "execution_count": 29,
     "metadata": {},
     "output_type": "execute_result"
    }
   ],
   "source": [
    "sp.solve(g4)"
   ]
  },
  {
   "cell_type": "code",
   "execution_count": 42,
   "id": "a2f517a4-4b98-46b4-98bc-a8d3e18f022b",
   "metadata": {},
   "outputs": [
    {
     "data": {
      "image/png": "[encoded data removed]",
      "text/latex": [
       "$\\displaystyle \\sqrt{x^{2}} = \\sqrt{x + 1}$"
      ],
      "text/plain": [
       "   ____            \n",
       "  ╱  2      _______\n",
       "╲╱  x   = ╲╱ x + 1 "
      ]
     },
     "execution_count": 42,
     "metadata": {},
     "output_type": "execute_result"
    }
   ],
   "source": [
    "g5 = sp.Eq(sp.sqrt(g3.rhs).simplify(), sp.sqrt(g3.lhs).simplify())\n",
    "g5"
   ]
  },
  {
   "cell_type": "code",
   "execution_count": 53,
   "id": "4a8a9c86-6c71-47ff-9417-a0bb8fd9cb69",
   "metadata": {},
   "outputs": [
    {
     "data": {
      "image/png": "[encoded data removed]",
      "text/latex": [
       "$\\displaystyle x = \\sqrt{x + 1}$"
      ],
      "text/plain": [
       "      _______\n",
       "x = ╲╱ x + 1 "
      ]
     },
     "execution_count": 53,
     "metadata": {},
     "output_type": "execute_result"
    }
   ],
   "source": [
    "g5 = sp.Eq(x, sp.sqrt(1 + x).simplify())\n",
    "g5"
   ]
  },
  {
   "cell_type": "code",
   "execution_count": 54,
   "id": "1c924b64-2426-40af-a58c-bbb7dbe97a5b",
   "metadata": {},
   "outputs": [
    {
     "data": {
      "image/png": "[encoded data removed]",
      "text/latex": [
       "$\\displaystyle x = \\sqrt{\\sqrt{x + 1} + 1}$"
      ],
      "text/plain": [
       "       _______________\n",
       "      ╱   _______     \n",
       "x = ╲╱  ╲╱ x + 1  + 1 "
      ]
     },
     "execution_count": 54,
     "metadata": {},
     "output_type": "execute_result"
    }
   ],
   "source": [
    "\n",
    "eq = sp.Eq(x, g5.rhs.subs(x, sp.sqrt(1 + x)))\n",
    "eq"
   ]
  },
  {
   "cell_type": "code",
   "execution_count": 55,
   "id": "c5b0831e-dd0a-4fbf-9402-445383e0e98d",
   "metadata": {},
   "outputs": [
    {
     "data": {
      "image/png": "[encoded data removed]",
      "text/latex": [
       "$\\displaystyle 1.55377397403004$"
      ],
      "text/plain": [
       "1.55377397403004"
      ]
     },
     "execution_count": 55,
     "metadata": {},
     "output_type": "execute_result"
    }
   ],
   "source": [
    "eq.rhs.subs(x, 1).evalf()"
   ]
  },
  {
   "cell_type": "code",
   "execution_count": 69,
   "id": "567d4c26-7381-4d3b-ae95-9ac2f967f139",
   "metadata": {},
   "outputs": [
    {
     "data": {
      "image/png": "[encoded data removed]",
      "text/latex": [
       "$\\displaystyle x = \\sqrt{\\sqrt{\\sqrt{\\sqrt{\\sqrt{\\sqrt{\\sqrt{\\sqrt{\\sqrt{x + 1} + 1} + 1} + 1} + 1} + 1} + 1} + 1} + 1}$"
      ],
      "text/plain": [
       "              _________________________________________________________________________________________\n",
       "             ╱          _______________________________________________________________________________\n",
       "            ╱          ╱         ______________________________________________________________________\n",
       "           ╱          ╱         ╱        _________________________________________________________     \n",
       "          ╱          ╱         ╱        ╱       _____________________________________________          \n",
       "         ╱          ╱         ╱        ╱       ╱      __________________________________               \n",
       "        ╱          ╱         ╱        ╱       ╱      ╱     ________________________                    \n",
       "       ╱          ╱         ╱        ╱       ╱      ╱     ╱    _______________                         \n",
       "      ╱          ╱         ╱        ╱       ╱      ╱     ╱    ╱   _______                              \n",
       "x = ╲╱         ╲╱        ╲╱       ╲╱      ╲╱     ╲╱    ╲╱   ╲╱  ╲╱ x + 1  + 1  + 1  + 1  + 1  + 1  + 1 \n",
       "\n",
       "__________\n",
       "_____     \n",
       "          \n",
       "          \n",
       "          \n",
       "          \n",
       "          \n",
       "          \n",
       "          \n",
       " + 1  + 1 "
      ]
     },
     "execution_count": 69,
     "metadata": {},
     "output_type": "execute_result"
    }
   ],
   "source": [
    "\n",
    "eq = sp.Eq(x, eq.rhs.subs(x, sp.sqrt(1 + x)))\n",
    "eq"
   ]
  },
  {
   "cell_type": "code",
   "execution_count": 71,
   "id": "ad933006-5c26-4d31-b10b-d4dcaca174b2",
   "metadata": {},
   "outputs": [
    {
     "data": {
      "image/png": "[encoded data removed]",
      "text/latex": [
       "$\\displaystyle \\sqrt{1 + \\sqrt{1 + \\sqrt{1 + \\sqrt{1 + \\sqrt{1 + \\sqrt{1 + \\sqrt{1 + \\sqrt{1 + \\sqrt{2}}}}}}}}}$"
      ],
      "text/plain": [
       "         _____________________________________________________________________________________\n",
       "        ╱             _______________________________________________________________________ \n",
       "       ╱             ╱            __________________________________________________________  \n",
       "      ╱             ╱            ╱           ______________________________________________   \n",
       "     ╱             ╱            ╱           ╱          ___________________________________    \n",
       "    ╱             ╱            ╱           ╱          ╱         _________________________     \n",
       "   ╱             ╱            ╱           ╱          ╱         ╱        ________________      \n",
       "  ╱             ╱            ╱           ╱          ╱         ╱        ╱       ________       \n",
       "╲╱        1 + ╲╱       1 + ╲╱      1 + ╲╱     1 + ╲╱    1 + ╲╱   1 + ╲╱  1 + ╲╱ 1 + √2        "
      ]
     },
     "execution_count": 71,
     "metadata": {},
     "output_type": "execute_result"
    }
   ],
   "source": [
    "eq.rhs.subs(x, 1)"
   ]
  },
  {
   "cell_type": "code",
   "execution_count": 72,
   "id": "c706e3fd-5476-41d8-8b85-caedeb47a54c",
   "metadata": {},
   "outputs": [
    {
     "data": {
      "image/png": "[encoded data removed]",
      "text/latex": [
       "$\\displaystyle x = \\sqrt{\\sqrt{\\sqrt{\\sqrt{\\sqrt{\\sqrt{\\sqrt{\\sqrt{\\sqrt{x + 1} + 1} + 1} + 1} + 1} + 1} + 1} + 1} + 1}$"
      ],
      "text/plain": [
       "              _________________________________________________________________________________________\n",
       "             ╱          _______________________________________________________________________________\n",
       "            ╱          ╱         ______________________________________________________________________\n",
       "           ╱          ╱         ╱        _________________________________________________________     \n",
       "          ╱          ╱         ╱        ╱       _____________________________________________          \n",
       "         ╱          ╱         ╱        ╱       ╱      __________________________________               \n",
       "        ╱          ╱         ╱        ╱       ╱      ╱     ________________________                    \n",
       "       ╱          ╱         ╱        ╱       ╱      ╱     ╱    _______________                         \n",
       "      ╱          ╱         ╱        ╱       ╱      ╱     ╱    ╱   _______                              \n",
       "x = ╲╱         ╲╱        ╲╱       ╲╱      ╲╱     ╲╱    ╲╱   ╲╱  ╲╱ x + 1  + 1  + 1  + 1  + 1  + 1  + 1 \n",
       "\n",
       "__________\n",
       "_____     \n",
       "          \n",
       "          \n",
       "          \n",
       "          \n",
       "          \n",
       "          \n",
       "          \n",
       " + 1  + 1 "
      ]
     },
     "execution_count": 72,
     "metadata": {},
     "output_type": "execute_result"
    }
   ],
   "source": [
    "eq.simplify()"
   ]
  },
  {
   "cell_type": "code",
   "execution_count": 31,
   "id": "c80c7475",
   "metadata": {},
   "outputs": [
    {
     "data": {
      "image/png": "[encoded data removed]",
      "text/latex": [
       "$\\displaystyle x = \\frac{1}{x + 1}$"
      ],
      "text/plain": [
       "      1  \n",
       "x = ─────\n",
       "    x + 1"
      ]
     },
     "execution_count": 31,
     "metadata": {},
     "output_type": "execute_result"
    }
   ],
   "source": [
    "g_eq = goldenmean.subs(a, 1).subs(b, x)\n",
    "g_eq\n",
    "goldenmean.subs([(a, x), (b, 1)])"
   ]
  },
  {
   "cell_type": "markdown",
   "id": "c3a6b7c4",
   "metadata": {},
   "source": [
    "I say, then, that if 10 is divided according to our proportion, its greater part will be the square root of 125 minus 5, to which adding 5 for the stated result, that is, half of the entire 10, will\n",
    "make exactly the square root of 125, because that \"minus 5\" becomes restored and replaced\n",
    "with the \"plus 5\", half of 10. This combination, that is, the square root of 125 multiplied by\n",
    "itself, which makes, by its square, 125, is 5 times the square of the half of 10, which is 5, and its"
   ]
  },
  {
   "cell_type": "code",
   "execution_count": 32,
   "id": "b9eb811d",
   "metadata": {},
   "outputs": [
    {
     "data": {
      "image/png": "[encoded data removed]",
      "text/latex": [
       "$\\displaystyle \\frac{-5 + 5 \\sqrt{5}}{15 - 5 \\sqrt{5}}$"
      ],
      "text/plain": [
       "-5 + 5⋅√5\n",
       "─────────\n",
       "15 - 5⋅√5"
      ]
     },
     "execution_count": 32,
     "metadata": {},
     "output_type": "execute_result"
    }
   ],
   "source": [
    "# from Pacioli\n",
    "gr = (sp.sqrt(125) - 5) / (15 - sp.sqrt(125))\n",
    "gr"
   ]
  },
  {
   "cell_type": "code",
   "execution_count": 33,
   "id": "2a9ac044",
   "metadata": {},
   "outputs": [
    {
     "data": {
      "image/png": "[encoded data removed]",
      "text/latex": [
       "$\\displaystyle \\frac{1}{2} + \\frac{\\sqrt{5}}{2}$"
      ],
      "text/plain": [
       "1   √5\n",
       "─ + ──\n",
       "2   2 "
      ]
     },
     "execution_count": 33,
     "metadata": {},
     "output_type": "execute_result"
    }
   ],
   "source": [
    "gr.simplify()"
   ]
  },
  {
   "cell_type": "code",
   "execution_count": 34,
   "id": "51f10960",
   "metadata": {},
   "outputs": [
    {
     "data": {
      "image/png": "[encoded data removed]",
      "text/latex": [
       "$\\displaystyle - \\frac{-1 + \\sqrt{5}}{-3 + \\sqrt{5}}$"
      ],
      "text/plain": [
       "-(-1 + √5) \n",
       "───────────\n",
       "  -3 + √5  "
      ]
     },
     "execution_count": 34,
     "metadata": {},
     "output_type": "execute_result"
    }
   ],
   "source": [
    "gr.factor()"
   ]
  },
  {
   "cell_type": "code",
   "execution_count": 35,
   "id": "0b8c1bf6",
   "metadata": {},
   "outputs": [
    {
     "data": {
      "image/png": "[encoded data removed]",
      "text/latex": [
       "$\\displaystyle \\frac{-6 + 6 \\sqrt{5}}{18 - 6 \\sqrt{5}}$"
      ],
      "text/plain": [
       "-6 + 6⋅√5\n",
       "─────────\n",
       "18 - 6⋅√5"
      ]
     },
     "execution_count": 35,
     "metadata": {},
     "output_type": "execute_result"
    }
   ],
   "source": [
    "gr = (sp.sqrt(180) - 6) / (18 - sp.sqrt(180))\n",
    "gr"
   ]
  },
  {
   "cell_type": "code",
   "execution_count": 36,
   "id": "23191b49",
   "metadata": {},
   "outputs": [
    {
     "data": {
      "image/png": "[encoded data removed]",
      "text/latex": [
       "$\\displaystyle \\frac{1}{2} + \\frac{\\sqrt{5}}{2}$"
      ],
      "text/plain": [
       "1   √5\n",
       "─ + ──\n",
       "2   2 "
      ]
     },
     "execution_count": 36,
     "metadata": {},
     "output_type": "execute_result"
    }
   ],
   "source": [
    "gr.simplify()"
   ]
  },
  {
   "cell_type": "code",
   "execution_count": 37,
   "id": "94929855",
   "metadata": {},
   "outputs": [
    {
     "data": {
      "image/png": "[encoded data removed]",
      "text/latex": [
       "$\\displaystyle - \\frac{-1 + \\sqrt{5}}{-3 + \\sqrt{5}}$"
      ],
      "text/plain": [
       "-(-1 + √5) \n",
       "───────────\n",
       "  -3 + √5  "
      ]
     },
     "execution_count": 37,
     "metadata": {},
     "output_type": "execute_result"
    }
   ],
   "source": [
    "gr.factor()"
   ]
  },
  {
   "cell_type": "code",
   "execution_count": 38,
   "id": "6fefba89",
   "metadata": {},
   "outputs": [
    {
     "data": {
      "image/png": "[encoded data removed]",
      "text/latex": [
       "$\\displaystyle 0$"
      ],
      "text/plain": [
       "0"
      ]
     },
     "execution_count": 38,
     "metadata": {},
     "output_type": "execute_result"
    }
   ],
   "source": [
    "(gr - Φ).simplify()"
   ]
  },
  {
   "cell_type": "code",
   "execution_count": null,
   "id": "2165c74e",
   "metadata": {},
   "outputs": [],
   "source": []
  }
 ],
 "metadata": {
  "kernelspec": {
   "display_name": "Python 3 (ipykernel)",
   "language": "python",
   "name": "python3"
  },
  "language_info": {
   "codemirror_mode": {
    "name": "ipython",
    "version": 3
   },
   "file_extension": ".py",
   "mimetype": "text/x-python",
   "name": "python",
   "nbconvert_exporter": "python",
   "pygments_lexer": "ipython3",
   "version": "3.9.5"
  }
 },
 "nbformat": 4,
 "nbformat_minor": 5
}
