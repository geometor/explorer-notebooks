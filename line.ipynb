{
 "cells": [
  {
   "cell_type": "code",
   "execution_count": 5,
   "id": "89fcb865-d7ae-491a-a715-5fcb5fb9eaa3",
   "metadata": {
    "tags": []
   },
   "outputs": [
    {
     "data": {
      "image/png": "[encoded data removed]",
      "text/latex": [
       "$\\displaystyle Point2D\\left(- \\frac{1}{2}, 0\\right)$"
      ],
      "text/plain": [
       "Point2D(-1/2, 0)"
      ]
     },
     "execution_count": 5,
     "metadata": {},
     "output_type": "execute_result"
    }
   ],
   "source": [
    "%run run.py\n",
    "%matplotlib widget\n",
    "\n",
    "\n",
    "class Line(spg.Line2D):\n",
    "    def __init__(self, pt1, pt2):\n",
    "        super().__init__()\n",
    "        self.style = 'test'\n",
    "        self.cl = 'bisector'\n",
    "        \n",
    "begin()\n",
    "\n",
    "l1 = Line(pts[0], pts[1])\n",
    "l1.p1"
   ]
  },
  {
   "cell_type": "code",
   "execution_count": 6,
   "id": "55eb92bd-bf80-453e-a7f2-de2c335a721f",
   "metadata": {},
   "outputs": [],
   "source": [
    "l2 = spg.Line(pts[0], pts[1])\n",
    "l2.style = 'red'"
   ]
  },
  {
   "cell_type": "code",
   "execution_count": 7,
   "id": "7dd0b150-8149-4a39-b2ae-80e94d88ba94",
   "metadata": {},
   "outputs": [
    {
     "data": {
      "text/plain": [
       "'red'"
      ]
     },
     "execution_count": 7,
     "metadata": {},
     "output_type": "execute_result"
    }
   ],
   "source": [
    "l2.style"
   ]
  },
  {
   "cell_type": "code",
   "execution_count": null,
   "id": "0099bf88-c8d1-4399-8d12-cc89667b1aa7",
   "metadata": {},
   "outputs": [],
   "source": []
  }
 ],
 "metadata": {
  "kernelspec": {
   "display_name": "Python 3 (ipykernel)",
   "language": "python",
   "name": "python3"
  },
  "language_info": {
   "codemirror_mode": {
    "name": "ipython",
    "version": 3
   },
   "file_extension": ".py",
   "mimetype": "text/x-python",
   "name": "python",
   "nbconvert_exporter": "python",
   "pygments_lexer": "ipython3",
   "version": "3.9.5"
  },
  "toc-autonumbering": true,
  "toc-showcode": true,
  "toc-showmarkdowntxt": true
 },
 "nbformat": 4,
 "nbformat_minor": 5
}
