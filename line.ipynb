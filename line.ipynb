{
 "cells": [
  {
   "cell_type": "code",
   "execution_count": 6,
   "id": "89fcb865-d7ae-491a-a715-5fcb5fb9eaa3",
   "metadata": {
    "tags": []
   },
   "outputs": [
    {
     "data": {
      "image/png": "[encoded data removed]",
      "text/latex": [
       "$\\displaystyle \\left[ \\right]$"
      ],
      "text/plain": [
       "[]"
      ]
     },
     "execution_count": 6,
     "metadata": {},
     "output_type": "execute_result"
    }
   ],
   "source": [
    "%run run.py\n",
    "%matplotlib widget\n",
    "\n",
    "\n",
    "        \n",
    "begin()\n",
    "\n",
    "l1 = line(pts[0], pts[1])\n",
    "l1.classes"
   ]
  },
  {
   "cell_type": "code",
   "execution_count": 2,
   "id": "55eb92bd-bf80-453e-a7f2-de2c335a721f",
   "metadata": {},
   "outputs": [],
   "source": [
    "l2 = line(pts[0], pts[1], classes=['red'])\n",
    "# l2.style = 'colo'"
   ]
  },
  {
   "cell_type": "code",
   "execution_count": 4,
   "id": "7dd0b150-8149-4a39-b2ae-80e94d88ba94",
   "metadata": {},
   "outputs": [
    {
     "data": {
      "text/plain": [
       "True"
      ]
     },
     "execution_count": 4,
     "metadata": {},
     "output_type": "execute_result"
    }
   ],
   "source": [
    "l1 == l2"
   ]
  },
  {
   "cell_type": "code",
   "execution_count": 5,
   "id": "0099bf88-c8d1-4399-8d12-cc89667b1aa7",
   "metadata": {},
   "outputs": [
    {
     "data": {
      "text/plain": [
       "['red']"
      ]
     },
     "execution_count": 5,
     "metadata": {},
     "output_type": "execute_result"
    }
   ],
   "source": [
    "l2.classes"
   ]
  },
  {
   "cell_type": "code",
   "execution_count": null,
   "id": "8e706bc1-0ffb-43da-ba8a-a25bea33ccac",
   "metadata": {},
   "outputs": [],
   "source": [
    "classes = {\n",
    "    'red': {'color': 'r'},\n",
    "    'dotted': {'linestyle': ':'},\n",
    "}"
   ]
  },
  {
   "cell_type": "code",
   "execution_count": 2,
   "id": "a9d6938a-bd49-4b15-a22e-cb40e0a7acd1",
   "metadata": {},
   "outputs": [
    {
     "name": "stdout",
     "output_type": "stream",
     "text": [
      "wow\n"
     ]
    }
   ],
   "source": [
    "a = ['a']\n",
    "if a:\n",
    "    print('wow')"
   ]
  },
  {
   "cell_type": "code",
   "execution_count": null,
   "id": "d29a8b65-5315-48b4-9305-42097114d9a5",
   "metadata": {},
   "outputs": [],
   "source": []
  }
 ],
 "metadata": {
  "kernelspec": {
   "display_name": "Python 3 (ipykernel)",
   "language": "python",
   "name": "python3"
  },
  "language_info": {
   "codemirror_mode": {
    "name": "ipython",
    "version": 3
   },
   "file_extension": ".py",
   "mimetype": "text/x-python",
   "name": "python",
   "nbconvert_exporter": "python",
   "pygments_lexer": "ipython3",
   "version": "3.9.5"
  },
  "toc-autonumbering": true,
  "toc-showcode": true,
  "toc-showmarkdowntxt": true
 },
 "nbformat": 4,
 "nbformat_minor": 5
}
