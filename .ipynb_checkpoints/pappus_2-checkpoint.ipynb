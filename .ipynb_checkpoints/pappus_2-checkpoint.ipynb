{
 "cells": [
  {
   "cell_type": "code",
   "execution_count": 2,
   "id": "129d3352-d1a8-4862-8a64-b9dbd16f44ce",
   "metadata": {},
   "outputs": [
    {
     "ename": "NameError",
     "evalue": "name 'A' is not defined",
     "output_type": "error",
     "traceback": [
      "\u001b[0;31m---------------------------------------------------------------------------\u001b[0m",
      "\u001b[0;31mNameError\u001b[0m                                 Traceback (most recent call last)",
      "\u001b[0;32m/tmp/ipykernel_329291/3591120509.py\u001b[0m in \u001b[0;36m<module>\u001b[0;34m\u001b[0m\n\u001b[1;32m     18\u001b[0m \u001b[0mB\u001b[0m\u001b[0;34m.\u001b[0m\u001b[0mappend\u001b[0m\u001b[0;34m(\u001b[0m \u001b[0madd_point\u001b[0m\u001b[0;34m(\u001b[0m \u001b[0mpoint\u001b[0m\u001b[0;34m(\u001b[0m\u001b[0;36m3\u001b[0m\u001b[0;34m,\u001b[0m \u001b[0;36m4\u001b[0m\u001b[0;34m,\u001b[0m \u001b[0mclasses\u001b[0m\u001b[0;34m=\u001b[0m\u001b[0;34m[\u001b[0m\u001b[0;34m'B'\u001b[0m\u001b[0;34m,\u001b[0m \u001b[0;34m'diamond'\u001b[0m\u001b[0;34m]\u001b[0m\u001b[0;34m)\u001b[0m \u001b[0;34m)\u001b[0m \u001b[0;34m)\u001b[0m\u001b[0;34m\u001b[0m\u001b[0;34m\u001b[0m\u001b[0m\n\u001b[1;32m     19\u001b[0m \u001b[0;34m\u001b[0m\u001b[0m\n\u001b[0;32m---> 20\u001b[0;31m \u001b[0mset_meet\u001b[0m\u001b[0;34m(\u001b[0m\u001b[0;36m0\u001b[0m\u001b[0;34m,\u001b[0m \u001b[0;36m1\u001b[0m\u001b[0;34m,\u001b[0m \u001b[0;34m'diamond'\u001b[0m\u001b[0;34m)\u001b[0m\u001b[0;34m\u001b[0m\u001b[0;34m\u001b[0m\u001b[0m\n\u001b[0m\u001b[1;32m     21\u001b[0m \u001b[0mset_meet\u001b[0m\u001b[0;34m(\u001b[0m\u001b[0;36m1\u001b[0m\u001b[0;34m,\u001b[0m \u001b[0;36m2\u001b[0m\u001b[0;34m,\u001b[0m \u001b[0;34m'square'\u001b[0m\u001b[0;34m)\u001b[0m\u001b[0;34m\u001b[0m\u001b[0;34m\u001b[0m\u001b[0m\n\u001b[1;32m     22\u001b[0m \u001b[0mset_meet\u001b[0m\u001b[0;34m(\u001b[0m\u001b[0;36m2\u001b[0m\u001b[0;34m,\u001b[0m \u001b[0;36m0\u001b[0m\u001b[0;34m,\u001b[0m \u001b[0;34m'circle'\u001b[0m\u001b[0;34m)\u001b[0m\u001b[0;34m\u001b[0m\u001b[0;34m\u001b[0m\u001b[0m\n",
      "\u001b[0;32m~/Projects/GEOMETOR/explorer-notebooks/geometor/pappus.py\u001b[0m in \u001b[0;36mset_meet\u001b[0;34m(u, v, type)\u001b[0m\n\u001b[1;32m      4\u001b[0m \u001b[0mA\u001b[0m \u001b[0;34m=\u001b[0m \u001b[0;34m[\u001b[0m\u001b[0;34m]\u001b[0m\u001b[0;34m\u001b[0m\u001b[0;34m\u001b[0m\u001b[0m\n\u001b[1;32m      5\u001b[0m \u001b[0mB\u001b[0m \u001b[0;34m=\u001b[0m \u001b[0;34m[\u001b[0m\u001b[0;34m]\u001b[0m\u001b[0;34m\u001b[0m\u001b[0;34m\u001b[0m\u001b[0m\n\u001b[0;32m----> 6\u001b[0;31m \u001b[0;34m\u001b[0m\u001b[0m\n\u001b[0m\u001b[1;32m      7\u001b[0m \u001b[0mclasses\u001b[0m \u001b[0;34m=\u001b[0m \u001b[0;34m{\u001b[0m\u001b[0;34m}\u001b[0m\u001b[0;34m\u001b[0m\u001b[0;34m\u001b[0m\u001b[0m\n\u001b[1;32m      8\u001b[0m \u001b[0mclasses\u001b[0m\u001b[0;34m[\u001b[0m\u001b[0;34m'blue'\u001b[0m\u001b[0;34m]\u001b[0m \u001b[0;34m=\u001b[0m \u001b[0;34m{\u001b[0m\u001b[0;34m'color'\u001b[0m\u001b[0;34m:\u001b[0m\u001b[0;34m'b'\u001b[0m\u001b[0;34m,\u001b[0m \u001b[0;34m'linestyle'\u001b[0m\u001b[0;34m:\u001b[0m\u001b[0;34m':'\u001b[0m\u001b[0;34m}\u001b[0m\u001b[0;34m\u001b[0m\u001b[0;34m\u001b[0m\u001b[0m\n",
      "\u001b[0;31mNameError\u001b[0m: name 'A' is not defined"
     ]
    }
   ],
   "source": [
    "%run run.py\n",
    "from geometor.pappus import *\n",
    "\n",
    "%matplotlib widget\n",
    "\n",
    "A.append( add_point( point(0, 0, classes=['A', 'square']) ) )\n",
    "A.append( add_point( point(1, 0, classes=['A', 'circle']) ) )\n",
    "line_a = line(A[0], A[1], classes=['blue']) \n",
    "add_element(line_a)\n",
    "x_val = 3\n",
    "A.append( add_point( point(x_val, 0, classes=['A', 'diamond']) ) )\n",
    "\n",
    "B.append( add_point( point(0, 1, classes=['B', 'square']) ) )\n",
    "B.append( add_point( point(1, 2, classes=['B', 'circle']) ) )\n",
    "line_b = line(B[0], B[1], classes=['blue']) \n",
    "add_element(line_b)\n",
    "x_val = 3\n",
    "B.append( add_point( point(3, 4, classes=['B', 'diamond']) ) )\n",
    "\n",
    "set_meet(0, 1, 'diamond')\n",
    "set_meet(1, 2, 'square')\n",
    "set_meet(2, 0, 'circle')\n",
    "        \n",
    "meets = get_pts_by_class('meet')\n",
    "\n",
    "pappus_line = line(meets[0], meets[1], classes=['blue', 'pappus'])\n",
    "add_element(pappus_line)\n",
    "\n",
    "\n",
    "limx, limy = get_limits_from_points(pts)\n",
    "bounds = set_bounds(limx, limy)\n",
    "\n",
    "plt_init(limx, limy)\n",
    "\n",
    "\n",
    "for line in get_elements_by_class('blue'):\n",
    "    plot_line(line, bounds, **classes['blue'])\n",
    "    \n",
    "for line in get_elements_by_class('red'):\n",
    "    plot_line(line, bounds, **classes['red'])\n",
    "    \n",
    "for line in get_elements_by_class('green'):\n",
    "    plot_line(line, bounds, **classes['green'])\n",
    "\n",
    "plot_points(get_pts_by_class('circle'), **classes['circle'], add_to_cursors=False)\n",
    "plot_points(get_pts_by_class('square'), **classes['square'], add_to_cursors=False)\n",
    "plot_points(get_pts_by_class('diamond'), **classes['diamond'], add_to_cursors=False)\n",
    "plot_points(pts)\n",
    "\n",
    "print(f'pappus points:')\n",
    "for pt in meets:\n",
    "    print(pt.x, pt.y)\n",
    "    \n",
    "print('   collinear: ', sp.Point.is_collinear(*meets))\n",
    "\n"
   ]
  },
  {
   "cell_type": "code",
   "execution_count": 43,
   "id": "86339da2-61fb-4b6f-a7b5-4559c1237a17",
   "metadata": {},
   "outputs": [],
   "source": [
    "triangle_sq = polygon(get_pts_by_class('square'))\n",
    "plot_polygon(triangle_sq, color='#FF03')\n",
    "\n",
    "triangle_cir = polygon(get_pts_by_class('circle'))\n",
    "plot_polygon(triangle_cir, color='#0FF3')\n",
    "\n",
    "triangle_dia = polygon(get_pts_by_class('diamond'))\n",
    "plot_polygon(triangle_dia, color='#F0F3')"
   ]
  },
  {
   "cell_type": "code",
   "execution_count": 44,
   "id": "2d8238da-37b7-4d37-98ff-3f2ee1c4fe72",
   "metadata": {},
   "outputs": [
    {
     "name": "stdout",
     "output_type": "stream",
     "text": [
      "points:  14\n",
      "       0        0 ['A', 'square']\n",
      "       1        0 ['A', 'circle']\n",
      "       3        0 ['A', 'diamond']\n",
      "       0        1 ['B', 'square']\n",
      "       1        2 ['B', 'circle']\n",
      "      -1        0 []\n",
      "       3        4 ['B', 'diamond']\n",
      "     1/3      2/3 ['meet', 'diamond']\n",
      "     5/3      4/3 ['meet', 'square']\n",
      "     3/7      6/7 []\n",
      "     9/7      4/7 []\n",
      "     3/7      4/7 []\n",
      "     9/7     12/7 []\n",
      "     3/5      4/5 ['meet', 'circle']\n",
      "elements:  9\n",
      "(0, 1, 0) ['blue']\n",
      "(-1, 1, -1) ['blue']\n",
      "(-2, 1, 0) ['red']\n",
      "(-1, -1, 1) ['green']\n",
      "(-4, 2, 4) ['red']\n",
      "(-2, -2, 6) ['green']\n",
      "(-1, -3, 3) ['red']\n",
      "(-4, 3, 0) ['green']\n",
      "(-2/3, 4/3, -2/3) ['blue', 'pappus']\n"
     ]
    }
   ],
   "source": [
    "print('points: ', len(pts))\n",
    "for pt in pts:\n",
    "    print(f'{str(pt.x): >8} {str(pt.y): >8} {pt.classes}')\n",
    "print('elements: ', len(elements))\n",
    "for el in elements:\n",
    "    print(f'{el.coefficients} {el.classes}')"
   ]
  },
  {
   "cell_type": "code",
   "execution_count": null,
   "id": "59e852e6-e18f-4be8-8fd5-9dd3869462e9",
   "metadata": {},
   "outputs": [],
   "source": []
  },
  {
   "cell_type": "code",
   "execution_count": 5,
   "id": "a47d76a6-0960-4d49-9638-04c000cf3ff2",
   "metadata": {},
   "outputs": [
    {
     "name": "stdout",
     "output_type": "stream",
     "text": [
      "9/25\n"
     ]
    }
   ],
   "source": [
    "sp1 = spread(line_a, pappus_line)\n",
    "if not math.isnan(sp1):\n",
    "    print(sp1)\n"
   ]
  },
  {
   "cell_type": "code",
   "execution_count": 6,
   "id": "01746057-0fa6-4da8-a429-e5f892b81a2a",
   "metadata": {},
   "outputs": [
    {
     "data": {
      "image/png": "[encoded data removed]",
      "text/latex": [
       "$\\displaystyle \\left( - \\frac{2}{3}, \\  \\frac{4}{3}, \\  - \\frac{2}{3}\\right)$"
      ],
      "text/plain": [
       "(-2/3, 4/3, -2/3)"
      ]
     },
     "execution_count": 6,
     "metadata": {},
     "output_type": "execute_result"
    }
   ],
   "source": [
    "pappus_line.coefficients"
   ]
  },
  {
   "cell_type": "code",
   "execution_count": 9,
   "id": "81904805-6f34-4d20-a0d0-16045ceb957f",
   "metadata": {},
   "outputs": [
    {
     "data": {
      "image/png": "[encoded data removed]",
      "text/latex": [
       "$\\displaystyle - x + y - 1$"
      ],
      "text/plain": [
       "-x + y - 1"
      ]
     },
     "execution_count": 9,
     "metadata": {},
     "output_type": "execute_result"
    }
   ],
   "source": [
    "# line_b.subs('x', 5)\n",
    "line_b.equation().subs('x', 5)"
   ]
  },
  {
   "cell_type": "code",
   "execution_count": 7,
   "id": "039bfc77-6ff6-43bd-8322-f14c245a4c80",
   "metadata": {},
   "outputs": [
    {
     "data": {
      "image/png": "[encoded data removed]",
      "text/latex": [
       "$\\displaystyle - x + y - 1$"
      ],
      "text/plain": [
       "-x + y - 1"
      ]
     },
     "execution_count": 7,
     "metadata": {},
     "output_type": "execute_result"
    }
   ],
   "source": [
    "line_b.equation().as_expr().subs(x, 5)"
   ]
  },
  {
   "cell_type": "code",
   "execution_count": 11,
   "id": "15f9078e-9cf1-4449-9216-d9291730e8c0",
   "metadata": {},
   "outputs": [
    {
     "ename": "TypeError",
     "evalue": "unsupported operand type(s) for -: 'Equality' and 'Expr'",
     "output_type": "error",
     "traceback": [
      "\u001b[0;31m---------------------------------------------------------------------------\u001b[0m",
      "\u001b[0;31mTypeError\u001b[0m                                 Traceback (most recent call last)",
      "\u001b[0;32m/tmp/ipykernel_9982/2619463688.py\u001b[0m in \u001b[0;36m<module>\u001b[0;34m\u001b[0m\n\u001b[1;32m      1\u001b[0m \u001b[0meq1\u001b[0m \u001b[0;34m=\u001b[0m \u001b[0msp\u001b[0m\u001b[0;34m.\u001b[0m\u001b[0mEq\u001b[0m\u001b[0;34m(\u001b[0m\u001b[0mline_b\u001b[0m\u001b[0;34m.\u001b[0m\u001b[0mequation\u001b[0m\u001b[0;34m(\u001b[0m\u001b[0;34m)\u001b[0m\u001b[0;34m.\u001b[0m\u001b[0mexpand\u001b[0m\u001b[0;34m(\u001b[0m\u001b[0;34m)\u001b[0m\u001b[0;34m,\u001b[0m \u001b[0;36m0\u001b[0m\u001b[0;34m)\u001b[0m\u001b[0;34m\u001b[0m\u001b[0;34m\u001b[0m\u001b[0m\n\u001b[1;32m      2\u001b[0m \u001b[0;31m# eq1 = sp.Expr(line_b.equation())\u001b[0m\u001b[0;34m\u001b[0m\u001b[0;34m\u001b[0m\u001b[0;34m\u001b[0m\u001b[0m\n\u001b[0;32m----> 3\u001b[0;31m \u001b[0meq1\u001b[0m \u001b[0;34m-\u001b[0m \u001b[0msp\u001b[0m\u001b[0;34m.\u001b[0m\u001b[0mExpr\u001b[0m\u001b[0;34m(\u001b[0m\u001b[0mline_b\u001b[0m\u001b[0;34m.\u001b[0m\u001b[0mequation\u001b[0m\u001b[0;34m(\u001b[0m\u001b[0;34m)\u001b[0m\u001b[0;34m.\u001b[0m\u001b[0mas_expr\u001b[0m\u001b[0;34m(\u001b[0m\u001b[0;34m)\u001b[0m\u001b[0;34m)\u001b[0m\u001b[0;34m\u001b[0m\u001b[0;34m\u001b[0m\u001b[0m\n\u001b[0m",
      "\u001b[0;31mTypeError\u001b[0m: unsupported operand type(s) for -: 'Equality' and 'Expr'"
     ]
    }
   ],
   "source": [
    "eq1 = sp.Eq(line_b.equation().expand(), 0)\n",
    "# eq1 = sp.Expr(line_b.equation())\n",
    "eq1 - sp.Expr(line_b.equation().as_expr())"
   ]
  },
  {
   "cell_type": "code",
   "execution_count": 20,
   "id": "46af67e6-edc7-4868-b8ea-b1e9bdf9f3b0",
   "metadata": {},
   "outputs": [
    {
     "data": {
      "image/png": "[encoded data removed]",
      "text/latex": [
       "$\\displaystyle - x + y - 1$"
      ],
      "text/plain": [
       "-x + y - 1"
      ]
     },
     "execution_count": 20,
     "metadata": {},
     "output_type": "execute_result"
    }
   ],
   "source": [
    "line_b.equation().as_expr()"
   ]
  },
  {
   "cell_type": "code",
   "execution_count": 27,
   "id": "454baba8-6ca4-4f31-a413-e34ebd80a598",
   "metadata": {},
   "outputs": [
    {
     "data": {
      "image/png": "[encoded data removed]",
      "text/latex": [
       "$\\displaystyle \\left\\{ x : 5, \\  x : y - 1\\right\\}$"
      ],
      "text/plain": [
       "{x: 5, x: y - 1}"
      ]
     },
     "execution_count": 27,
     "metadata": {},
     "output_type": "execute_result"
    }
   ],
   "source": [
    "# eq2 = sp.Eq(-x + y - 1, 0)\n",
    "eq1 = x - 5\n",
    "eq2 = -x + y - 1\n",
    "eq2 = line_b.equation() + 0\n",
    "# eq2\n",
    "sp.solve([eq1, eq2])"
   ]
  },
  {
   "cell_type": "code",
   "execution_count": 13,
   "id": "cb5b823a-fc8c-4255-a1f7-9370f16a6324",
   "metadata": {},
   "outputs": [
    {
     "ename": "NameError",
     "evalue": "name 'A1' is not defined",
     "output_type": "error",
     "traceback": [
      "\u001b[0;31m---------------------------------------------------------------------------\u001b[0m",
      "\u001b[0;31mNameError\u001b[0m                                 Traceback (most recent call last)",
      "\u001b[0;32m/tmp/ipykernel_9982/1938026902.py\u001b[0m in \u001b[0;36m<module>\u001b[0;34m\u001b[0m\n\u001b[0;32m----> 1\u001b[0;31m \u001b[0ml1\u001b[0m \u001b[0;34m=\u001b[0m \u001b[0mline\u001b[0m\u001b[0;34m(\u001b[0m\u001b[0mA1\u001b[0m\u001b[0;34m,\u001b[0m \u001b[0mA2\u001b[0m\u001b[0;34m)\u001b[0m\u001b[0;34m\u001b[0m\u001b[0;34m\u001b[0m\u001b[0m\n\u001b[0m\u001b[1;32m      2\u001b[0m \u001b[0ml1\u001b[0m\u001b[0;34m.\u001b[0m\u001b[0mequation\u001b[0m\u001b[0;34m(\u001b[0m\u001b[0;34m)\u001b[0m\u001b[0;34m\u001b[0m\u001b[0;34m\u001b[0m\u001b[0m\n",
      "\u001b[0;31mNameError\u001b[0m: name 'A1' is not defined"
     ]
    }
   ],
   "source": [
    "l1 = line(A1, A2)\n",
    "l1.equation()"
   ]
  },
  {
   "cell_type": "code",
   "execution_count": 23,
   "id": "b9b30bf8-ebbd-474d-9838-fd9a88282578",
   "metadata": {},
   "outputs": [
    {
     "data": {
      "image/png": "[encoded data removed]",
      "text/latex": [
       "$\\displaystyle \\left[ \\right]$"
      ],
      "text/plain": [
       "[]"
      ]
     },
     "execution_count": 23,
     "metadata": {},
     "output_type": "execute_result"
    }
   ],
   "source": [
    "sp.solve([eq1, eq2], y)"
   ]
  },
  {
   "cell_type": "code",
   "execution_count": null,
   "id": "0fe09118-00be-4071-9497-33183cde96dc",
   "metadata": {},
   "outputs": [],
   "source": [
    "sp.solve(line_b.equation(), eq)"
   ]
  },
  {
   "cell_type": "code",
   "execution_count": null,
   "id": "b1301f62-1ca7-4f2d-b847-3a9296e23dee",
   "metadata": {},
   "outputs": [],
   "source": [
    "line_b.intersection(sp.Line(sp.Eq(x + 0 * y - 5)))"
   ]
  },
  {
   "cell_type": "code",
   "execution_count": 15,
   "id": "14aa4e56-be76-4c8d-aa6d-03c3c2932832",
   "metadata": {},
   "outputs": [
    {
     "data": {
      "image/png": "[encoded data removed]",
      "text/latex": [
       "$\\displaystyle x = 5$"
      ],
      "text/plain": [
       "x = 5"
      ]
     },
     "execution_count": 15,
     "metadata": {},
     "output_type": "execute_result"
    }
   ],
   "source": [
    "sp.Eq(x, 5)"
   ]
  },
  {
   "cell_type": "code",
   "execution_count": null,
   "id": "d15a9ac8-7d48-4343-b45f-ce2d7b39535a",
   "metadata": {},
   "outputs": [],
   "source": [
    "cpu_count()"
   ]
  },
  {
   "cell_type": "code",
   "execution_count": 37,
   "id": "27cb80a4-c408-4834-82d3-9e89544cbb6e",
   "metadata": {},
   "outputs": [],
   "source": []
  },
  {
   "cell_type": "code",
   "execution_count": 2,
   "id": "5d9a556e-7c8b-4ff7-85e4-4b3918b63e82",
   "metadata": {},
   "outputs": [
    {
     "data": {
      "image/png": "[encoded data removed]",
      "text/latex": [
       "$\\displaystyle 2$"
      ],
      "text/plain": [
       "2"
      ]
     },
     "execution_count": 2,
     "metadata": {},
     "output_type": "execute_result"
    }
   ],
   "source": []
  },
  {
   "cell_type": "code",
   "execution_count": 4,
   "id": "a365608c-ffeb-413c-bbef-93ccd43d548a",
   "metadata": {},
   "outputs": [
    {
     "data": {
      "image/png": "[encoded data removed]",
      "text/latex": [
       "$\\displaystyle 4$"
      ],
      "text/plain": [
       "4"
      ]
     },
     "execution_count": 4,
     "metadata": {},
     "output_type": "execute_result"
    }
   ],
   "source": [
    "line_get_y(line_b, 3)"
   ]
  },
  {
   "cell_type": "code",
   "execution_count": null,
   "id": "e8c27c3d-4d17-480d-977b-a1f7a0160d2f",
   "metadata": {},
   "outputs": [],
   "source": []
  },
  {
   "cell_type": "code",
   "execution_count": null,
   "id": "12f206f5-f4f6-45d6-9176-bb654c7954a9",
   "metadata": {},
   "outputs": [],
   "source": []
  }
 ],
 "metadata": {
  "kernelspec": {
   "display_name": "Python 3 (ipykernel)",
   "language": "python",
   "name": "python3"
  },
  "language_info": {
   "codemirror_mode": {
    "name": "ipython",
    "version": 3
   },
   "file_extension": ".py",
   "mimetype": "text/x-python",
   "name": "python",
   "nbconvert_exporter": "python",
   "pygments_lexer": "ipython3",
   "version": "3.9.5"
  }
 },
 "nbformat": 4,
 "nbformat_minor": 5
}
