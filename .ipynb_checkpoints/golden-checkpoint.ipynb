{
 "cells": [
  {
   "cell_type": "markdown",
   "id": "99a5071c",
   "metadata": {},
   "source": [
    "# Golden Ratio in SymPy"
   ]
  },
  {
   "cell_type": "code",
   "execution_count": 1,
   "id": "1cfbea03",
   "metadata": {},
   "outputs": [],
   "source": [
    "import sympy as sp\n",
    "from sympy.abc import x, y, a, b ,c"
   ]
  },
  {
   "cell_type": "code",
   "execution_count": 2,
   "id": "daa0df21",
   "metadata": {},
   "outputs": [
    {
     "data": {
      "text/latex": [
       "$\\displaystyle \\phi^{2}$"
      ],
      "text/plain": [
       "GoldenRatio**2"
      ]
     },
     "execution_count": 2,
     "metadata": {},
     "output_type": "execute_result"
    }
   ],
   "source": [
    "Φ = sp.GoldenRatio\n",
    "# help(sp.GoldenRatio)\n",
    "Φ**2"
   ]
  },
  {
   "cell_type": "code",
   "execution_count": 3,
   "id": "7b24de5c",
   "metadata": {},
   "outputs": [
    {
     "data": {
      "text/latex": [
       "$\\displaystyle 0$"
      ],
      "text/plain": [
       "0"
      ]
     },
     "execution_count": 3,
     "metadata": {},
     "output_type": "execute_result"
    }
   ],
   "source": [
    "roots = sp.solve(x**2 - x - 1)\n",
    "(roots[1] - Φ).simplify()"
   ]
  },
  {
   "cell_type": "code",
   "execution_count": 4,
   "id": "328364c6",
   "metadata": {},
   "outputs": [
    {
     "data": {
      "text/latex": [
       "$\\displaystyle -0.618033988749895$"
      ],
      "text/plain": [
       "-0.618033988749895"
      ]
     },
     "execution_count": 4,
     "metadata": {},
     "output_type": "execute_result"
    }
   ],
   "source": [
    "roots[0].evalf()"
   ]
  },
  {
   "cell_type": "code",
   "execution_count": 5,
   "id": "47458296",
   "metadata": {},
   "outputs": [
    {
     "data": {
      "text/latex": [
       "$\\displaystyle 1.61803398874989$"
      ],
      "text/plain": [
       "1.61803398874989"
      ]
     },
     "execution_count": 5,
     "metadata": {},
     "output_type": "execute_result"
    }
   ],
   "source": [
    "roots[1].evalf()"
   ]
  },
  {
   "cell_type": "code",
   "execution_count": 6,
   "id": "1affba64",
   "metadata": {},
   "outputs": [
    {
     "data": {
      "text/latex": [
       "$\\displaystyle \\sqrt{5}$"
      ],
      "text/plain": [
       "sqrt(5)"
      ]
     },
     "execution_count": 6,
     "metadata": {},
     "output_type": "execute_result"
    }
   ],
   "source": [
    "roots[1] - roots[0]"
   ]
  },
  {
   "cell_type": "code",
   "execution_count": 7,
   "id": "dbd479f7",
   "metadata": {},
   "outputs": [
    {
     "data": {
      "text/latex": [
       "$\\displaystyle \\frac{1}{x} = \\frac{x}{x + 1}$"
      ],
      "text/plain": [
       "Eq(1/x, x/(x + 1))"
      ]
     },
     "execution_count": 7,
     "metadata": {},
     "output_type": "execute_result"
    }
   ],
   "source": [
    "eq = sp.Eq(1 / x, x / ( 1 + x ))\n",
    "eq"
   ]
  },
  {
   "cell_type": "code",
   "execution_count": 8,
   "id": "81040ba9",
   "metadata": {},
   "outputs": [
    {
     "data": {
      "text/plain": [
       "[1/2 - sqrt(5)/2, 1/2 + sqrt(5)/2]"
      ]
     },
     "execution_count": 8,
     "metadata": {},
     "output_type": "execute_result"
    }
   ],
   "source": [
    "sp.solve(eq)"
   ]
  },
  {
   "cell_type": "code",
   "execution_count": 9,
   "id": "66d04796",
   "metadata": {},
   "outputs": [
    {
     "data": {
      "text/latex": [
       "$\\displaystyle x = \\frac{x + 1}{x}$"
      ],
      "text/plain": [
       "Eq(x, (x + 1)/x)"
      ]
     },
     "execution_count": 9,
     "metadata": {},
     "output_type": "execute_result"
    }
   ],
   "source": [
    "eq = sp.Eq(x / 1, ( 1 + x ) / x)\n",
    "eq"
   ]
  },
  {
   "cell_type": "code",
   "execution_count": 10,
   "id": "f3bc91ba",
   "metadata": {},
   "outputs": [
    {
     "data": {
      "text/latex": [
       "$\\displaystyle x - \\frac{x + 1}{x}$"
      ],
      "text/plain": [
       "x - (x + 1)/x"
      ]
     },
     "execution_count": 10,
     "metadata": {},
     "output_type": "execute_result"
    }
   ],
   "source": [
    "eq2 = eq.lhs - (eq.rhs)\n",
    "eq2"
   ]
  },
  {
   "cell_type": "code",
   "execution_count": 11,
   "id": "3141e4fe",
   "metadata": {},
   "outputs": [
    {
     "data": {
      "text/latex": [
       "$\\displaystyle x^{2} - x - 1$"
      ],
      "text/plain": [
       "x**2 - x - 1"
      ]
     },
     "execution_count": 11,
     "metadata": {},
     "output_type": "execute_result"
    }
   ],
   "source": [
    "(eq2 * x).expand()"
   ]
  },
  {
   "cell_type": "code",
   "execution_count": 12,
   "id": "e5270163",
   "metadata": {},
   "outputs": [
    {
     "data": {
      "text/latex": [
       "$\\displaystyle x - 1 - \\frac{1}{x}$"
      ],
      "text/plain": [
       "x - 1 - 1/x"
      ]
     },
     "execution_count": 12,
     "metadata": {},
     "output_type": "execute_result"
    }
   ],
   "source": [
    "eq2.simplify()"
   ]
  },
  {
   "cell_type": "code",
   "execution_count": 13,
   "id": "5e729189",
   "metadata": {},
   "outputs": [
    {
     "data": {
      "text/latex": [
       "$\\displaystyle x - \\frac{x + 1}{x}$"
      ],
      "text/plain": [
       "x - (x + 1)/x"
      ]
     },
     "execution_count": 13,
     "metadata": {},
     "output_type": "execute_result"
    }
   ],
   "source": [
    "eq2.rewrite()"
   ]
  },
  {
   "cell_type": "code",
   "execution_count": 14,
   "id": "53018369",
   "metadata": {},
   "outputs": [
    {
     "data": {
      "text/latex": [
       "$\\displaystyle \\frac{a}{b} = \\frac{b}{c}$"
      ],
      "text/plain": [
       "Eq(a/b, b/c)"
      ]
     },
     "execution_count": 14,
     "metadata": {},
     "output_type": "execute_result"
    }
   ],
   "source": [
    "gmean = sp.Eq(a / b, b / c)\n",
    "gmean"
   ]
  },
  {
   "cell_type": "code",
   "execution_count": 15,
   "id": "21abd05f",
   "metadata": {},
   "outputs": [
    {
     "data": {
      "text/latex": [
       "$\\displaystyle \\frac{a}{b} = \\frac{b}{a + b}$"
      ],
      "text/plain": [
       "Eq(a/b, b/(a + b))"
      ]
     },
     "execution_count": 15,
     "metadata": {},
     "output_type": "execute_result"
    }
   ],
   "source": [
    "goldenmean = gmean.subs(c, a + b)\n",
    "goldenmean"
   ]
  },
  {
   "cell_type": "code",
   "execution_count": 16,
   "id": "b5aa976d",
   "metadata": {},
   "outputs": [
    {
     "data": {
      "text/plain": [
       "[{a: b*(-1 + sqrt(5))/2}, {a: -b*(1 + sqrt(5))/2}]"
      ]
     },
     "execution_count": 16,
     "metadata": {},
     "output_type": "execute_result"
    }
   ],
   "source": [
    "sp.solve(goldenmean)"
   ]
  },
  {
   "cell_type": "code",
   "execution_count": 18,
   "id": "dbb235c6",
   "metadata": {},
   "outputs": [
    {
     "data": {
      "text/latex": [
       "$\\displaystyle \\frac{1}{x} = \\frac{x}{x + 1}$"
      ],
      "text/plain": [
       "Eq(1/x, x/(x + 1))"
      ]
     },
     "execution_count": 18,
     "metadata": {},
     "output_type": "execute_result"
    }
   ],
   "source": [
    "g_eq = goldenmean.subs(a, 1).subs(b, x)\n",
    "g_eq"
   ]
  },
  {
   "cell_type": "code",
   "execution_count": 19,
   "id": "6f7dfc48",
   "metadata": {},
   "outputs": [
    {
     "data": {
      "text/latex": [
       "$\\displaystyle 1 = \\frac{x^{2}}{x + 1}$"
      ],
      "text/plain": [
       "Eq(1, x**2/(x + 1))"
      ]
     },
     "execution_count": 19,
     "metadata": {},
     "output_type": "execute_result"
    }
   ],
   "source": [
    "g2 = sp.Eq(g_eq.lhs * x, g_eq.rhs * x)\n",
    "g2"
   ]
  },
  {
   "cell_type": "code",
   "execution_count": 20,
   "id": "0ab58348",
   "metadata": {},
   "outputs": [
    {
     "data": {
      "text/latex": [
       "$\\displaystyle x^{2} = x + 1$"
      ],
      "text/plain": [
       "Eq(x**2, x + 1)"
      ]
     },
     "execution_count": 20,
     "metadata": {},
     "output_type": "execute_result"
    }
   ],
   "source": [
    "g3 = sp.Eq(g2.lhs * (x + 1), g2.rhs * (x + 1))\n",
    "g3.reversed"
   ]
  },
  {
   "cell_type": "code",
   "execution_count": 21,
   "id": "0dcbd7b6",
   "metadata": {},
   "outputs": [
    {
     "data": {
      "text/latex": [
       "$\\displaystyle x^{2} - x - 1$"
      ],
      "text/plain": [
       "x**2 - x - 1"
      ]
     },
     "execution_count": 21,
     "metadata": {},
     "output_type": "execute_result"
    }
   ],
   "source": [
    "g4 = g3.rhs - (g3.lhs)\n",
    "g4"
   ]
  },
  {
   "cell_type": "code",
   "execution_count": 22,
   "id": "d692bb01",
   "metadata": {},
   "outputs": [
    {
     "data": {
      "text/plain": [
       "[1/2 - sqrt(5)/2, 1/2 + sqrt(5)/2]"
      ]
     },
     "execution_count": 22,
     "metadata": {},
     "output_type": "execute_result"
    }
   ],
   "source": [
    "sp.solve(g4)"
   ]
  },
  {
   "cell_type": "code",
   "execution_count": 25,
   "id": "c80c7475",
   "metadata": {},
   "outputs": [
    {
     "data": {
      "text/latex": [
       "$\\displaystyle x = \\frac{1}{x + 1}$"
      ],
      "text/plain": [
       "Eq(x, 1/(x + 1))"
      ]
     },
     "execution_count": 25,
     "metadata": {},
     "output_type": "execute_result"
    }
   ],
   "source": [
    "g_eq = goldenmean.subs(a, 1).subs(b, x)\n",
    "g_eq\n",
    "goldenmean.subs([(a, x), (b, 1)])"
   ]
  },
  {
   "cell_type": "code",
   "execution_count": null,
   "id": "b9eb811d",
   "metadata": {},
   "outputs": [],
   "source": []
  }
 ],
 "metadata": {
  "kernelspec": {
   "display_name": "Python 3 (ipykernel)",
   "language": "python",
   "name": "python3"
  },
  "language_info": {
   "codemirror_mode": {
    "name": "ipython",
    "version": 3
   },
   "file_extension": ".py",
   "mimetype": "text/x-python",
   "name": "python",
   "nbconvert_exporter": "python",
   "pygments_lexer": "ipython3",
   "version": "3.9.7"
  }
 },
 "nbformat": 4,
 "nbformat_minor": 5
}
