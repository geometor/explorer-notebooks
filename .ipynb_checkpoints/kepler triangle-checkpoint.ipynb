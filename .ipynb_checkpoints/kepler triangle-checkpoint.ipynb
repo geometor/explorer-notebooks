{
 "cells": [
  {
   "cell_type": "code",
   "execution_count": null,
   "id": "9bf2f9d0-6eb2-4190-a4de-249cced9a20e",
   "metadata": {},
   "outputs": [
    {
     "name": "stderr",
     "output_type": "stream",
     "text": [
      "Process ForkPoolWorker-98:\n",
      "Process ForkPoolWorker-102:\n",
      "Process ForkPoolWorker-103:\n",
      "Process ForkPoolWorker-99:\n",
      "Process ForkPoolWorker-104:\n",
      "Process ForkPoolWorker-100:\n",
      "Process ForkPoolWorker-101:\n",
      "Process ForkPoolWorker-97:\n",
      "Traceback (most recent call last):\n",
      "Traceback (most recent call last):\n",
      "Traceback (most recent call last):\n",
      "Traceback (most recent call last):\n",
      "  File \"/home/phi/anaconda3/lib/python3.9/multiprocessing/process.py\", line 315, in _bootstrap\n",
      "    self.run()\n",
      "Traceback (most recent call last):\n",
      "Traceback (most recent call last):\n",
      "  File \"/home/phi/anaconda3/lib/python3.9/multiprocessing/process.py\", line 108, in run\n",
      "    self._target(*self._args, **self._kwargs)\n",
      "  File \"/home/phi/anaconda3/lib/python3.9/multiprocessing/process.py\", line 315, in _bootstrap\n",
      "    self.run()\n",
      "  File \"/home/phi/anaconda3/lib/python3.9/multiprocessing/process.py\", line 315, in _bootstrap\n",
      "    self.run()\n",
      "  File \"/home/phi/anaconda3/lib/python3.9/multiprocessing/process.py\", line 315, in _bootstrap\n",
      "    self.run()\n",
      "  File \"/home/phi/anaconda3/lib/python3.9/multiprocessing/process.py\", line 315, in _bootstrap\n",
      "    self.run()\n",
      "  File \"/home/phi/anaconda3/lib/python3.9/multiprocessing/process.py\", line 108, in run\n",
      "    self._target(*self._args, **self._kwargs)\n",
      "  File \"/home/phi/anaconda3/lib/python3.9/multiprocessing/process.py\", line 315, in _bootstrap\n",
      "    self.run()\n",
      "  File \"/home/phi/anaconda3/lib/python3.9/multiprocessing/process.py\", line 108, in run\n",
      "    self._target(*self._args, **self._kwargs)\n",
      "  File \"/home/phi/anaconda3/lib/python3.9/multiprocessing/process.py\", line 108, in run\n",
      "    self._target(*self._args, **self._kwargs)\n",
      "  File \"/home/phi/anaconda3/lib/python3.9/multiprocessing/pool.py\", line 114, in worker\n",
      "    task = get()\n",
      "  File \"/home/phi/anaconda3/lib/python3.9/multiprocessing/process.py\", line 108, in run\n",
      "    self._target(*self._args, **self._kwargs)\n",
      "  File \"/home/phi/anaconda3/lib/python3.9/multiprocessing/process.py\", line 108, in run\n",
      "    self._target(*self._args, **self._kwargs)\n",
      "  File \"/home/phi/anaconda3/lib/python3.9/multiprocessing/pool.py\", line 114, in worker\n",
      "    task = get()\n",
      "  File \"/home/phi/anaconda3/lib/python3.9/multiprocessing/pool.py\", line 114, in worker\n",
      "    task = get()\n",
      "  File \"/home/phi/anaconda3/lib/python3.9/multiprocessing/queues.py\", line 365, in get\n",
      "    with self._rlock:\n",
      "  File \"/home/phi/anaconda3/lib/python3.9/multiprocessing/queues.py\", line 365, in get\n",
      "    with self._rlock:\n",
      "  File \"/home/phi/anaconda3/lib/python3.9/multiprocessing/pool.py\", line 114, in worker\n",
      "    task = get()\n",
      "  File \"/home/phi/anaconda3/lib/python3.9/multiprocessing/synchronize.py\", line 95, in __enter__\n",
      "    return self._semlock.__enter__()\n",
      "  File \"/home/phi/anaconda3/lib/python3.9/multiprocessing/synchronize.py\", line 95, in __enter__\n",
      "    return self._semlock.__enter__()\n",
      "  File \"/home/phi/anaconda3/lib/python3.9/multiprocessing/queues.py\", line 365, in get\n",
      "    with self._rlock:\n",
      "KeyboardInterrupt\n",
      "  File \"/home/phi/anaconda3/lib/python3.9/multiprocessing/synchronize.py\", line 95, in __enter__\n",
      "    return self._semlock.__enter__()\n",
      "  File \"/home/phi/anaconda3/lib/python3.9/multiprocessing/connection.py\", line 221, in recv_bytes\n",
      "    buf = self._recv_bytes(maxlength)\n",
      "  File \"/home/phi/anaconda3/lib/python3.9/multiprocessing/queues.py\", line 366, in get\n",
      "    res = self._reader.recv_bytes()\n",
      "Traceback (most recent call last):\n",
      "  File \"/home/phi/anaconda3/lib/python3.9/multiprocessing/pool.py\", line 114, in worker\n",
      "    task = get()\n",
      "  File \"/home/phi/anaconda3/lib/python3.9/multiprocessing/connection.py\", line 419, in _recv_bytes\n",
      "    buf = self._recv(4)\n",
      "  File \"/home/phi/anaconda3/lib/python3.9/multiprocessing/queues.py\", line 365, in get\n",
      "    with self._rlock:\n",
      "KeyboardInterrupt\n",
      "  File \"/home/phi/anaconda3/lib/python3.9/multiprocessing/connection.py\", line 384, in _recv\n",
      "    chunk = read(handle, remaining)\n",
      "  File \"/home/phi/anaconda3/lib/python3.9/multiprocessing/synchronize.py\", line 95, in __enter__\n",
      "    return self._semlock.__enter__()\n",
      "KeyboardInterrupt\n",
      "KeyboardInterrupt\n"
     ]
    }
   ],
   "source": [
    "%run lib/setup7.py\n",
    "%matplotlib widget\n",
    "log_init('kepler')\n",
    "\n",
    "start_time = timer()\n",
    "\n",
    "pt_a = add_point(point(0, 0))\n",
    "pt_b = add_point(point(1, 0))\n",
    "pt_c = add_point(point(0, sp.sqrt(phi)))\n",
    "\n",
    "bisector(pt_a, pt_b)\n",
    "bisector(pt_a, pt_c)\n",
    "bisector(pt_b, pt_c)\n",
    "\n",
    "# circumcircle\n",
    "add_element(circle(pts[29], pt_a))\n",
    "\n",
    "print(f'Build: {elapsed(start_time)}')\n",
    "print()\n",
    "print(f'elements: {len(elements)}')\n",
    "print(f'  points: {len(pts)}')"
   ]
  },
  {
   "cell_type": "code",
   "execution_count": null,
   "id": "46cc889b",
   "metadata": {},
   "outputs": [],
   "source": [
    "start_time = timer()\n",
    "\n",
    "limx, limy = (-2, 4), (-2, 2)\n",
    "bounds = set_bounds(limx, limy)\n",
    "\n",
    "plt_init(limx, limy)\n",
    "\n",
    "plot_segment(pt_a, pt_b)\n",
    "plot_segment(pt_b, pt_c)\n",
    "plot_segment(pt_c, pt_a)\n",
    "\n",
    "plot_elements(elements, bounds)\n",
    "plot_points(pts)\n",
    "\n",
    "print(f'Render: {elapsed(start_time)}')"
   ]
  },
  {
   "cell_type": "code",
   "execution_count": null,
   "id": "1cc46fb5",
   "metadata": {},
   "outputs": [],
   "source": [
    "val = pts[24].y"
   ]
  },
  {
   "cell_type": "code",
   "execution_count": null,
   "id": "f2a4cd6c-ed22-4324-911f-ec7213e4d6f6",
   "metadata": {},
   "outputs": [],
   "source": [
    "val.simplify()"
   ]
  },
  {
   "cell_type": "code",
   "execution_count": null,
   "id": "26db90e2-9a8f-4cf4-a1c2-26ae1adcc843",
   "metadata": {},
   "outputs": [],
   "source": [
    "val.expand()"
   ]
  },
  {
   "cell_type": "code",
   "execution_count": null,
   "id": "8f19cd63-4861-4026-9550-6393f1d68792",
   "metadata": {},
   "outputs": [],
   "source": [
    "val.factor()"
   ]
  },
  {
   "cell_type": "code",
   "execution_count": null,
   "id": "efe016e6",
   "metadata": {},
   "outputs": [],
   "source": [
    "(pts[29].y.simplify() - (sp.sqrt(phi)/4)).simplify()"
   ]
  },
  {
   "cell_type": "code",
   "execution_count": null,
   "id": "c3ff11dd",
   "metadata": {},
   "outputs": [],
   "source": [
    "sqp = sp.sqrt(phi) \n",
    "sqp / 2"
   ]
  },
  {
   "cell_type": "code",
   "execution_count": null,
   "id": "fb986568",
   "metadata": {},
   "outputs": [],
   "source": [
    "(pts[29].y).evalf()"
   ]
  },
  {
   "cell_type": "code",
   "execution_count": null,
   "id": "0868c9cd",
   "metadata": {},
   "outputs": [],
   "source": [
    "(sqp / 2).evalf()"
   ]
  },
  {
   "cell_type": "code",
   "execution_count": null,
   "id": "98dca475",
   "metadata": {},
   "outputs": [],
   "source": [
    "for el in reversed(elements):\n",
    "    print(f'check {el}')\n",
    "    for check in elements:\n",
    "        diff = \n",
    "        print(\n",
    "        # if el.are_concurrent(check):\n",
    "        #     print(f' {el} & {check} are concurrent')\n"
   ]
  },
  {
   "cell_type": "code",
   "execution_count": null,
   "id": "14663f92-a6db-4c59-bb85-feaaf1e82998",
   "metadata": {},
   "outputs": [],
   "source": []
  }
 ],
 "metadata": {
  "kernelspec": {
   "display_name": "Python 3 (ipykernel)",
   "language": "python",
   "name": "python3"
  },
  "language_info": {
   "codemirror_mode": {
    "name": "ipython",
    "version": 3
   },
   "file_extension": ".py",
   "mimetype": "text/x-python",
   "name": "python",
   "nbconvert_exporter": "python",
   "pygments_lexer": "ipython3",
   "version": "3.9.7"
  },
  "toc-autonumbering": false,
  "toc-showcode": true,
  "toc-showmarkdowntxt": false,
  "toc-showtags": false
 },
 "nbformat": 4,
 "nbformat_minor": 5
}
