{
 "cells": [
  {
   "cell_type": "code",
   "execution_count": 4,
   "id": "36ba362f",
   "metadata": {},
   "outputs": [],
   "source": [
    "%run lib/setup6.py\n",
    "%matplotlib inline\n",
    "# %pdb\n",
    "log_init('root5')"
   ]
  },
  {
   "cell_type": "code",
   "execution_count": 5,
   "id": "448334e9",
   "metadata": {},
   "outputs": [
    {
     "name": "stdout",
     "output_type": "stream",
     "text": [
      "Build: 0:00:11.447191\n",
      "\n",
      "elements: 20\n",
      "  points: 196\n"
     ]
    }
   ],
   "source": [
    "start_time = timer()\n",
    "\n",
    "begin()\n",
    "\n",
    "bisector(pts[0], pts[1])\n",
    "bisector(pts[0], pts[3])\n",
    "bisector(pts[1], pts[2])\n",
    "\n",
    "# root5 diagonal\n",
    "add_element(line(pts[18], pts[31]))\n",
    "add_element(circle(pts[6], pts[0]))\n",
    "add_element(circle(pts[6], pts[18]))\n",
    "\n",
    "# outer goldens\n",
    "el = add_element(circle(pts[0], pts[50]))\n",
    "el = add_element(circle(pts[1], pts[49]))\n",
    "\n",
    "# inner goldens\n",
    "el = add_element(circle(pts[0], pts[49]))\n",
    "el = add_element(circle(pts[1], pts[50]))\n",
    "\n",
    "# star diagonals\n",
    "el = add_element(line(pts[0], pts[61]))\n",
    "el = add_element(line(pts[1], pts[77]))\n",
    "\n",
    "# top edge of pentagon\n",
    "el = add_element(circle(pts[61], pts[77]))\n",
    "\n",
    "print(f'Build: {elapsed(start_time)}')\n",
    "print()\n",
    "print(f'elements: {len(elements)}')\n",
    "print(f'  points: {len(pts)}')"
   ]
  },
  {
   "cell_type": "code",
   "execution_count": 6,
   "id": "46cc889b",
   "metadata": {},
   "outputs": [
    {
     "name": "stdout",
     "output_type": "stream",
     "text": [
      "Render: 2.051334458985366\n"
     ]
    }
   ],
   "source": [
    "start_time = timer()\n",
    "\n",
    "limx, limy = (-3.5, 3.5), (-2.5, 2.5)\n",
    "bounds = set_bounds(limx, limy)\n",
    "\n",
    "plt_init(limx, limy)\n",
    "\n",
    "sgs = []\n",
    "sgs.append(plot_segment(pts[18], pts[48]))\n",
    "sgs.append(plot_segment(pts[48], pts[47]))\n",
    "sgs.append(plot_segment(pts[47], pts[31]))\n",
    "\n",
    "sg = plot_segment(pts[61], pts[77])\n",
    "\n",
    "plot_elements(elements, bounds)\n",
    "plot_points(pts)\n",
    "\n",
    "print(f'Render: {timer() - start_time}')"
   ]
  },
  {
   "cell_type": "code",
   "execution_count": 4,
   "id": "19d4ba98",
   "metadata": {},
   "outputs": [
    {
     "data": {
      "image/png": "[encoded data removed]",
      "text/latex": [
       "$\\displaystyle 1.0$"
      ],
      "text/plain": [
       "1.00000000000000"
      ]
     },
     "execution_count": 4,
     "metadata": {},
     "output_type": "execute_result"
    }
   ],
   "source": [
    "(sg).evalf()"
   ]
  },
  {
   "cell_type": "code",
   "execution_count": 5,
   "id": "792830b7",
   "metadata": {},
   "outputs": [
    {
     "data": {
      "image/png": "[encoded data removed]",
      "text/latex": [
       "$\\displaystyle \\frac{1}{2} + \\frac{\\sqrt{5}}{2}$"
      ],
      "text/plain": [
       "1   √5\n",
       "─ + ──\n",
       "2   2 "
      ]
     },
     "execution_count": 5,
     "metadata": {},
     "output_type": "execute_result"
    }
   ],
   "source": [
    "phi"
   ]
  },
  {
   "cell_type": "code",
   "execution_count": 6,
   "id": "bbb66f8c",
   "metadata": {},
   "outputs": [
    {
     "data": {
      "image/png": "[encoded data removed]",
      "text/latex": [
       "$\\displaystyle \\frac{1}{\\sqrt{\\left(\\frac{1}{2} - \\frac{\\sqrt{5}}{10}\\right)^{2} + \\left(1 - \\frac{\\sqrt{5}}{5}\\right)^{2}}}$"
      ],
      "text/plain": [
       "             1              \n",
       "────────────────────────────\n",
       "     _______________________\n",
       "    ╱         2           2 \n",
       "   ╱  ⎛1   √5⎞    ⎛    √5⎞  \n",
       "  ╱   ⎜─ - ──⎟  + ⎜1 - ──⎟  \n",
       "╲╱    ⎝2   10⎠    ⎝    5 ⎠  "
      ]
     },
     "execution_count": 6,
     "metadata": {},
     "output_type": "execute_result"
    }
   ],
   "source": [
    "sg_ratio = (sgs[1] / sgs[0])\n",
    "sg_ratio"
   ]
  },
  {
   "cell_type": "code",
   "execution_count": 7,
   "id": "8c6734bf",
   "metadata": {},
   "outputs": [
    {
     "data": {
      "image/png": "[encoded data removed]",
      "text/latex": [
       "$\\displaystyle 0$"
      ],
      "text/plain": [
       "0"
      ]
     },
     "execution_count": 7,
     "metadata": {},
     "output_type": "execute_result"
    }
   ],
   "source": [
    "(sg_ratio - phi).simplify()"
   ]
  },
  {
   "cell_type": "code",
   "execution_count": 8,
   "id": "5c798a8f",
   "metadata": {},
   "outputs": [
    {
     "data": {
      "image/png": "[encoded data removed]",
      "text/latex": [
       "$\\displaystyle 1$"
      ],
      "text/plain": [
       "1"
      ]
     },
     "execution_count": 8,
     "metadata": {},
     "output_type": "execute_result"
    }
   ],
   "source": [
    "(sg_ratio / phi).simplify()"
   ]
  },
  {
   "cell_type": "code",
   "execution_count": 9,
   "id": "681f39c1",
   "metadata": {},
   "outputs": [
    {
     "data": {
      "image/png": "[encoded data removed]",
      "text/latex": [
       "$\\displaystyle 0$"
      ],
      "text/plain": [
       "0"
      ]
     },
     "execution_count": 9,
     "metadata": {},
     "output_type": "execute_result"
    }
   ],
   "source": [
    "(sg_ratio - phi).simplify()"
   ]
  },
  {
   "cell_type": "code",
   "execution_count": 10,
   "id": "f5d3b3c2",
   "metadata": {},
   "outputs": [
    {
     "data": {
      "image/png": "[encoded data removed]",
      "text/latex": [
       "$\\displaystyle 8$"
      ],
      "text/plain": [
       "8"
      ]
     },
     "execution_count": 10,
     "metadata": {},
     "output_type": "execute_result"
    }
   ],
   "source": [
    "cpu_count()"
   ]
  },
  {
   "cell_type": "code",
   "execution_count": null,
   "id": "ea4141d3",
   "metadata": {},
   "outputs": [],
   "source": []
  }
 ],
 "metadata": {
  "kernelspec": {
   "display_name": "Python 3 (ipykernel)",
   "language": "python",
   "name": "python3"
  },
  "language_info": {
   "codemirror_mode": {
    "name": "ipython",
    "version": 3
   },
   "file_extension": ".py",
   "mimetype": "text/x-python",
   "name": "python",
   "nbconvert_exporter": "python",
   "pygments_lexer": "ipython3",
   "version": "3.9.7"
  }
 },
 "nbformat": 4,
 "nbformat_minor": 5
}
