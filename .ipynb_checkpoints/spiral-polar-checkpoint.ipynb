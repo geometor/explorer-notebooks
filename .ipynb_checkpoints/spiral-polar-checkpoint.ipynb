{
 "cells": [
  {
   "cell_type": "code",
   "execution_count": 2,
   "id": "5bd4c079-f7ee-41de-8bdc-513fc6946566",
   "metadata": {},
   "outputs": [
    {
     "name": "stderr",
     "output_type": "stream",
     "text": [
      "Matplotlib is building the font cache; this may take a moment.\n"
     ]
    },
    {
     "data": {
      "application/vnd.jupyter.widget-view+json": {
       "model_id": "fd9bb10813dd41baafe9459833dbafc9",
       "version_major": 2,
       "version_minor": 0
      },
      "image/png": "[encoded data removed]",
      "text/html": [
       "\n",
       "            <div style=\"display: inline-block;\">\n",
       "                <div class=\"jupyter-widgets widget-label\" style=\"text-align: center;\">\n",
       "                    Figure\n",
       "                </div>\n",
       "                <img src='data:image/png;base64,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' width=640.0/>\n",
       "            </div>\n",
       "        "
      ],
      "text/plain": [
       "Canvas(toolbar=Toolbar(toolitems=[('Home', 'Reset original view', 'home', 'home'), ('Back', 'Back to previous …"
      ]
     },
     "metadata": {},
     "output_type": "display_data"
    }
   ],
   "source": [
    "%run run.py\n",
    "%matplotlib widget\n",
    "log_init('spiral-3')\n",
    "\n",
    "plt_init_polar()\n",
    "\n",
    "radii = np.arange(0, 500, phi)\n",
    "theta = 2 * np.pi * radii\n",
    "\n",
    "fig, ax = plt.subplots(subplot_kw={'projection': 'polar'})\n",
    "ax.set_title('G E O M E T O R', fontdict={'color': '#960', 'size':'small'})\n",
    "ax.set_axis_off()\n",
    "\n",
    "def spiral(n=144, cmap=mp.cm.YlGn, color_cycle=21, rev=False, offset=0):\n",
    "    for i in range(1,n):\n",
    "        # radius = i * phi\n",
    "        # last point should be at center\n",
    "        radius = n - i - 1\n",
    "        theta = 2 * np.pi * i * phi\n",
    "        color_scale = (((i + offset) % color_cycle) / color_cycle)\n",
    "        color_scale = color_scale + (1 / (color_cycle * 2))\n",
    "        if rev:\n",
    "            color_scale = 1 - color_scale\n",
    "        color = cmap(color_scale)\n",
    "        ax.plot(theta, radius, marker='.', markersize=math.sqrt(radius)+4, color=color)\n",
    "\n",
    "spiral(n=21, cmap=mp.cm.hot, color_cycle=5)"
   ]
  },
  {
   "cell_type": "code",
   "execution_count": 31,
   "id": "3b2ef341-7c6f-4e2e-8612-92b2a129fb0b",
   "metadata": {
    "collapsed": true,
    "jupyter": {
     "outputs_hidden": true
    },
    "tags": []
   },
   "outputs": [
    {
     "ename": "KeyboardInterrupt",
     "evalue": "",
     "output_type": "error",
     "traceback": [
      "\u001b[0;31m---------------------------------------------------------------------------\u001b[0m",
      "\u001b[0;31mKeyboardInterrupt\u001b[0m                         Traceback (most recent call last)",
      "\u001b[0;32m/tmp/ipykernel_7279/2549031622.py\u001b[0m in \u001b[0;36m<module>\u001b[0;34m\u001b[0m\n\u001b[1;32m     22\u001b[0m \u001b[0;34m\u001b[0m\u001b[0m\n\u001b[1;32m     23\u001b[0m     \u001b[0mspiral\u001b[0m\u001b[0;34m(\u001b[0m\u001b[0mn\u001b[0m\u001b[0;34m,\u001b[0m \u001b[0mcmap\u001b[0m\u001b[0;34m=\u001b[0m\u001b[0mcmap\u001b[0m\u001b[0;34m,\u001b[0m \u001b[0mcolor_cycle\u001b[0m\u001b[0;34m=\u001b[0m\u001b[0mcycles\u001b[0m\u001b[0;34m)\u001b[0m\u001b[0;34m\u001b[0m\u001b[0;34m\u001b[0m\u001b[0m\n\u001b[0;32m---> 24\u001b[0;31m     \u001b[0mplt\u001b[0m\u001b[0;34m.\u001b[0m\u001b[0msavefig\u001b[0m\u001b[0;34m(\u001b[0m\u001b[0;34mf'{out}/{cmap_name}-{cycles_pad}-{n_pad}.png'\u001b[0m\u001b[0;34m,\u001b[0m \u001b[0mdpi\u001b[0m\u001b[0;34m=\u001b[0m\u001b[0;36m300\u001b[0m\u001b[0;34m)\u001b[0m\u001b[0;34m\u001b[0m\u001b[0;34m\u001b[0m\u001b[0m\n\u001b[0m",
      "\u001b[0;32m/usr/lib/python3/dist-packages/matplotlib/pyplot.py\u001b[0m in \u001b[0;36msavefig\u001b[0;34m(*args, **kwargs)\u001b[0m\n\u001b[1;32m    857\u001b[0m \u001b[0;32mdef\u001b[0m \u001b[0msavefig\u001b[0m\u001b[0;34m(\u001b[0m\u001b[0;34m*\u001b[0m\u001b[0margs\u001b[0m\u001b[0;34m,\u001b[0m \u001b[0;34m**\u001b[0m\u001b[0mkwargs\u001b[0m\u001b[0;34m)\u001b[0m\u001b[0;34m:\u001b[0m\u001b[0;34m\u001b[0m\u001b[0;34m\u001b[0m\u001b[0m\n\u001b[1;32m    858\u001b[0m     \u001b[0mfig\u001b[0m \u001b[0;34m=\u001b[0m \u001b[0mgcf\u001b[0m\u001b[0;34m(\u001b[0m\u001b[0;34m)\u001b[0m\u001b[0;34m\u001b[0m\u001b[0;34m\u001b[0m\u001b[0m\n\u001b[0;32m--> 859\u001b[0;31m     \u001b[0mres\u001b[0m \u001b[0;34m=\u001b[0m \u001b[0mfig\u001b[0m\u001b[0;34m.\u001b[0m\u001b[0msavefig\u001b[0m\u001b[0;34m(\u001b[0m\u001b[0;34m*\u001b[0m\u001b[0margs\u001b[0m\u001b[0;34m,\u001b[0m \u001b[0;34m**\u001b[0m\u001b[0mkwargs\u001b[0m\u001b[0;34m)\u001b[0m\u001b[0;34m\u001b[0m\u001b[0;34m\u001b[0m\u001b[0m\n\u001b[0m\u001b[1;32m    860\u001b[0m     \u001b[0mfig\u001b[0m\u001b[0;34m.\u001b[0m\u001b[0mcanvas\u001b[0m\u001b[0;34m.\u001b[0m\u001b[0mdraw_idle\u001b[0m\u001b[0;34m(\u001b[0m\u001b[0;34m)\u001b[0m   \u001b[0;31m# need this if 'transparent=True' to reset colors\u001b[0m\u001b[0;34m\u001b[0m\u001b[0;34m\u001b[0m\u001b[0m\n\u001b[1;32m    861\u001b[0m     \u001b[0;32mreturn\u001b[0m \u001b[0mres\u001b[0m\u001b[0;34m\u001b[0m\u001b[0;34m\u001b[0m\u001b[0m\n",
      "\u001b[0;32m/usr/lib/python3/dist-packages/matplotlib/figure.py\u001b[0m in \u001b[0;36msavefig\u001b[0;34m(self, fname, transparent, **kwargs)\u001b[0m\n\u001b[1;32m   2309\u001b[0m                 \u001b[0mpatch\u001b[0m\u001b[0;34m.\u001b[0m\u001b[0mset_edgecolor\u001b[0m\u001b[0;34m(\u001b[0m\u001b[0;34m'none'\u001b[0m\u001b[0;34m)\u001b[0m\u001b[0;34m\u001b[0m\u001b[0;34m\u001b[0m\u001b[0m\n\u001b[1;32m   2310\u001b[0m \u001b[0;34m\u001b[0m\u001b[0m\n\u001b[0;32m-> 2311\u001b[0;31m         \u001b[0mself\u001b[0m\u001b[0;34m.\u001b[0m\u001b[0mcanvas\u001b[0m\u001b[0;34m.\u001b[0m\u001b[0mprint_figure\u001b[0m\u001b[0;34m(\u001b[0m\u001b[0mfname\u001b[0m\u001b[0;34m,\u001b[0m \u001b[0;34m**\u001b[0m\u001b[0mkwargs\u001b[0m\u001b[0;34m)\u001b[0m\u001b[0;34m\u001b[0m\u001b[0;34m\u001b[0m\u001b[0m\n\u001b[0m\u001b[1;32m   2312\u001b[0m \u001b[0;34m\u001b[0m\u001b[0m\n\u001b[1;32m   2313\u001b[0m         \u001b[0;32mif\u001b[0m \u001b[0mtransparent\u001b[0m\u001b[0;34m:\u001b[0m\u001b[0;34m\u001b[0m\u001b[0;34m\u001b[0m\u001b[0m\n",
      "\u001b[0;32m/usr/lib/python3/dist-packages/matplotlib/backend_bases.py\u001b[0m in \u001b[0;36mprint_figure\u001b[0;34m(self, filename, dpi, facecolor, edgecolor, orientation, format, bbox_inches, pad_inches, bbox_extra_artists, backend, **kwargs)\u001b[0m\n\u001b[1;32m   2208\u001b[0m \u001b[0;34m\u001b[0m\u001b[0m\n\u001b[1;32m   2209\u001b[0m             \u001b[0;32mtry\u001b[0m\u001b[0;34m:\u001b[0m\u001b[0;34m\u001b[0m\u001b[0;34m\u001b[0m\u001b[0m\n\u001b[0;32m-> 2210\u001b[0;31m                 result = print_method(\n\u001b[0m\u001b[1;32m   2211\u001b[0m                     \u001b[0mfilename\u001b[0m\u001b[0;34m,\u001b[0m\u001b[0;34m\u001b[0m\u001b[0;34m\u001b[0m\u001b[0m\n\u001b[1;32m   2212\u001b[0m                     \u001b[0mdpi\u001b[0m\u001b[0;34m=\u001b[0m\u001b[0mdpi\u001b[0m\u001b[0;34m,\u001b[0m\u001b[0;34m\u001b[0m\u001b[0;34m\u001b[0m\u001b[0m\n",
      "\u001b[0;32m/usr/lib/python3/dist-packages/matplotlib/backend_bases.py\u001b[0m in \u001b[0;36mwrapper\u001b[0;34m(*args, **kwargs)\u001b[0m\n\u001b[1;32m   1637\u001b[0m             \u001b[0mkwargs\u001b[0m\u001b[0;34m.\u001b[0m\u001b[0mpop\u001b[0m\u001b[0;34m(\u001b[0m\u001b[0marg\u001b[0m\u001b[0;34m)\u001b[0m\u001b[0;34m\u001b[0m\u001b[0;34m\u001b[0m\u001b[0m\n\u001b[1;32m   1638\u001b[0m \u001b[0;34m\u001b[0m\u001b[0m\n\u001b[0;32m-> 1639\u001b[0;31m         \u001b[0;32mreturn\u001b[0m \u001b[0mfunc\u001b[0m\u001b[0;34m(\u001b[0m\u001b[0;34m*\u001b[0m\u001b[0margs\u001b[0m\u001b[0;34m,\u001b[0m \u001b[0;34m**\u001b[0m\u001b[0mkwargs\u001b[0m\u001b[0;34m)\u001b[0m\u001b[0;34m\u001b[0m\u001b[0;34m\u001b[0m\u001b[0m\n\u001b[0m\u001b[1;32m   1640\u001b[0m \u001b[0;34m\u001b[0m\u001b[0m\n\u001b[1;32m   1641\u001b[0m     \u001b[0;32mreturn\u001b[0m \u001b[0mwrapper\u001b[0m\u001b[0;34m\u001b[0m\u001b[0;34m\u001b[0m\u001b[0m\n",
      "\u001b[0;32m/usr/lib/python3/dist-packages/matplotlib/backends/backend_agg.py\u001b[0m in \u001b[0;36mprint_png\u001b[0;34m(self, filename_or_obj, metadata, pil_kwargs, *args)\u001b[0m\n\u001b[1;32m    507\u001b[0m             \u001b[0;34m*\u001b[0m\u001b[0mmetadata\u001b[0m\u001b[0;34m*\u001b[0m\u001b[0;34m,\u001b[0m \u001b[0mincluding\u001b[0m \u001b[0mthe\u001b[0m \u001b[0mdefault\u001b[0m \u001b[0;34m'Software'\u001b[0m \u001b[0mkey\u001b[0m\u001b[0;34m.\u001b[0m\u001b[0;34m\u001b[0m\u001b[0;34m\u001b[0m\u001b[0m\n\u001b[1;32m    508\u001b[0m         \"\"\"\n\u001b[0;32m--> 509\u001b[0;31m         \u001b[0mFigureCanvasAgg\u001b[0m\u001b[0;34m.\u001b[0m\u001b[0mdraw\u001b[0m\u001b[0;34m(\u001b[0m\u001b[0mself\u001b[0m\u001b[0;34m)\u001b[0m\u001b[0;34m\u001b[0m\u001b[0;34m\u001b[0m\u001b[0m\n\u001b[0m\u001b[1;32m    510\u001b[0m         mpl.image.imsave(\n\u001b[1;32m    511\u001b[0m             \u001b[0mfilename_or_obj\u001b[0m\u001b[0;34m,\u001b[0m \u001b[0mself\u001b[0m\u001b[0;34m.\u001b[0m\u001b[0mbuffer_rgba\u001b[0m\u001b[0;34m(\u001b[0m\u001b[0;34m)\u001b[0m\u001b[0;34m,\u001b[0m \u001b[0mformat\u001b[0m\u001b[0;34m=\u001b[0m\u001b[0;34m\"png\"\u001b[0m\u001b[0;34m,\u001b[0m \u001b[0morigin\u001b[0m\u001b[0;34m=\u001b[0m\u001b[0;34m\"upper\"\u001b[0m\u001b[0;34m,\u001b[0m\u001b[0;34m\u001b[0m\u001b[0;34m\u001b[0m\u001b[0m\n",
      "\u001b[0;32m/usr/lib/python3/dist-packages/matplotlib/backends/backend_agg.py\u001b[0m in \u001b[0;36mdraw\u001b[0;34m(self)\u001b[0m\n\u001b[1;32m    405\u001b[0m              (self.toolbar._wait_cursor_for_draw_cm() if self.toolbar\n\u001b[1;32m    406\u001b[0m               else nullcontext()):\n\u001b[0;32m--> 407\u001b[0;31m             \u001b[0mself\u001b[0m\u001b[0;34m.\u001b[0m\u001b[0mfigure\u001b[0m\u001b[0;34m.\u001b[0m\u001b[0mdraw\u001b[0m\u001b[0;34m(\u001b[0m\u001b[0mself\u001b[0m\u001b[0;34m.\u001b[0m\u001b[0mrenderer\u001b[0m\u001b[0;34m)\u001b[0m\u001b[0;34m\u001b[0m\u001b[0;34m\u001b[0m\u001b[0m\n\u001b[0m\u001b[1;32m    408\u001b[0m             \u001b[0;31m# A GUI class may be need to update a window using this draw, so\u001b[0m\u001b[0;34m\u001b[0m\u001b[0;34m\u001b[0m\u001b[0;34m\u001b[0m\u001b[0m\n\u001b[1;32m    409\u001b[0m             \u001b[0;31m# don't forget to call the superclass.\u001b[0m\u001b[0;34m\u001b[0m\u001b[0;34m\u001b[0m\u001b[0;34m\u001b[0m\u001b[0m\n",
      "\u001b[0;32m/usr/lib/python3/dist-packages/matplotlib/artist.py\u001b[0m in \u001b[0;36mdraw_wrapper\u001b[0;34m(artist, renderer, *args, **kwargs)\u001b[0m\n\u001b[1;32m     39\u001b[0m                 \u001b[0mrenderer\u001b[0m\u001b[0;34m.\u001b[0m\u001b[0mstart_filter\u001b[0m\u001b[0;34m(\u001b[0m\u001b[0;34m)\u001b[0m\u001b[0;34m\u001b[0m\u001b[0;34m\u001b[0m\u001b[0m\n\u001b[1;32m     40\u001b[0m \u001b[0;34m\u001b[0m\u001b[0m\n\u001b[0;32m---> 41\u001b[0;31m             \u001b[0;32mreturn\u001b[0m \u001b[0mdraw\u001b[0m\u001b[0;34m(\u001b[0m\u001b[0martist\u001b[0m\u001b[0;34m,\u001b[0m \u001b[0mrenderer\u001b[0m\u001b[0;34m,\u001b[0m \u001b[0;34m*\u001b[0m\u001b[0margs\u001b[0m\u001b[0;34m,\u001b[0m \u001b[0;34m**\u001b[0m\u001b[0mkwargs\u001b[0m\u001b[0;34m)\u001b[0m\u001b[0;34m\u001b[0m\u001b[0;34m\u001b[0m\u001b[0m\n\u001b[0m\u001b[1;32m     42\u001b[0m         \u001b[0;32mfinally\u001b[0m\u001b[0;34m:\u001b[0m\u001b[0;34m\u001b[0m\u001b[0;34m\u001b[0m\u001b[0m\n\u001b[1;32m     43\u001b[0m             \u001b[0;32mif\u001b[0m \u001b[0martist\u001b[0m\u001b[0;34m.\u001b[0m\u001b[0mget_agg_filter\u001b[0m\u001b[0;34m(\u001b[0m\u001b[0;34m)\u001b[0m \u001b[0;32mis\u001b[0m \u001b[0;32mnot\u001b[0m \u001b[0;32mNone\u001b[0m\u001b[0;34m:\u001b[0m\u001b[0;34m\u001b[0m\u001b[0;34m\u001b[0m\u001b[0m\n",
      "\u001b[0;32m/usr/lib/python3/dist-packages/matplotlib/figure.py\u001b[0m in \u001b[0;36mdraw\u001b[0;34m(self, renderer)\u001b[0m\n\u001b[1;32m   1861\u001b[0m \u001b[0;34m\u001b[0m\u001b[0m\n\u001b[1;32m   1862\u001b[0m             \u001b[0mself\u001b[0m\u001b[0;34m.\u001b[0m\u001b[0mpatch\u001b[0m\u001b[0;34m.\u001b[0m\u001b[0mdraw\u001b[0m\u001b[0;34m(\u001b[0m\u001b[0mrenderer\u001b[0m\u001b[0;34m)\u001b[0m\u001b[0;34m\u001b[0m\u001b[0;34m\u001b[0m\u001b[0m\n\u001b[0;32m-> 1863\u001b[0;31m             mimage._draw_list_compositing_images(\n\u001b[0m\u001b[1;32m   1864\u001b[0m                 renderer, self, artists, self.suppressComposite)\n\u001b[1;32m   1865\u001b[0m \u001b[0;34m\u001b[0m\u001b[0m\n",
      "\u001b[0;32m/usr/lib/python3/dist-packages/matplotlib/image.py\u001b[0m in \u001b[0;36m_draw_list_compositing_images\u001b[0;34m(renderer, parent, artists, suppress_composite)\u001b[0m\n\u001b[1;32m    129\u001b[0m     \u001b[0;32mif\u001b[0m \u001b[0mnot_composite\u001b[0m \u001b[0;32mor\u001b[0m \u001b[0;32mnot\u001b[0m \u001b[0mhas_images\u001b[0m\u001b[0;34m:\u001b[0m\u001b[0;34m\u001b[0m\u001b[0;34m\u001b[0m\u001b[0m\n\u001b[1;32m    130\u001b[0m         \u001b[0;32mfor\u001b[0m \u001b[0ma\u001b[0m \u001b[0;32min\u001b[0m \u001b[0martists\u001b[0m\u001b[0;34m:\u001b[0m\u001b[0;34m\u001b[0m\u001b[0;34m\u001b[0m\u001b[0m\n\u001b[0;32m--> 131\u001b[0;31m             \u001b[0ma\u001b[0m\u001b[0;34m.\u001b[0m\u001b[0mdraw\u001b[0m\u001b[0;34m(\u001b[0m\u001b[0mrenderer\u001b[0m\u001b[0;34m)\u001b[0m\u001b[0;34m\u001b[0m\u001b[0;34m\u001b[0m\u001b[0m\n\u001b[0m\u001b[1;32m    132\u001b[0m     \u001b[0;32melse\u001b[0m\u001b[0;34m:\u001b[0m\u001b[0;34m\u001b[0m\u001b[0;34m\u001b[0m\u001b[0m\n\u001b[1;32m    133\u001b[0m         \u001b[0;31m# Composite any adjacent images together\u001b[0m\u001b[0;34m\u001b[0m\u001b[0;34m\u001b[0m\u001b[0;34m\u001b[0m\u001b[0m\n",
      "\u001b[0;32m/usr/lib/python3/dist-packages/matplotlib/cbook/deprecation.py\u001b[0m in \u001b[0;36mwrapper\u001b[0;34m(*inner_args, **inner_kwargs)\u001b[0m\n\u001b[1;32m    409\u001b[0m                          \u001b[0;32melse\u001b[0m \u001b[0mdeprecation_addendum\u001b[0m\u001b[0;34m,\u001b[0m\u001b[0;34m\u001b[0m\u001b[0;34m\u001b[0m\u001b[0m\n\u001b[1;32m    410\u001b[0m                 **kwargs)\n\u001b[0;32m--> 411\u001b[0;31m         \u001b[0;32mreturn\u001b[0m \u001b[0mfunc\u001b[0m\u001b[0;34m(\u001b[0m\u001b[0;34m*\u001b[0m\u001b[0minner_args\u001b[0m\u001b[0;34m,\u001b[0m \u001b[0;34m**\u001b[0m\u001b[0minner_kwargs\u001b[0m\u001b[0;34m)\u001b[0m\u001b[0;34m\u001b[0m\u001b[0;34m\u001b[0m\u001b[0m\n\u001b[0m\u001b[1;32m    412\u001b[0m \u001b[0;34m\u001b[0m\u001b[0m\n\u001b[1;32m    413\u001b[0m     \u001b[0;32mreturn\u001b[0m \u001b[0mwrapper\u001b[0m\u001b[0;34m\u001b[0m\u001b[0;34m\u001b[0m\u001b[0m\n",
      "\u001b[0;32m/usr/lib/python3/dist-packages/matplotlib/cbook/deprecation.py\u001b[0m in \u001b[0;36mwrapper\u001b[0;34m(*inner_args, **inner_kwargs)\u001b[0m\n\u001b[1;32m    409\u001b[0m                          \u001b[0;32melse\u001b[0m \u001b[0mdeprecation_addendum\u001b[0m\u001b[0;34m,\u001b[0m\u001b[0;34m\u001b[0m\u001b[0;34m\u001b[0m\u001b[0m\n\u001b[1;32m    410\u001b[0m                 **kwargs)\n\u001b[0;32m--> 411\u001b[0;31m         \u001b[0;32mreturn\u001b[0m \u001b[0mfunc\u001b[0m\u001b[0;34m(\u001b[0m\u001b[0;34m*\u001b[0m\u001b[0minner_args\u001b[0m\u001b[0;34m,\u001b[0m \u001b[0;34m**\u001b[0m\u001b[0minner_kwargs\u001b[0m\u001b[0;34m)\u001b[0m\u001b[0;34m\u001b[0m\u001b[0;34m\u001b[0m\u001b[0m\n\u001b[0m\u001b[1;32m    412\u001b[0m \u001b[0;34m\u001b[0m\u001b[0m\n\u001b[1;32m    413\u001b[0m     \u001b[0;32mreturn\u001b[0m \u001b[0mwrapper\u001b[0m\u001b[0;34m\u001b[0m\u001b[0;34m\u001b[0m\u001b[0m\n",
      "\u001b[0;32m/usr/lib/python3/dist-packages/matplotlib/projections/polar.py\u001b[0m in \u001b[0;36mdraw\u001b[0;34m(self, renderer, *args, **kwargs)\u001b[0m\n\u001b[1;32m    993\u001b[0m             \u001b[0mself\u001b[0m\u001b[0;34m.\u001b[0m\u001b[0myaxis\u001b[0m\u001b[0;34m.\u001b[0m\u001b[0mset_clip_path\u001b[0m\u001b[0;34m(\u001b[0m\u001b[0mself\u001b[0m\u001b[0;34m.\u001b[0m\u001b[0mpatch\u001b[0m\u001b[0;34m)\u001b[0m\u001b[0;34m\u001b[0m\u001b[0;34m\u001b[0m\u001b[0m\n\u001b[1;32m    994\u001b[0m \u001b[0;34m\u001b[0m\u001b[0m\n\u001b[0;32m--> 995\u001b[0;31m         \u001b[0mAxes\u001b[0m\u001b[0;34m.\u001b[0m\u001b[0mdraw\u001b[0m\u001b[0;34m(\u001b[0m\u001b[0mself\u001b[0m\u001b[0;34m,\u001b[0m \u001b[0mrenderer\u001b[0m\u001b[0;34m,\u001b[0m \u001b[0;34m*\u001b[0m\u001b[0margs\u001b[0m\u001b[0;34m,\u001b[0m \u001b[0;34m**\u001b[0m\u001b[0mkwargs\u001b[0m\u001b[0;34m)\u001b[0m\u001b[0;34m\u001b[0m\u001b[0;34m\u001b[0m\u001b[0m\n\u001b[0m\u001b[1;32m    996\u001b[0m \u001b[0;34m\u001b[0m\u001b[0m\n\u001b[1;32m    997\u001b[0m     \u001b[0;32mdef\u001b[0m \u001b[0m_gen_axes_patch\u001b[0m\u001b[0;34m(\u001b[0m\u001b[0mself\u001b[0m\u001b[0;34m)\u001b[0m\u001b[0;34m:\u001b[0m\u001b[0;34m\u001b[0m\u001b[0;34m\u001b[0m\u001b[0m\n",
      "\u001b[0;32m/usr/lib/python3/dist-packages/matplotlib/artist.py\u001b[0m in \u001b[0;36mdraw_wrapper\u001b[0;34m(artist, renderer, *args, **kwargs)\u001b[0m\n\u001b[1;32m     39\u001b[0m                 \u001b[0mrenderer\u001b[0m\u001b[0;34m.\u001b[0m\u001b[0mstart_filter\u001b[0m\u001b[0;34m(\u001b[0m\u001b[0;34m)\u001b[0m\u001b[0;34m\u001b[0m\u001b[0;34m\u001b[0m\u001b[0m\n\u001b[1;32m     40\u001b[0m \u001b[0;34m\u001b[0m\u001b[0m\n\u001b[0;32m---> 41\u001b[0;31m             \u001b[0;32mreturn\u001b[0m \u001b[0mdraw\u001b[0m\u001b[0;34m(\u001b[0m\u001b[0martist\u001b[0m\u001b[0;34m,\u001b[0m \u001b[0mrenderer\u001b[0m\u001b[0;34m,\u001b[0m \u001b[0;34m*\u001b[0m\u001b[0margs\u001b[0m\u001b[0;34m,\u001b[0m \u001b[0;34m**\u001b[0m\u001b[0mkwargs\u001b[0m\u001b[0;34m)\u001b[0m\u001b[0;34m\u001b[0m\u001b[0;34m\u001b[0m\u001b[0m\n\u001b[0m\u001b[1;32m     42\u001b[0m         \u001b[0;32mfinally\u001b[0m\u001b[0;34m:\u001b[0m\u001b[0;34m\u001b[0m\u001b[0;34m\u001b[0m\u001b[0m\n\u001b[1;32m     43\u001b[0m             \u001b[0;32mif\u001b[0m \u001b[0martist\u001b[0m\u001b[0;34m.\u001b[0m\u001b[0mget_agg_filter\u001b[0m\u001b[0;34m(\u001b[0m\u001b[0;34m)\u001b[0m \u001b[0;32mis\u001b[0m \u001b[0;32mnot\u001b[0m \u001b[0;32mNone\u001b[0m\u001b[0;34m:\u001b[0m\u001b[0;34m\u001b[0m\u001b[0;34m\u001b[0m\u001b[0m\n",
      "\u001b[0;32m/usr/lib/python3/dist-packages/matplotlib/cbook/deprecation.py\u001b[0m in \u001b[0;36mwrapper\u001b[0;34m(*inner_args, **inner_kwargs)\u001b[0m\n\u001b[1;32m    409\u001b[0m                          \u001b[0;32melse\u001b[0m \u001b[0mdeprecation_addendum\u001b[0m\u001b[0;34m,\u001b[0m\u001b[0;34m\u001b[0m\u001b[0;34m\u001b[0m\u001b[0m\n\u001b[1;32m    410\u001b[0m                 **kwargs)\n\u001b[0;32m--> 411\u001b[0;31m         \u001b[0;32mreturn\u001b[0m \u001b[0mfunc\u001b[0m\u001b[0;34m(\u001b[0m\u001b[0;34m*\u001b[0m\u001b[0minner_args\u001b[0m\u001b[0;34m,\u001b[0m \u001b[0;34m**\u001b[0m\u001b[0minner_kwargs\u001b[0m\u001b[0;34m)\u001b[0m\u001b[0;34m\u001b[0m\u001b[0;34m\u001b[0m\u001b[0m\n\u001b[0m\u001b[1;32m    412\u001b[0m \u001b[0;34m\u001b[0m\u001b[0m\n\u001b[1;32m    413\u001b[0m     \u001b[0;32mreturn\u001b[0m \u001b[0mwrapper\u001b[0m\u001b[0;34m\u001b[0m\u001b[0;34m\u001b[0m\u001b[0m\n",
      "\u001b[0;32m/usr/lib/python3/dist-packages/matplotlib/axes/_base.py\u001b[0m in \u001b[0;36mdraw\u001b[0;34m(self, renderer, inframe)\u001b[0m\n\u001b[1;32m   2745\u001b[0m             \u001b[0mrenderer\u001b[0m\u001b[0;34m.\u001b[0m\u001b[0mstop_rasterizing\u001b[0m\u001b[0;34m(\u001b[0m\u001b[0;34m)\u001b[0m\u001b[0;34m\u001b[0m\u001b[0;34m\u001b[0m\u001b[0m\n\u001b[1;32m   2746\u001b[0m \u001b[0;34m\u001b[0m\u001b[0m\n\u001b[0;32m-> 2747\u001b[0;31m         \u001b[0mmimage\u001b[0m\u001b[0;34m.\u001b[0m\u001b[0m_draw_list_compositing_images\u001b[0m\u001b[0;34m(\u001b[0m\u001b[0mrenderer\u001b[0m\u001b[0;34m,\u001b[0m \u001b[0mself\u001b[0m\u001b[0;34m,\u001b[0m \u001b[0martists\u001b[0m\u001b[0;34m)\u001b[0m\u001b[0;34m\u001b[0m\u001b[0;34m\u001b[0m\u001b[0m\n\u001b[0m\u001b[1;32m   2748\u001b[0m \u001b[0;34m\u001b[0m\u001b[0m\n\u001b[1;32m   2749\u001b[0m         \u001b[0mrenderer\u001b[0m\u001b[0;34m.\u001b[0m\u001b[0mclose_group\u001b[0m\u001b[0;34m(\u001b[0m\u001b[0;34m'axes'\u001b[0m\u001b[0;34m)\u001b[0m\u001b[0;34m\u001b[0m\u001b[0;34m\u001b[0m\u001b[0m\n",
      "\u001b[0;32m/usr/lib/python3/dist-packages/matplotlib/image.py\u001b[0m in \u001b[0;36m_draw_list_compositing_images\u001b[0;34m(renderer, parent, artists, suppress_composite)\u001b[0m\n\u001b[1;32m    129\u001b[0m     \u001b[0;32mif\u001b[0m \u001b[0mnot_composite\u001b[0m \u001b[0;32mor\u001b[0m \u001b[0;32mnot\u001b[0m \u001b[0mhas_images\u001b[0m\u001b[0;34m:\u001b[0m\u001b[0;34m\u001b[0m\u001b[0;34m\u001b[0m\u001b[0m\n\u001b[1;32m    130\u001b[0m         \u001b[0;32mfor\u001b[0m \u001b[0ma\u001b[0m \u001b[0;32min\u001b[0m \u001b[0martists\u001b[0m\u001b[0;34m:\u001b[0m\u001b[0;34m\u001b[0m\u001b[0;34m\u001b[0m\u001b[0m\n\u001b[0;32m--> 131\u001b[0;31m             \u001b[0ma\u001b[0m\u001b[0;34m.\u001b[0m\u001b[0mdraw\u001b[0m\u001b[0;34m(\u001b[0m\u001b[0mrenderer\u001b[0m\u001b[0;34m)\u001b[0m\u001b[0;34m\u001b[0m\u001b[0;34m\u001b[0m\u001b[0m\n\u001b[0m\u001b[1;32m    132\u001b[0m     \u001b[0;32melse\u001b[0m\u001b[0;34m:\u001b[0m\u001b[0;34m\u001b[0m\u001b[0;34m\u001b[0m\u001b[0m\n\u001b[1;32m    133\u001b[0m         \u001b[0;31m# Composite any adjacent images together\u001b[0m\u001b[0;34m\u001b[0m\u001b[0;34m\u001b[0m\u001b[0;34m\u001b[0m\u001b[0m\n",
      "\u001b[0;32m/usr/lib/python3/dist-packages/matplotlib/artist.py\u001b[0m in \u001b[0;36mdraw_wrapper\u001b[0;34m(artist, renderer, *args, **kwargs)\u001b[0m\n\u001b[1;32m     39\u001b[0m                 \u001b[0mrenderer\u001b[0m\u001b[0;34m.\u001b[0m\u001b[0mstart_filter\u001b[0m\u001b[0;34m(\u001b[0m\u001b[0;34m)\u001b[0m\u001b[0;34m\u001b[0m\u001b[0;34m\u001b[0m\u001b[0m\n\u001b[1;32m     40\u001b[0m \u001b[0;34m\u001b[0m\u001b[0m\n\u001b[0;32m---> 41\u001b[0;31m             \u001b[0;32mreturn\u001b[0m \u001b[0mdraw\u001b[0m\u001b[0;34m(\u001b[0m\u001b[0martist\u001b[0m\u001b[0;34m,\u001b[0m \u001b[0mrenderer\u001b[0m\u001b[0;34m,\u001b[0m \u001b[0;34m*\u001b[0m\u001b[0margs\u001b[0m\u001b[0;34m,\u001b[0m \u001b[0;34m**\u001b[0m\u001b[0mkwargs\u001b[0m\u001b[0;34m)\u001b[0m\u001b[0;34m\u001b[0m\u001b[0;34m\u001b[0m\u001b[0m\n\u001b[0m\u001b[1;32m     42\u001b[0m         \u001b[0;32mfinally\u001b[0m\u001b[0;34m:\u001b[0m\u001b[0;34m\u001b[0m\u001b[0;34m\u001b[0m\u001b[0m\n\u001b[1;32m     43\u001b[0m             \u001b[0;32mif\u001b[0m \u001b[0martist\u001b[0m\u001b[0;34m.\u001b[0m\u001b[0mget_agg_filter\u001b[0m\u001b[0;34m(\u001b[0m\u001b[0;34m)\u001b[0m \u001b[0;32mis\u001b[0m \u001b[0;32mnot\u001b[0m \u001b[0;32mNone\u001b[0m\u001b[0;34m:\u001b[0m\u001b[0;34m\u001b[0m\u001b[0;34m\u001b[0m\u001b[0m\n",
      "\u001b[0;32m/usr/lib/python3/dist-packages/matplotlib/lines.py\u001b[0m in \u001b[0;36mdraw\u001b[0;34m(self, renderer)\u001b[0m\n\u001b[1;32m    758\u001b[0m         \u001b[0mrenderer\u001b[0m\u001b[0;34m.\u001b[0m\u001b[0mopen_group\u001b[0m\u001b[0;34m(\u001b[0m\u001b[0;34m'line2d'\u001b[0m\u001b[0;34m,\u001b[0m \u001b[0mself\u001b[0m\u001b[0;34m.\u001b[0m\u001b[0mget_gid\u001b[0m\u001b[0;34m(\u001b[0m\u001b[0;34m)\u001b[0m\u001b[0;34m)\u001b[0m\u001b[0;34m\u001b[0m\u001b[0;34m\u001b[0m\u001b[0m\n\u001b[1;32m    759\u001b[0m         \u001b[0;32mif\u001b[0m \u001b[0mself\u001b[0m\u001b[0;34m.\u001b[0m\u001b[0m_lineStyles\u001b[0m\u001b[0;34m[\u001b[0m\u001b[0mself\u001b[0m\u001b[0;34m.\u001b[0m\u001b[0m_linestyle\u001b[0m\u001b[0;34m]\u001b[0m \u001b[0;34m!=\u001b[0m \u001b[0;34m'_draw_nothing'\u001b[0m\u001b[0;34m:\u001b[0m\u001b[0;34m\u001b[0m\u001b[0;34m\u001b[0m\u001b[0m\n\u001b[0;32m--> 760\u001b[0;31m             tpath, affine = (self._get_transformed_path()\n\u001b[0m\u001b[1;32m    761\u001b[0m                              .get_transformed_path_and_affine())\n\u001b[1;32m    762\u001b[0m             \u001b[0;32mif\u001b[0m \u001b[0mlen\u001b[0m\u001b[0;34m(\u001b[0m\u001b[0mtpath\u001b[0m\u001b[0;34m.\u001b[0m\u001b[0mvertices\u001b[0m\u001b[0;34m)\u001b[0m\u001b[0;34m:\u001b[0m\u001b[0;34m\u001b[0m\u001b[0;34m\u001b[0m\u001b[0m\n",
      "\u001b[0;32m/usr/lib/python3/dist-packages/matplotlib/transforms.py\u001b[0m in \u001b[0;36mget_transformed_path_and_affine\u001b[0;34m(self)\u001b[0m\n\u001b[1;32m   2709\u001b[0m         \u001b[0mthe\u001b[0m \u001b[0mpath\u001b[0m \u001b[0mnecessary\u001b[0m \u001b[0mto\u001b[0m \u001b[0mcomplete\u001b[0m \u001b[0mthe\u001b[0m \u001b[0mtransformation\u001b[0m\u001b[0;34m.\u001b[0m\u001b[0;34m\u001b[0m\u001b[0;34m\u001b[0m\u001b[0m\n\u001b[1;32m   2710\u001b[0m         \"\"\"\n\u001b[0;32m-> 2711\u001b[0;31m         \u001b[0mself\u001b[0m\u001b[0;34m.\u001b[0m\u001b[0m_revalidate\u001b[0m\u001b[0;34m(\u001b[0m\u001b[0;34m)\u001b[0m\u001b[0;34m\u001b[0m\u001b[0;34m\u001b[0m\u001b[0m\n\u001b[0m\u001b[1;32m   2712\u001b[0m         \u001b[0;32mreturn\u001b[0m \u001b[0mself\u001b[0m\u001b[0;34m.\u001b[0m\u001b[0m_transformed_path\u001b[0m\u001b[0;34m,\u001b[0m \u001b[0mself\u001b[0m\u001b[0;34m.\u001b[0m\u001b[0mget_affine\u001b[0m\u001b[0;34m(\u001b[0m\u001b[0;34m)\u001b[0m\u001b[0;34m\u001b[0m\u001b[0;34m\u001b[0m\u001b[0m\n\u001b[1;32m   2713\u001b[0m \u001b[0;34m\u001b[0m\u001b[0m\n",
      "\u001b[0;32m/usr/lib/python3/dist-packages/matplotlib/transforms.py\u001b[0m in \u001b[0;36m_revalidate\u001b[0;34m(self)\u001b[0m\n\u001b[1;32m   2685\u001b[0m                 or self._transformed_path is None):\n\u001b[1;32m   2686\u001b[0m             \u001b[0mself\u001b[0m\u001b[0;34m.\u001b[0m\u001b[0m_transformed_path\u001b[0m \u001b[0;34m=\u001b[0m\u001b[0;31m \u001b[0m\u001b[0;31m\\\u001b[0m\u001b[0;34m\u001b[0m\u001b[0;34m\u001b[0m\u001b[0m\n\u001b[0;32m-> 2687\u001b[0;31m                 \u001b[0mself\u001b[0m\u001b[0;34m.\u001b[0m\u001b[0m_transform\u001b[0m\u001b[0;34m.\u001b[0m\u001b[0mtransform_path_non_affine\u001b[0m\u001b[0;34m(\u001b[0m\u001b[0mself\u001b[0m\u001b[0;34m.\u001b[0m\u001b[0m_path\u001b[0m\u001b[0;34m)\u001b[0m\u001b[0;34m\u001b[0m\u001b[0;34m\u001b[0m\u001b[0m\n\u001b[0m\u001b[1;32m   2688\u001b[0m             \u001b[0mself\u001b[0m\u001b[0;34m.\u001b[0m\u001b[0m_transformed_points\u001b[0m \u001b[0;34m=\u001b[0m\u001b[0;31m \u001b[0m\u001b[0;31m\\\u001b[0m\u001b[0;34m\u001b[0m\u001b[0;34m\u001b[0m\u001b[0m\n\u001b[1;32m   2689\u001b[0m                 Path._fast_from_codes_and_verts(\n",
      "\u001b[0;32m/usr/lib/python3/dist-packages/matplotlib/transforms.py\u001b[0m in \u001b[0;36mtransform_path_non_affine\u001b[0;34m(self, path)\u001b[0m\n\u001b[1;32m   2359\u001b[0m             \u001b[0;32mreturn\u001b[0m \u001b[0mpath\u001b[0m\u001b[0;34m\u001b[0m\u001b[0;34m\u001b[0m\u001b[0m\n\u001b[1;32m   2360\u001b[0m         \u001b[0;32melif\u001b[0m \u001b[0;32mnot\u001b[0m \u001b[0mself\u001b[0m\u001b[0;34m.\u001b[0m\u001b[0m_a\u001b[0m\u001b[0;34m.\u001b[0m\u001b[0mis_affine\u001b[0m \u001b[0;32mand\u001b[0m \u001b[0mself\u001b[0m\u001b[0;34m.\u001b[0m\u001b[0m_b\u001b[0m\u001b[0;34m.\u001b[0m\u001b[0mis_affine\u001b[0m\u001b[0;34m:\u001b[0m\u001b[0;34m\u001b[0m\u001b[0;34m\u001b[0m\u001b[0m\n\u001b[0;32m-> 2361\u001b[0;31m             \u001b[0;32mreturn\u001b[0m \u001b[0mself\u001b[0m\u001b[0;34m.\u001b[0m\u001b[0m_a\u001b[0m\u001b[0;34m.\u001b[0m\u001b[0mtransform_path_non_affine\u001b[0m\u001b[0;34m(\u001b[0m\u001b[0mpath\u001b[0m\u001b[0;34m)\u001b[0m\u001b[0;34m\u001b[0m\u001b[0;34m\u001b[0m\u001b[0m\n\u001b[0m\u001b[1;32m   2362\u001b[0m         \u001b[0;32melse\u001b[0m\u001b[0;34m:\u001b[0m\u001b[0;34m\u001b[0m\u001b[0;34m\u001b[0m\u001b[0m\n\u001b[1;32m   2363\u001b[0m             return self._b.transform_path_non_affine(\n",
      "\u001b[0;32m/usr/lib/python3/dist-packages/matplotlib/transforms.py\u001b[0m in \u001b[0;36mtransform_path_non_affine\u001b[0;34m(self, path)\u001b[0m\n\u001b[1;32m   2361\u001b[0m             \u001b[0;32mreturn\u001b[0m \u001b[0mself\u001b[0m\u001b[0;34m.\u001b[0m\u001b[0m_a\u001b[0m\u001b[0;34m.\u001b[0m\u001b[0mtransform_path_non_affine\u001b[0m\u001b[0;34m(\u001b[0m\u001b[0mpath\u001b[0m\u001b[0;34m)\u001b[0m\u001b[0;34m\u001b[0m\u001b[0;34m\u001b[0m\u001b[0m\n\u001b[1;32m   2362\u001b[0m         \u001b[0;32melse\u001b[0m\u001b[0;34m:\u001b[0m\u001b[0;34m\u001b[0m\u001b[0;34m\u001b[0m\u001b[0m\n\u001b[0;32m-> 2363\u001b[0;31m             return self._b.transform_path_non_affine(\n\u001b[0m\u001b[1;32m   2364\u001b[0m                                     self._a.transform_path(path))\n\u001b[1;32m   2365\u001b[0m \u001b[0;34m\u001b[0m\u001b[0m\n",
      "\u001b[0;32m/usr/lib/python3/dist-packages/matplotlib/projections/polar.py\u001b[0m in \u001b[0;36mtransform_path_non_affine\u001b[0;34m(self, path)\u001b[0m\n\u001b[1;32m     52\u001b[0m         \u001b[0;31m# docstring inherited\u001b[0m\u001b[0;34m\u001b[0m\u001b[0;34m\u001b[0m\u001b[0;34m\u001b[0m\u001b[0m\n\u001b[1;32m     53\u001b[0m         \u001b[0;32mif\u001b[0m \u001b[0;32mnot\u001b[0m \u001b[0mlen\u001b[0m\u001b[0;34m(\u001b[0m\u001b[0mpath\u001b[0m\u001b[0;34m)\u001b[0m \u001b[0;32mor\u001b[0m \u001b[0mpath\u001b[0m\u001b[0;34m.\u001b[0m\u001b[0m_interpolation_steps\u001b[0m \u001b[0;34m==\u001b[0m \u001b[0;36m1\u001b[0m\u001b[0;34m:\u001b[0m\u001b[0;34m\u001b[0m\u001b[0;34m\u001b[0m\u001b[0m\n\u001b[0;32m---> 54\u001b[0;31m             \u001b[0;32mreturn\u001b[0m \u001b[0mPath\u001b[0m\u001b[0;34m(\u001b[0m\u001b[0mself\u001b[0m\u001b[0;34m.\u001b[0m\u001b[0mtransform_non_affine\u001b[0m\u001b[0;34m(\u001b[0m\u001b[0mpath\u001b[0m\u001b[0;34m.\u001b[0m\u001b[0mvertices\u001b[0m\u001b[0;34m)\u001b[0m\u001b[0;34m,\u001b[0m \u001b[0mpath\u001b[0m\u001b[0;34m.\u001b[0m\u001b[0mcodes\u001b[0m\u001b[0;34m)\u001b[0m\u001b[0;34m\u001b[0m\u001b[0;34m\u001b[0m\u001b[0m\n\u001b[0m\u001b[1;32m     55\u001b[0m         \u001b[0mxys\u001b[0m \u001b[0;34m=\u001b[0m \u001b[0;34m[\u001b[0m\u001b[0;34m]\u001b[0m\u001b[0;34m\u001b[0m\u001b[0;34m\u001b[0m\u001b[0m\n\u001b[1;32m     56\u001b[0m         \u001b[0mcodes\u001b[0m \u001b[0;34m=\u001b[0m \u001b[0;34m[\u001b[0m\u001b[0;34m]\u001b[0m\u001b[0;34m\u001b[0m\u001b[0;34m\u001b[0m\u001b[0m\n",
      "\u001b[0;32m/usr/lib/python3/dist-packages/matplotlib/projections/polar.py\u001b[0m in \u001b[0;36mtransform_non_affine\u001b[0;34m(self, tr)\u001b[0m\n\u001b[1;32m     45\u001b[0m             \u001b[0mt\u001b[0m \u001b[0;34m+=\u001b[0m \u001b[0mself\u001b[0m\u001b[0;34m.\u001b[0m\u001b[0m_axis\u001b[0m\u001b[0;34m.\u001b[0m\u001b[0mget_theta_offset\u001b[0m\u001b[0;34m(\u001b[0m\u001b[0;34m)\u001b[0m\u001b[0;34m\u001b[0m\u001b[0;34m\u001b[0m\u001b[0m\n\u001b[1;32m     46\u001b[0m         \u001b[0;32mif\u001b[0m \u001b[0mself\u001b[0m\u001b[0;34m.\u001b[0m\u001b[0m_use_rmin\u001b[0m \u001b[0;32mand\u001b[0m \u001b[0mself\u001b[0m\u001b[0;34m.\u001b[0m\u001b[0m_axis\u001b[0m \u001b[0;32mis\u001b[0m \u001b[0;32mnot\u001b[0m \u001b[0;32mNone\u001b[0m\u001b[0;34m:\u001b[0m\u001b[0;34m\u001b[0m\u001b[0;34m\u001b[0m\u001b[0m\n\u001b[0;32m---> 47\u001b[0;31m             \u001b[0mr\u001b[0m \u001b[0;34m=\u001b[0m \u001b[0;34m(\u001b[0m\u001b[0mr\u001b[0m \u001b[0;34m-\u001b[0m \u001b[0mself\u001b[0m\u001b[0;34m.\u001b[0m\u001b[0m_axis\u001b[0m\u001b[0;34m.\u001b[0m\u001b[0mget_rorigin\u001b[0m\u001b[0;34m(\u001b[0m\u001b[0;34m)\u001b[0m\u001b[0;34m)\u001b[0m \u001b[0;34m*\u001b[0m \u001b[0mself\u001b[0m\u001b[0;34m.\u001b[0m\u001b[0m_axis\u001b[0m\u001b[0;34m.\u001b[0m\u001b[0mget_rsign\u001b[0m\u001b[0;34m(\u001b[0m\u001b[0;34m)\u001b[0m\u001b[0;34m\u001b[0m\u001b[0;34m\u001b[0m\u001b[0m\n\u001b[0m\u001b[1;32m     48\u001b[0m         \u001b[0mr\u001b[0m \u001b[0;34m=\u001b[0m \u001b[0mnp\u001b[0m\u001b[0;34m.\u001b[0m\u001b[0mwhere\u001b[0m\u001b[0;34m(\u001b[0m\u001b[0mr\u001b[0m \u001b[0;34m>=\u001b[0m \u001b[0;36m0\u001b[0m\u001b[0;34m,\u001b[0m \u001b[0mr\u001b[0m\u001b[0;34m,\u001b[0m \u001b[0mnp\u001b[0m\u001b[0;34m.\u001b[0m\u001b[0mnan\u001b[0m\u001b[0;34m)\u001b[0m\u001b[0;34m\u001b[0m\u001b[0;34m\u001b[0m\u001b[0m\n\u001b[1;32m     49\u001b[0m         \u001b[0;32mreturn\u001b[0m \u001b[0mnp\u001b[0m\u001b[0;34m.\u001b[0m\u001b[0mcolumn_stack\u001b[0m\u001b[0;34m(\u001b[0m\u001b[0;34m[\u001b[0m\u001b[0mr\u001b[0m \u001b[0;34m*\u001b[0m \u001b[0mnp\u001b[0m\u001b[0;34m.\u001b[0m\u001b[0mcos\u001b[0m\u001b[0;34m(\u001b[0m\u001b[0mt\u001b[0m\u001b[0;34m)\u001b[0m\u001b[0;34m,\u001b[0m \u001b[0mr\u001b[0m \u001b[0;34m*\u001b[0m \u001b[0mnp\u001b[0m\u001b[0;34m.\u001b[0m\u001b[0msin\u001b[0m\u001b[0;34m(\u001b[0m\u001b[0mt\u001b[0m\u001b[0;34m)\u001b[0m\u001b[0;34m]\u001b[0m\u001b[0;34m)\u001b[0m\u001b[0;34m\u001b[0m\u001b[0;34m\u001b[0m\u001b[0m\n",
      "\u001b[0;32m/usr/lib/python3/dist-packages/matplotlib/projections/polar.py\u001b[0m in \u001b[0;36mget_rorigin\u001b[0;34m(self)\u001b[0m\n\u001b[1;32m   1194\u001b[0m         \u001b[0mfloat\u001b[0m\u001b[0;34m\u001b[0m\u001b[0;34m\u001b[0m\u001b[0m\n\u001b[1;32m   1195\u001b[0m         \"\"\"\n\u001b[0;32m-> 1196\u001b[0;31m         \u001b[0;32mreturn\u001b[0m \u001b[0mself\u001b[0m\u001b[0;34m.\u001b[0m\u001b[0m_originViewLim\u001b[0m\u001b[0;34m.\u001b[0m\u001b[0my0\u001b[0m\u001b[0;34m\u001b[0m\u001b[0;34m\u001b[0m\u001b[0m\n\u001b[0m\u001b[1;32m   1197\u001b[0m \u001b[0;34m\u001b[0m\u001b[0m\n\u001b[1;32m   1198\u001b[0m     \u001b[0;32mdef\u001b[0m \u001b[0mget_rsign\u001b[0m\u001b[0;34m(\u001b[0m\u001b[0mself\u001b[0m\u001b[0;34m)\u001b[0m\u001b[0;34m:\u001b[0m\u001b[0;34m\u001b[0m\u001b[0;34m\u001b[0m\u001b[0m\n",
      "\u001b[0;31mKeyboardInterrupt\u001b[0m: "
     ]
    }
   ],
   "source": [
    "# grow\n",
    "n=4444\n",
    "n_pad = str(n).zfill(4)\n",
    "\n",
    "cmap_name = 'inferno'\n",
    "cmap = mp.cm.get_cmap(cmap_name)\n",
    "\n",
    "cycles = 5\n",
    "cycles_pad = str(cycles).zfill(4)\n",
    "\n",
    "out = f'out/{cmap_name}-{cycles_pad}'\n",
    "if not os.path.isdir(out):\n",
    "    os.mkdir(out)\n",
    "\n",
    "for n in range(445,n+1):\n",
    "    n_pad = str(n).zfill(4)\n",
    "    \n",
    "    plt.cla()\n",
    "    plt_init_polar()\n",
    "    ax.set_title(f'G E O M E T O R • {cmap_name} • n: {n_pad} • cycles: {cycles}', fontdict={'color': '#960', 'size':'small'})\n",
    "    ax.set_axis_off()\n",
    "\n",
    "    spiral(n, cmap=cmap, color_cycle=cycles)\n",
    "    plt.savefig(f'{out}/{cmap_name}-{cycles_pad}-{n_pad}.png', dpi=300)\n"
   ]
  },
  {
   "cell_type": "code",
   "execution_count": 21,
   "id": "31240bbd-7eb1-407f-908d-d817b577fb63",
   "metadata": {},
   "outputs": [],
   "source": [
    "# anmiate the number of cycles over a fixed size\n",
    "n=444\n",
    "n_pad = str(n).zfill(4)\n",
    "\n",
    "cmap_name = 'PiYG'\n",
    "cmap = mp.cm.get_cmap(cmap_name)\n",
    "\n",
    "out = f'out/{cmap_name}-{n_pad}'\n",
    "if not os.path.isdir(out):\n",
    "    os.mkdir(out)\n",
    "\n",
    "for cycle in range(1, n+1):\n",
    "    cycle_pad = str(cycle).zfill(4)\n",
    "    plt.cla()\n",
    "    plt_init_polar()\n",
    "    ax.set_title(f'G E O M E T O R • {cmap_name} • n: {n_pad} • cycle: {cycle_pad}', fontdict={'color': '#960', 'size':'small'})\n",
    "    ax.set_axis_off()\n",
    "\n",
    "    spiral(n, color_map=cmap, color_cycles=cycle, rev=True)\n",
    "    plt.draw()\n",
    "    plt.savefig(f'{out}/{cmap_name}-{n_pad}-{cycle_pad}.png', dpi=300)\n"
   ]
  },
  {
   "cell_type": "code",
   "execution_count": 26,
   "id": "c86ce8d7-6207-4b34-aebc-8984465f190f",
   "metadata": {},
   "outputs": [],
   "source": [
    "# rotate the cycle offset  over a fixed size and number of cycles\n",
    "n=444\n",
    "n_pad = str(n).zfill(4)\n",
    "\n",
    "cycles=55\n",
    "cycles_pad = str(cycles).zfill(4)\n",
    "\n",
    "cmap_name = 'hsv'\n",
    "cmap = mp.cm.get_cmap(cmap_name)\n",
    "\n",
    "out = f'out/rotate'\n",
    "if not os.path.isdir(out):\n",
    "    os.mkdir(out)\n",
    "\n",
    "for offset in range(cycles):\n",
    "    plt.cla()\n",
    "    plt_init_polar()\n",
    "    ax.set_title(f'G E O M E T O R • {cmap_name} • n: {n_pad} • cycles: {cycles_pad} • offset: {offset}', fontdict={'color': '#960', 'size':'small'})\n",
    "    ax.set_axis_off()\n",
    "\n",
    "    spiral(n, color_map=cmap, color_cycles=cycles, offset=offset)\n",
    "    plt.draw()\n",
    "    plt.savefig(f'{out}/{cmap_name}-{n_pad}-{cycles_pad}-{str(offset).zfill(4)}.png', dpi=300)\n"
   ]
  },
  {
   "cell_type": "code",
   "execution_count": 3,
   "id": "7e3561dc-1106-4905-8cc1-446bcb070672",
   "metadata": {},
   "outputs": [
    {
     "ename": "FileNotFoundError",
     "evalue": "[Errno 2] No such file or directory: 'out/rotate'",
     "output_type": "error",
     "traceback": [
      "\u001b[0;31m---------------------------------------------------------------------------\u001b[0m",
      "\u001b[0;31mFileNotFoundError\u001b[0m                         Traceback (most recent call last)",
      "\u001b[0;32m/tmp/ipykernel_30888/2022395259.py\u001b[0m in \u001b[0;36m<module>\u001b[0;34m\u001b[0m\n\u001b[1;32m     11\u001b[0m \u001b[0mout\u001b[0m \u001b[0;34m=\u001b[0m \u001b[0;34mf'out/rotate'\u001b[0m\u001b[0;34m\u001b[0m\u001b[0;34m\u001b[0m\u001b[0m\n\u001b[1;32m     12\u001b[0m \u001b[0;32mif\u001b[0m \u001b[0;32mnot\u001b[0m \u001b[0mos\u001b[0m\u001b[0;34m.\u001b[0m\u001b[0mpath\u001b[0m\u001b[0;34m.\u001b[0m\u001b[0misdir\u001b[0m\u001b[0;34m(\u001b[0m\u001b[0mout\u001b[0m\u001b[0;34m)\u001b[0m\u001b[0;34m:\u001b[0m\u001b[0;34m\u001b[0m\u001b[0;34m\u001b[0m\u001b[0m\n\u001b[0;32m---> 13\u001b[0;31m     \u001b[0mos\u001b[0m\u001b[0;34m.\u001b[0m\u001b[0mmkdir\u001b[0m\u001b[0;34m(\u001b[0m\u001b[0mout\u001b[0m\u001b[0;34m)\u001b[0m\u001b[0;34m\u001b[0m\u001b[0;34m\u001b[0m\u001b[0m\n\u001b[0m\u001b[1;32m     14\u001b[0m \u001b[0;34m\u001b[0m\u001b[0m\n\u001b[1;32m     15\u001b[0m \u001b[0;32mfor\u001b[0m \u001b[0moffset\u001b[0m \u001b[0;32min\u001b[0m \u001b[0mrange\u001b[0m\u001b[0;34m(\u001b[0m\u001b[0mcycles\u001b[0m\u001b[0;34m)\u001b[0m\u001b[0;34m:\u001b[0m\u001b[0;34m\u001b[0m\u001b[0;34m\u001b[0m\u001b[0m\n",
      "\u001b[0;31mFileNotFoundError\u001b[0m: [Errno 2] No such file or directory: 'out/rotate'"
     ]
    }
   ],
   "source": [
    "# rotate the cycle offset  over a fixed size and number of cycles\n",
    "n=444\n",
    "n_pad = str(n).zfill(4)\n",
    "\n",
    "cycles=55\n",
    "cycles_pad = str(cycles).zfill(4)\n",
    "\n",
    "cmap_name = 'hsv'\n",
    "cmap = mp.cm.get_cmap(cmap_name)\n",
    "\n",
    "out = f'out/rotate'\n",
    "if not os.path.isdir(out):\n",
    "    os.mkdir(out)\n",
    "\n",
    "for offset in range(cycles):\n",
    "    plt.cla()\n",
    "    plt_init_polar()\n",
    "    ax.set_title(f'G E O M E T O R • {cmap_name} • n: {n_pad} • cycles: {cycles_pad} • offset: {offset}', fontdict={'color': '#960', 'size':'small'})\n",
    "    ax.set_axis_off()\n",
    "\n",
    "    spiral(n, color_map=cmap, color_cycles=cycles, offset=offset)\n",
    "    plt.draw()\n",
    "    plt.savefig(f'{out}/{cmap_name}-{n_pad}-{cycles_pad}-{str(offset).zfill(4)}.png', dpi=300)\n"
   ]
  },
  {
   "cell_type": "code",
   "execution_count": 4,
   "id": "38b2e76a-6946-494d-b58b-4b340703307f",
   "metadata": {},
   "outputs": [
    {
     "name": "stdout",
     "output_type": "stream",
     "text": [
      "count: 576\n",
      "generation complete\n"
     ]
    },
    {
     "data": {
      "image/png": "[encoded data removed]",
      "text/latex": [
       "$\\displaystyle 576$"
      ],
      "text/plain": [
       "576"
      ]
     },
     "execution_count": 4,
     "metadata": {},
     "output_type": "execute_result"
    }
   ],
   "source": [
    "# grow to n points for each color cycle up to n\n",
    "# - with Pool\n",
    "\n",
    "def spiral_params(params):\n",
    "    '''take params in single dict for multiprocessing'''\n",
    "    n = params['n']\n",
    "    n_pad = str(n).zfill(4)\n",
    "    color_cycle = params['color_cycle']\n",
    "    cycle_pad = str(color_cycle).zfill(4)\n",
    "    cmap = params['cmap']\n",
    "    \n",
    "    plt.cla()\n",
    "    plt_init_polar()\n",
    "    \n",
    "    title = f'G E O M E T O R • {cmap.name} • cycle: {cycle_pad} • n: {n_pad}'\n",
    "    ax.set_title(title, fontdict={'color': '#960', 'size':'small'})\n",
    "    ax.set_axis_off()\n",
    "    \n",
    "    spiral(n=n, cmap=cmap, color_cycle=color_cycle)\n",
    "    \n",
    "    out = f'out/{cmap_name}-{cycle_pad}'\n",
    "    if not os.path.isdir(out):\n",
    "        os.mkdir(out)\n",
    "    filename = f'{out}/{cmap_name}-{cycle_pad}-{n_pad}.png'\n",
    "    plt.savefig(filename, dpi=300)\n",
    "    return filename\n",
    "\n",
    "cmap_name = 'hot'\n",
    "cmap = mp.cm.get_cmap(cmap_name)\n",
    "\n",
    "generations = []\n",
    "\n",
    "for cycle in range(5, 6):\n",
    "    for i in range(1,145):\n",
    "        gen = {'n': i, 'cmap': cmap, 'color_cycle': cycle} \n",
    "        generations.append(gen)\n",
    "        \n",
    "print(f'count: {len(generations)}')\n",
    "        \n",
    "with Pool(num_workers) as pool:\n",
    "    results = pool.map(spiral_params, generations)\n",
    "print(\"generation complete\")\n",
    "len(results)\n"
   ]
  },
  {
   "cell_type": "code",
   "execution_count": 21,
   "id": "2e35d72b-2c0f-4b94-b0b0-09c465db4bfc",
   "metadata": {},
   "outputs": [
    {
     "name": "stdout",
     "output_type": "stream",
     "text": [
      "610\n"
     ]
    },
    {
     "data": {
      "image/png": "[encoded data removed]",
      "text/latex": [
       "$\\displaystyle 610$"
      ],
      "text/plain": [
       "610"
      ]
     },
     "execution_count": 21,
     "metadata": {},
     "output_type": "execute_result"
    }
   ],
   "source": [
    "# rotate the cycle offset  over a fixed size and number of cycles\n",
    "def spiral_rotate(params):\n",
    "    '''take params in single dict for multiprocessing'''\n",
    "    n = params['n']\n",
    "    n_pad = str(n).zfill(4)\n",
    "    \n",
    "    color_cycle = params['color_cycle']\n",
    "    cycle_pad = str(color_cycle).zfill(4)\n",
    "    \n",
    "    offset = params['offset']\n",
    "    offset_pad = str(offset).zfill(4)\n",
    "    \n",
    "    cmap = params['cmap']\n",
    "    \n",
    "    plt.cla()\n",
    "    plt_init_polar()\n",
    "    \n",
    "    title = f'G E O M E T O R • {cmap.name} • n: {n_pad} • cycle: {cycle_pad}-{offset_pad}'\n",
    "    ax.set_title(title, fontdict={'color': '#960', 'size':'small'})\n",
    "    ax.set_axis_off()\n",
    "    \n",
    "    spiral(n=n, cmap=cmap, color_cycle=color_cycle, offset=offset)\n",
    "    \n",
    "    filename = f'{out}/{cmap_name}-{n_pad}-{cycle_pad}-{offset_pad}.png'\n",
    "    plt.savefig(filename, dpi=300)\n",
    "    return filename\n",
    "\n",
    "n=1220\n",
    "\n",
    "color_cycle=610\n",
    "\n",
    "cmap_name = 'hot'\n",
    "cmap = mp.cm.get_cmap(cmap_name)\n",
    "\n",
    "out = f'out/rotate2'\n",
    "if not os.path.isdir(out):\n",
    "    os.mkdir(out)\n",
    "\n",
    "generations = []\n",
    "\n",
    "for offset in range(color_cycle):\n",
    "    gen = {'n': n, 'cmap': cmap, 'color_cycle': color_cycle, 'offset': offset} \n",
    "    generations.append(gen)\n",
    "        \n",
    "print(len(generations))\n",
    "        \n",
    "\n",
    "with Pool(num_workers) as pool:\n",
    "    results = pool.map(spiral_rotate, generations)\n",
    "\n",
    "len(results)\n"
   ]
  },
  {
   "cell_type": "code",
   "execution_count": null,
   "id": "db8d8854-a8dd-454f-af28-c60b552cf8dd",
   "metadata": {},
   "outputs": [],
   "source": []
  }
 ],
 "metadata": {
  "kernelspec": {
   "display_name": "Python 3 (ipykernel)",
   "language": "python",
   "name": "python3"
  },
  "language_info": {
   "codemirror_mode": {
    "name": "ipython",
    "version": 3
   },
   "file_extension": ".py",
   "mimetype": "text/x-python",
   "name": "python",
   "nbconvert_exporter": "python",
   "pygments_lexer": "ipython3",
   "version": "3.9.2"
  }
 },
 "nbformat": 4,
 "nbformat_minor": 5
}
